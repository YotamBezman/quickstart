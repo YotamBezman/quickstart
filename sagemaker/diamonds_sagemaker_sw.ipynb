{
 "cells": [
  {
   "cell_type": "markdown",
   "metadata": {},
   "source": [
    "# Getting started with Superwise.ai on AWS Sagemaker\n",
    "\n",
    "In this notebook, we will demonstrate how to integrate a Sagemaker based development workflow with Superwise.ai\n",
    "\n",
    "Part I of this notebook walks you through building a classical Linear Regression model for predicting diamond prices, using Sci-kit learn on SageMaker. \n",
    "It is based on [AWS Sagemaker's example for building a Scikit-Learn model](https://github.com/aws/amazon-sagemaker-examples/blob/master/sagemaker-python-sdk/scikit_learn_randomforest/Sklearn_on_SageMaker_end2end.ipynb).\n",
    "\n",
    "Part II of this notebook will walk you through how to setup Superwise.ai to start tracking your model, by registering and providing a baseline for the model's behavior.\n",
    "\n",
    "Part III will demonstrate how to send new predictions from your model to Superwise.ai, simulating a post-deployment scenario.\n",
    "\n",
    "At this point, you should be able to start seeing insights from Superwise.ai in the web portal.\n"
   ]
  },
  {
   "cell_type": "markdown",
   "metadata": {},
   "source": [
    "## Part I - building a Sagemaker Model to predict diamond prices\n",
    "\n",
    "This is a classical LinearRegression mode, that uses a publicly available dataset.\n",
    "\n",
    "This guide is based on the best practices from [AWS Sagemaker's example for building a Scikit-Learn model](https://github.com/aws/amazon-sagemaker-examples/blob/master/sagemaker-python-sdk/scikit_learn_randomforest/Sklearn_on_SageMaker_end2end.ipynb)\n"
   ]
  },
  {
   "cell_type": "markdown",
   "metadata": {},
   "source": [
    "### Prerequisites\n",
    "\n",
    "1. A Superwise.ai account that enables you to login and view insights\n",
    "2. A set of API keys for sending data to Superwise.ai \n",
    "3. Permissions to create models, training jobs and inference endpoints inside Sagemaker\n",
    "4. Grant Superwise.ai permissions to your SageMaker bucket #soon to be removed\n",
    "\n",
    "Note: this notebook works best when run from within a [Sagemaker's notebook](https://docs.aws.amazon.com/sagemaker/latest/dg/nbi.html) instance"
   ]
  },
  {
   "cell_type": "markdown",
   "metadata": {},
   "source": [
    "### Setup"
   ]
  },
  {
   "cell_type": "code",
   "execution_count": null,
   "metadata": {},
   "outputs": [],
   "source": [
    "# set the Superwise API Keys\n",
    "%env SUPERWISE_CLIENT_NAME=\n",
    "%env SUPERWISE_SECRET=\n",
    "%env SUPERWISE_CLIENT_ID="
   ]
  },
  {
   "cell_type": "code",
   "execution_count": 11,
   "metadata": {},
   "outputs": [
    {
     "name": "stdout",
     "output_type": "stream",
     "text": [
      "Using bucket sagemaker-us-east-2-352030274094\n"
     ]
    }
   ],
   "source": [
    "import datetime\n",
    "import time\n",
    "import tarfile\n",
    "\n",
    "\n",
    "import pandas as pd\n",
    "import numpy as np\n",
    "from sklearn.model_selection import train_test_split\n",
    "\n",
    "\n",
    "import boto3\n",
    "from sagemaker import get_execution_role\n",
    "import sagemaker\n",
    "\n",
    "\n",
    "sm_boto3 = boto3.client(\"sagemaker\")\n",
    "\n",
    "sess = sagemaker.Session()\n",
    "\n",
    "region = sess.boto_session.region_name\n",
    "\n",
    "bucket = sess.default_bucket()  # this could also be a hard-coded bucket name\n",
    "\n",
    "print(\"Using bucket \" + bucket)"
   ]
  },
  {
   "cell_type": "markdown",
   "metadata": {},
   "source": [
    "### Prepare data\n",
    "We load a dataset from sklearn, split it and send it to S3"
   ]
  },
  {
   "cell_type": "code",
   "execution_count": 12,
   "metadata": {},
   "outputs": [],
   "source": [
    "# we use the Diamond prices dataset \n",
    "df = pd.read_csv('https://bit.ly/36gldOJ').drop(columns=['Unnamed: 0'])"
   ]
  },
  {
   "cell_type": "code",
   "execution_count": 13,
   "metadata": {},
   "outputs": [
    {
     "name": "stdout",
     "output_type": "stream",
     "text": [
      "(53940, 10)\n"
     ]
    },
    {
     "data": {
      "text/html": [
       "<div>\n",
       "<style scoped>\n",
       "    .dataframe tbody tr th:only-of-type {\n",
       "        vertical-align: middle;\n",
       "    }\n",
       "\n",
       "    .dataframe tbody tr th {\n",
       "        vertical-align: top;\n",
       "    }\n",
       "\n",
       "    .dataframe thead th {\n",
       "        text-align: right;\n",
       "    }\n",
       "</style>\n",
       "<table border=\"1\" class=\"dataframe\">\n",
       "  <thead>\n",
       "    <tr style=\"text-align: right;\">\n",
       "      <th></th>\n",
       "      <th>carat</th>\n",
       "      <th>cut</th>\n",
       "      <th>color</th>\n",
       "      <th>clarity</th>\n",
       "      <th>depth</th>\n",
       "      <th>table</th>\n",
       "      <th>price</th>\n",
       "      <th>x</th>\n",
       "      <th>y</th>\n",
       "      <th>z</th>\n",
       "    </tr>\n",
       "  </thead>\n",
       "  <tbody>\n",
       "    <tr>\n",
       "      <th>0</th>\n",
       "      <td>0.23</td>\n",
       "      <td>Ideal</td>\n",
       "      <td>E</td>\n",
       "      <td>SI2</td>\n",
       "      <td>61.5</td>\n",
       "      <td>55.0</td>\n",
       "      <td>326</td>\n",
       "      <td>3.95</td>\n",
       "      <td>3.98</td>\n",
       "      <td>2.43</td>\n",
       "    </tr>\n",
       "    <tr>\n",
       "      <th>1</th>\n",
       "      <td>0.21</td>\n",
       "      <td>Premium</td>\n",
       "      <td>E</td>\n",
       "      <td>SI1</td>\n",
       "      <td>59.8</td>\n",
       "      <td>61.0</td>\n",
       "      <td>326</td>\n",
       "      <td>3.89</td>\n",
       "      <td>3.84</td>\n",
       "      <td>2.31</td>\n",
       "    </tr>\n",
       "    <tr>\n",
       "      <th>2</th>\n",
       "      <td>0.23</td>\n",
       "      <td>Good</td>\n",
       "      <td>E</td>\n",
       "      <td>VS1</td>\n",
       "      <td>56.9</td>\n",
       "      <td>65.0</td>\n",
       "      <td>327</td>\n",
       "      <td>4.05</td>\n",
       "      <td>4.07</td>\n",
       "      <td>2.31</td>\n",
       "    </tr>\n",
       "  </tbody>\n",
       "</table>\n",
       "</div>"
      ],
      "text/plain": [
       "   carat      cut color clarity  depth  table  price     x     y     z\n",
       "0   0.23    Ideal     E     SI2   61.5   55.0    326  3.95  3.98  2.43\n",
       "1   0.21  Premium     E     SI1   59.8   61.0    326  3.89  3.84  2.31\n",
       "2   0.23     Good     E     VS1   56.9   65.0    327  4.05  4.07  2.31"
      ]
     },
     "execution_count": 13,
     "metadata": {},
     "output_type": "execute_result"
    }
   ],
   "source": [
    "print(df.shape)\n",
    "df.head(3)"
   ]
  },
  {
   "cell_type": "markdown",
   "metadata": {},
   "source": [
    "#### Dataset Description     \n",
    "This dataset contains the prices and other attributes of almost 54,000 diamonds.  \n",
    "- price price in US dollars (\\$326--\\$18,823)  \n",
    "- carat weight of the diamond (0.2--5.01)  \n",
    "- cut quality of the cut (Fair, Good, Very Good, Premium, Ideal)  \n",
    "- color diamond colour, from J (worst) to D (best)  \n",
    "- clarity a measurement of how clear the diamond is (I1 (worst), SI2, SI1, VS2, VS1, VVS2, VVS1, IF (best))  \n",
    "- x length in mm (0--10.74)   \n",
    "- y width in mm (0--58.9)  \n",
    "- z depth in mm (0--31.8)  \n",
    "- depth total depth percentage = z / mean(x, y) = 2 * z / (x + y) (43--79)  \n"
   ]
  },
  {
   "cell_type": "markdown",
   "metadata": {},
   "source": [
    "#### Split the data intro train and test sets"
   ]
  },
  {
   "cell_type": "code",
   "execution_count": 14,
   "metadata": {},
   "outputs": [],
   "source": [
    "X = df.drop(columns=\"price\")\n",
    "y = df[\"price\"]\n",
    "\n",
    "X_train, X_test, y_train, y_test = train_test_split(X, y, test_size=0.3, random_state=42)"
   ]
  },
  {
   "cell_type": "markdown",
   "metadata": {},
   "source": [
    "#### Upload the data into S3 so that Sagemaker can access it"
   ]
  },
  {
   "cell_type": "code",
   "execution_count": 15,
   "metadata": {},
   "outputs": [],
   "source": [
    "train = X_train.copy()\n",
    "train[\"price\"] = y_train\n",
    "\n",
    "test = X_test.copy()\n",
    "test[\"price\"] = y_test\n",
    "\n",
    "train.to_csv(\"diamonds_train.csv\")\n",
    "test.to_csv(\"diamonds_test.csv\")\n",
    "\n",
    "# send data to S3. SageMaker will take training data from s3\n",
    "trainpath = sess.upload_data(\n",
    "    path=\"diamonds_train.csv\", bucket=bucket, key_prefix=\"sagemaker/sklearncontainer\"\n",
    ")\n",
    "\n",
    "testpath = sess.upload_data(\n",
    "    path=\"diamonds_test.csv\", bucket=bucket, key_prefix=\"sagemaker/sklearncontainer\"\n",
    ")\n"
   ]
  },
  {
   "cell_type": "markdown",
   "metadata": {},
   "source": [
    "### Creating the Script for Training and Inference\n",
    "The following script contains both training and inference functionality. \n",
    "\n",
    "It is designed so that it can run both in SageMaker Training hardware or locally (desktop, SageMaker notebook, on prem, etc). \n",
    "\n",
    "Detailed guidance [here](https://sagemaker.readthedocs.io/en/stable/using_sklearn.html#preparing-the-scikit-learn-training-script)\n",
    "\n",
    "**Note**\n",
    "\n",
    "In order to support the integration with Superwise.ai, our Inference API expects **a unique ID** to be sent along with the features for prediction.\n",
    "\n",
    "Later on, this ID will be sent over to Superwise.ai, enabling analysis such as correlation between prediciton and late-arriving labels.\n"
   ]
  },
  {
   "cell_type": "code",
   "execution_count": 16,
   "metadata": {},
   "outputs": [
    {
     "name": "stdout",
     "output_type": "stream",
     "text": [
      "Overwriting script.py\n"
     ]
    }
   ],
   "source": [
    "%%writefile script.py\n",
    "\n",
    "import argparse\n",
    "import joblib\n",
    "import os\n",
    "from io import BytesIO\n",
    "\n",
    "import numpy as np\n",
    "import pandas as pd\n",
    "from sklearn.compose import ColumnTransformer\n",
    "from sklearn.linear_model import LinearRegression\n",
    "from sklearn.model_selection import train_test_split\n",
    "from sklearn.pipeline import Pipeline\n",
    "from sklearn.preprocessing import OneHotEncoder\n",
    "\n",
    "\n",
    "feature_column_names = [\n",
    "    'carat',\n",
    "    'cut',\n",
    "    'color',\n",
    "    'clarity', \n",
    "    'depth',\n",
    "    'table',\n",
    "    'x',\n",
    "    'y',\n",
    "    'z'\n",
    "    ]\n",
    "\n",
    "label_column = 'price'\n",
    "\n",
    "id_column = 'id_col'\n",
    "\n",
    "\n",
    "# inference functions\n",
    "def model_fn(model_dir):\n",
    "    clf = joblib.load(os.path.join(model_dir, \"model.joblib\"))\n",
    "    return clf\n",
    "\n",
    "\n",
    "def input_fn(input_data, content_type):\n",
    "    \"\"\"Parse input data payload\n",
    "\n",
    "    We expect a serialized numpy array as input.\n",
    "    The numpy array should contain, as the first column, a unique ID, followed by the feature values.\n",
    "    \"\"\"\n",
    "    if content_type == \"application/x-npy\":\n",
    "        # Read the raw input\n",
    "        load_bytes = BytesIO(input_data)\n",
    "        input_np = np.load(load_bytes, allow_pickle=True)\n",
    "        num_columns = input_np.shape[1]\n",
    "        \n",
    "        # Expect the first column to be a unique ID \n",
    "        if num_columns != len(feature_column_names) + 1: \n",
    "            raise ValueError(f\"payload needs to contain {len(feature_column_names) + 1} columns, with first column being the ID of the record\")\n",
    "        df_columns = [id_column] + feature_column_names\n",
    "        df = pd.DataFrame(data=input_np, columns=df_columns) \n",
    "        return df\n",
    "    else:\n",
    "        raise ValueError(f\"content type {content_type} is not supported by this inference endpoint. Please send a legal application/x-npy payload\")\n",
    "\n",
    "        \n",
    "# TODO - check if need to roll it back to the client or will SM track it as part of the input-output correlation\n",
    "                         \n",
    "def predict_fn(input_data, model):\n",
    "    # predict using the features\n",
    "    prediction = model.predict(input_data[feature_column_names])\n",
    "    # Concatenate the ID column to the predictions to keep track \n",
    "    return np.stack((input_data[id_column], prediction), axis=1 )\n",
    "\n",
    "\n",
    "# Model training function\n",
    "if __name__ == \"__main__\":\n",
    "\n",
    "    print(\"extracting arguments\")\n",
    "    parser = argparse.ArgumentParser()\n",
    "    \n",
    "    \n",
    "    # hyperparameters sent by the client are passed as command-line arguments to the script.\n",
    "    parser.add_argument(\"--n-jobs\", type=int, default=1)\n",
    "    \n",
    "    # Data, model, and output directories\n",
    "    parser.add_argument(\"--model-dir\", type=str, default=os.environ.get(\"SM_MODEL_DIR\"))\n",
    "    parser.add_argument(\"--train\", type=str, default=os.environ.get(\"SM_CHANNEL_TRAIN\"))\n",
    "    parser.add_argument(\"--test\", type=str, default=os.environ.get(\"SM_CHANNEL_TEST\"))\n",
    "    parser.add_argument(\"--train-file\", type=str, default=\"diamonds_train.csv\")\n",
    "    parser.add_argument(\"--test-file\", type=str, default=\"diamonds_test.csv\")\n",
    "    \n",
    "\n",
    "    args, _ = parser.parse_known_args()\n",
    "\n",
    "    print(\"reading data\")\n",
    "    train_df = pd.read_csv(os.path.join(args.train, args.train_file))\n",
    "    test_df = pd.read_csv(os.path.join(args.test, args.test_file))\n",
    "\n",
    "    # preprocessing\n",
    "\n",
    "    \n",
    "    print(train_df.columns)\n",
    "    X_train = train_df[feature_column_names]\n",
    "    y_train = train_df[label_column]\n",
    "    \n",
    "    print(X_train.head(3))\n",
    "    X_test = test_df[feature_column_names]\n",
    "    y_test = test_df[label_column]\n",
    "    \n",
    "    \n",
    "    categorical_cols = ['cut','clarity','color']\n",
    "    preprocessor = ColumnTransformer( \n",
    "        transformers=[\n",
    "                    ('categorical',  OneHotEncoder(), categorical_cols)\n",
    "                    ], remainder='passthrough')\n",
    "    \n",
    "    # train\n",
    "    \n",
    "    diamond_price_model=LinearRegression(n_jobs=args.n_jobs)\n",
    "\n",
    "    my_pipeline = Pipeline(steps=[\n",
    "        ('preprocessor', preprocessor),\n",
    "        ('model', diamond_price_model)\n",
    "        ])\n",
    "\n",
    "    print(\"training model\")\n",
    "    \n",
    "    my_pipeline.fit(X_train, y_train)\n",
    "    \n",
    "    \n",
    "    train_predictions =  my_pipeline.predict(X_train)\n",
    "    print(train_predictions)\n",
    "    \n",
    "    # print abs error\n",
    "    print(\"validating model\")\n",
    "    abs_err = np.abs(my_pipeline.predict(X_test) - y_test)\n",
    "    print(f\"Test prediction error:{abs_err} \")\n",
    "\n",
    "    # persist model\n",
    "    path = os.path.join(args.model_dir, \"model.joblib\")\n",
    "    joblib.dump(my_pipeline, path)\n",
    "    print(\"model persisted at \" + path)\n",
    "    \n",
    "   \n",
    "    "
   ]
  },
  {
   "cell_type": "markdown",
   "metadata": {},
   "source": [
    "### Local training\n",
    "Test the training locally using the script file\n"
   ]
  },
  {
   "cell_type": "code",
   "execution_count": 17,
   "metadata": {},
   "outputs": [
    {
     "name": "stdout",
     "output_type": "stream",
     "text": [
      "extracting arguments\n",
      "reading data\n",
      "Index(['Unnamed: 0', 'carat', 'cut', 'color', 'clarity', 'depth', 'table', 'x',\n",
      "       'y', 'z', 'price'],\n",
      "      dtype='object')\n",
      "   carat    cut color clarity  depth  table     x     y     z\n",
      "0   1.21  Ideal     H    VVS2   61.3   57.0  6.92  6.87  4.23\n",
      "1   0.31  Ideal     E     VS2   62.0   56.0  4.38  4.36  2.71\n",
      "2   1.21  Ideal     E     VS1   62.4   57.0  6.75  6.83  4.24\n",
      "training model\n",
      "[8059.33067384  606.62346058 8567.48039848 ... 1739.45892698 2501.07703433\n",
      " 6787.8108665 ]\n",
      "validating model\n",
      "Test prediction error:0         152.565705\n",
      "1         996.404196\n",
      "2         705.029482\n",
      "3         776.075619\n",
      "4        2970.562344\n",
      "            ...     \n",
      "16177      65.877016\n",
      "16178     198.983953\n",
      "16179    2547.207129\n",
      "16180    1145.708761\n",
      "16181     670.888210\n",
      "Name: price, Length: 16182, dtype: float64 \n",
      "model persisted at ./model.joblib\n"
     ]
    }
   ],
   "source": [
    "! python script.py --n-jobs 1 \\\n",
    "                   --model-dir ./ \\\n",
    "                   --train ./ \\\n",
    "                   --test ./ \\"
   ]
  },
  {
   "cell_type": "markdown",
   "metadata": {},
   "source": [
    "### Local inference\n",
    "\n",
    "Test the inference flow:\n",
    "1. load model\n",
    "2. process raw input (serialized numpy array)\n",
    "3. predict and return results \n",
    "\n",
    "**Note** \n",
    "\n",
    "We attach a unique ID per instance for the prediction.\n",
    "For the purpose of demonstration, we use the Dataframe index as the ID of the instances.\n",
    "\n",
    "In a production setting, you should use an ID that has semantic meaning in the context of your application, such as transaction_id etc.\n"
   ]
  },
  {
   "cell_type": "code",
   "execution_count": 18,
   "metadata": {},
   "outputs": [],
   "source": [
    "import script"
   ]
  },
  {
   "cell_type": "code",
   "execution_count": 19,
   "metadata": {},
   "outputs": [],
   "source": [
    "local_model = script.model_fn(\".\")"
   ]
  },
  {
   "cell_type": "code",
   "execution_count": 20,
   "metadata": {},
   "outputs": [],
   "source": [
    "from io import BytesIO\n",
    "rows = X_train.head(10)\n",
    "#convert the Dataframe index to a string ID\n",
    "indexes = rows.index.map(str)\n",
    "inference_input = rows.to_numpy()\n",
    "\n",
    "#attach the ID to the payload\n",
    "inference_input = np.insert(inference_input, 0, indexes, axis=1)\n",
    "np_bytes = BytesIO()\n",
    "# Serialize the payload\n",
    "np.save(np_bytes, inference_input, allow_pickle=True)\n"
   ]
  },
  {
   "cell_type": "code",
   "execution_count": 21,
   "metadata": {},
   "outputs": [
    {
     "data": {
      "text/html": [
       "<div>\n",
       "<style scoped>\n",
       "    .dataframe tbody tr th:only-of-type {\n",
       "        vertical-align: middle;\n",
       "    }\n",
       "\n",
       "    .dataframe tbody tr th {\n",
       "        vertical-align: top;\n",
       "    }\n",
       "\n",
       "    .dataframe thead th {\n",
       "        text-align: right;\n",
       "    }\n",
       "</style>\n",
       "<table border=\"1\" class=\"dataframe\">\n",
       "  <thead>\n",
       "    <tr style=\"text-align: right;\">\n",
       "      <th></th>\n",
       "      <th>id_col</th>\n",
       "      <th>carat</th>\n",
       "      <th>cut</th>\n",
       "      <th>color</th>\n",
       "      <th>clarity</th>\n",
       "      <th>depth</th>\n",
       "      <th>table</th>\n",
       "      <th>x</th>\n",
       "      <th>y</th>\n",
       "      <th>z</th>\n",
       "    </tr>\n",
       "  </thead>\n",
       "  <tbody>\n",
       "    <tr>\n",
       "      <th>0</th>\n",
       "      <td>19497</td>\n",
       "      <td>1.21</td>\n",
       "      <td>Ideal</td>\n",
       "      <td>H</td>\n",
       "      <td>VVS2</td>\n",
       "      <td>61.3</td>\n",
       "      <td>57</td>\n",
       "      <td>6.92</td>\n",
       "      <td>6.87</td>\n",
       "      <td>4.23</td>\n",
       "    </tr>\n",
       "    <tr>\n",
       "      <th>1</th>\n",
       "      <td>31229</td>\n",
       "      <td>0.31</td>\n",
       "      <td>Ideal</td>\n",
       "      <td>E</td>\n",
       "      <td>VS2</td>\n",
       "      <td>62</td>\n",
       "      <td>56</td>\n",
       "      <td>4.38</td>\n",
       "      <td>4.36</td>\n",
       "      <td>2.71</td>\n",
       "    </tr>\n",
       "    <tr>\n",
       "      <th>2</th>\n",
       "      <td>22311</td>\n",
       "      <td>1.21</td>\n",
       "      <td>Ideal</td>\n",
       "      <td>E</td>\n",
       "      <td>VS1</td>\n",
       "      <td>62.4</td>\n",
       "      <td>57</td>\n",
       "      <td>6.75</td>\n",
       "      <td>6.83</td>\n",
       "      <td>4.24</td>\n",
       "    </tr>\n",
       "    <tr>\n",
       "      <th>3</th>\n",
       "      <td>278</td>\n",
       "      <td>0.81</td>\n",
       "      <td>Ideal</td>\n",
       "      <td>F</td>\n",
       "      <td>SI2</td>\n",
       "      <td>62.6</td>\n",
       "      <td>55</td>\n",
       "      <td>5.92</td>\n",
       "      <td>5.96</td>\n",
       "      <td>3.72</td>\n",
       "    </tr>\n",
       "    <tr>\n",
       "      <th>4</th>\n",
       "      <td>6646</td>\n",
       "      <td>0.79</td>\n",
       "      <td>Ideal</td>\n",
       "      <td>I</td>\n",
       "      <td>VVS2</td>\n",
       "      <td>61.7</td>\n",
       "      <td>56</td>\n",
       "      <td>5.94</td>\n",
       "      <td>5.95</td>\n",
       "      <td>3.67</td>\n",
       "    </tr>\n",
       "    <tr>\n",
       "      <th>5</th>\n",
       "      <td>30711</td>\n",
       "      <td>0.33</td>\n",
       "      <td>Ideal</td>\n",
       "      <td>E</td>\n",
       "      <td>VS2</td>\n",
       "      <td>61.1</td>\n",
       "      <td>55</td>\n",
       "      <td>4.47</td>\n",
       "      <td>4.51</td>\n",
       "      <td>2.74</td>\n",
       "    </tr>\n",
       "    <tr>\n",
       "      <th>6</th>\n",
       "      <td>17532</td>\n",
       "      <td>1</td>\n",
       "      <td>Premium</td>\n",
       "      <td>F</td>\n",
       "      <td>VS1</td>\n",
       "      <td>59.2</td>\n",
       "      <td>60</td>\n",
       "      <td>6.53</td>\n",
       "      <td>6.48</td>\n",
       "      <td>3.85</td>\n",
       "    </tr>\n",
       "    <tr>\n",
       "      <th>7</th>\n",
       "      <td>6352</td>\n",
       "      <td>0.9</td>\n",
       "      <td>Very Good</td>\n",
       "      <td>E</td>\n",
       "      <td>SI1</td>\n",
       "      <td>60.1</td>\n",
       "      <td>58</td>\n",
       "      <td>6.25</td>\n",
       "      <td>6.29</td>\n",
       "      <td>3.77</td>\n",
       "    </tr>\n",
       "    <tr>\n",
       "      <th>8</th>\n",
       "      <td>18684</td>\n",
       "      <td>1.06</td>\n",
       "      <td>Ideal</td>\n",
       "      <td>F</td>\n",
       "      <td>VS2</td>\n",
       "      <td>61.4</td>\n",
       "      <td>56</td>\n",
       "      <td>6.56</td>\n",
       "      <td>6.61</td>\n",
       "      <td>4.04</td>\n",
       "    </tr>\n",
       "    <tr>\n",
       "      <th>9</th>\n",
       "      <td>53429</td>\n",
       "      <td>0.7</td>\n",
       "      <td>Ideal</td>\n",
       "      <td>F</td>\n",
       "      <td>SI1</td>\n",
       "      <td>60.7</td>\n",
       "      <td>57</td>\n",
       "      <td>5.78</td>\n",
       "      <td>5.82</td>\n",
       "      <td>3.52</td>\n",
       "    </tr>\n",
       "  </tbody>\n",
       "</table>\n",
       "</div>"
      ],
      "text/plain": [
       "  id_col carat        cut color clarity depth table     x     y     z\n",
       "0  19497  1.21      Ideal     H    VVS2  61.3    57  6.92  6.87  4.23\n",
       "1  31229  0.31      Ideal     E     VS2    62    56  4.38  4.36  2.71\n",
       "2  22311  1.21      Ideal     E     VS1  62.4    57  6.75  6.83  4.24\n",
       "3    278  0.81      Ideal     F     SI2  62.6    55  5.92  5.96  3.72\n",
       "4   6646  0.79      Ideal     I    VVS2  61.7    56  5.94  5.95  3.67\n",
       "5  30711  0.33      Ideal     E     VS2  61.1    55  4.47  4.51  2.74\n",
       "6  17532     1    Premium     F     VS1  59.2    60  6.53  6.48  3.85\n",
       "7   6352   0.9  Very Good     E     SI1  60.1    58  6.25  6.29  3.77\n",
       "8  18684  1.06      Ideal     F     VS2  61.4    56  6.56  6.61  4.04\n",
       "9  53429   0.7      Ideal     F     SI1  60.7    57  5.78  5.82  3.52"
      ]
     },
     "execution_count": 21,
     "metadata": {},
     "output_type": "execute_result"
    }
   ],
   "source": [
    "input_data = script.input_fn(np_bytes.getvalue(), \"application/x-npy\")\n",
    "input_data"
   ]
  },
  {
   "cell_type": "code",
   "execution_count": 22,
   "metadata": {},
   "outputs": [
    {
     "data": {
      "text/plain": [
       "array([['19497', 8059.3306738397],\n",
       "       ['31229', 606.623460581668],\n",
       "       ['22311', 8567.480398475895],\n",
       "       ['278', 3030.1949027971514],\n",
       "       ['6646', 3861.8104740338913],\n",
       "       ['30711', 824.5124921334345],\n",
       "       ['17532', 6442.444361816638],\n",
       "       ['6352', 4712.366279256058],\n",
       "       ['18684', 6793.556467932655],\n",
       "       ['53429', 2978.5136692657784]], dtype=object)"
      ]
     },
     "execution_count": 22,
     "metadata": {},
     "output_type": "execute_result"
    }
   ],
   "source": [
    "predictions = script.predict_fn(input_data, local_model)\n",
    "predictions"
   ]
  },
  {
   "cell_type": "markdown",
   "metadata": {},
   "source": [
    "### SageMaker Training"
   ]
  },
  {
   "cell_type": "markdown",
   "metadata": {},
   "source": [
    "#### Launching a training job with the Python SDK"
   ]
  },
  {
   "cell_type": "code",
   "execution_count": 23,
   "metadata": {},
   "outputs": [],
   "source": [
    "# We use the Estimator from the SageMaker Python SDK\n",
    "from sagemaker.sklearn.estimator import SKLearn\n",
    "\n",
    "FRAMEWORK_VERSION = \"0.23-1\"\n",
    "\n",
    "sklearn_estimator = SKLearn(\n",
    "    entry_point=\"script.py\",\n",
    "    role=get_execution_role(),\n",
    "    instance_count=1,\n",
    "    instance_type=\"ml.m5.large\",\n",
    "    framework_version=FRAMEWORK_VERSION,\n",
    "    base_job_name=\"Superwise-Sagemaker-job\",\n",
    "    hyperparameters={\n",
    "        \"n-jobs\": 1,\n",
    "        },\n",
    ")"
   ]
  },
  {
   "cell_type": "code",
   "execution_count": 24,
   "metadata": {},
   "outputs": [],
   "source": [
    "# launch training job, with asynchronous call\n",
    "sklearn_estimator.fit({\"train\": trainpath, \"test\": testpath}, wait=False)"
   ]
  },
  {
   "cell_type": "code",
   "execution_count": 25,
   "metadata": {},
   "outputs": [
    {
     "name": "stdout",
     "output_type": "stream",
     "text": [
      "\n",
      "2021-10-11 08:18:34 Starting - Starting the training job\n",
      "2021-10-11 08:18:36 Starting - Launching requested ML instances.........\n",
      "2021-10-11 08:19:27 Starting - Preparing the instances for training................\n",
      "2021-10-11 08:20:53 Downloading - Downloading input data...\n",
      "2021-10-11 08:21:14 Training - Downloading the training image.....\n",
      "2021-10-11 08:21:43 Training - Training image download completed. Training in progress..\n",
      "2021-10-11 08:21:54 Uploading - Uploading generated training model.\n",
      "2021-10-11 08:22:01 Completed - Training job completed\n",
      "Model artifact persisted at s3://sagemaker-us-east-2-352030274094/Superwise-Sagemaker-job-2021-10-11-08-18-34-286/output/model.tar.gz\n"
     ]
    }
   ],
   "source": [
    "sklearn_estimator.latest_training_job.wait(logs=\"None\")\n",
    "artifact = sm_boto3.describe_training_job(\n",
    "    TrainingJobName=sklearn_estimator.latest_training_job.name\n",
    ")[\"ModelArtifacts\"][\"S3ModelArtifacts\"]\n",
    "\n",
    "print(\"Model artifact persisted at \" + artifact)"
   ]
  },
  {
   "cell_type": "markdown",
   "metadata": {},
   "source": [
    "### Deploy to a real-time endpoint"
   ]
  },
  {
   "cell_type": "markdown",
   "metadata": {},
   "source": [
    "Create a Sagemaker *Model* from s3 artifacts, and deploy it to an Endpoint"
   ]
  },
  {
   "cell_type": "code",
   "execution_count": 26,
   "metadata": {},
   "outputs": [],
   "source": [
    "from sagemaker.sklearn.model import SKLearnModel\n",
    "\n",
    "model = SKLearnModel(\n",
    "    name=\"Superwise-Sagemaker-demo-model-2\",\n",
    "    model_data=artifact,\n",
    "    role=get_execution_role(),\n",
    "    entry_point=\"script.py\",\n",
    "    framework_version=FRAMEWORK_VERSION,\n",
    ")"
   ]
  },
  {
   "cell_type": "code",
   "execution_count": 27,
   "metadata": {},
   "outputs": [
    {
     "name": "stdout",
     "output_type": "stream",
     "text": [
      "--------------!"
     ]
    }
   ],
   "source": [
    "predictor = model.deploy(instance_type=\"ml.t2.medium\", initial_instance_count=1)"
   ]
  },
  {
   "cell_type": "markdown",
   "metadata": {},
   "source": [
    "### Test the Endpoint by running an Inference request"
   ]
  },
  {
   "cell_type": "code",
   "execution_count": 28,
   "metadata": {},
   "outputs": [],
   "source": [
    "# Prepare the input as a numpy array with record_id, feature 1... feature n\n",
    "\n",
    "# Treat the Dataframe index as the record_id\n",
    "indexes = X_train.index.map(str)\n",
    "X_train_inference = X_train.to_numpy()\n",
    "X_train_inference = np.insert(X_train_inference, 0, indexes, axis=1)"
   ]
  },
  {
   "cell_type": "code",
   "execution_count": 29,
   "metadata": {},
   "outputs": [
    {
     "data": {
      "text/plain": [
       "array([['19497', 8059.3306738397],\n",
       "       ['31229', 606.623460581668],\n",
       "       ['22311', 8567.480398475895],\n",
       "       ...,\n",
       "       ['38158', 1739.458926984018],\n",
       "       ['860', 2501.0770343272297],\n",
       "       ['15795', 6787.810866496322]], dtype=object)"
      ]
     },
     "execution_count": 29,
     "metadata": {},
     "output_type": "execute_result"
    }
   ],
   "source": [
    "predictions = predictor.predict(X_train_inference)\n",
    "\n",
    "# Returns a column with ID and the prediction value\n",
    "predictions"
   ]
  },
  {
   "cell_type": "markdown",
   "metadata": {},
   "source": [
    "## Part II - Tracking the model with Superwise.ai\n"
   ]
  },
  {
   "cell_type": "markdown",
   "metadata": {},
   "source": [
    "### Setup\n",
    "\n",
    "1. Install the Superwise Python package from pip\n",
    "2. Set environment variables with the API keys\n",
    "3. Create a Superwise client"
   ]
  },
  {
   "cell_type": "code",
   "execution_count": 30,
   "metadata": {},
   "outputs": [
    {
     "name": "stdout",
     "output_type": "stream",
     "text": [
      "Requirement already satisfied: superwise in /home/ec2-user/anaconda3/envs/python3/lib/python3.6/site-packages (2.2.1)\n",
      "Requirement already satisfied: requests in /home/ec2-user/anaconda3/envs/python3/lib/python3.6/site-packages (from superwise) (2.26.0)\n",
      "Requirement already satisfied: sklearn in /home/ec2-user/anaconda3/envs/python3/lib/python3.6/site-packages (from superwise) (0.0)\n",
      "Requirement already satisfied: shap in /home/ec2-user/anaconda3/envs/python3/lib/python3.6/site-packages (from superwise) (0.39.0)\n",
      "Requirement already satisfied: scipy in /home/ec2-user/anaconda3/envs/python3/lib/python3.6/site-packages (from superwise) (1.5.3)\n",
      "Requirement already satisfied: pandas in /home/ec2-user/anaconda3/envs/python3/lib/python3.6/site-packages (from superwise) (1.1.5)\n",
      "Requirement already satisfied: python-dateutil>=2.7.3 in /home/ec2-user/anaconda3/envs/python3/lib/python3.6/site-packages (from pandas->superwise) (2.8.1)\n",
      "Requirement already satisfied: pytz>=2017.2 in /home/ec2-user/anaconda3/envs/python3/lib/python3.6/site-packages (from pandas->superwise) (2021.1)\n",
      "Requirement already satisfied: numpy>=1.15.4 in /home/ec2-user/anaconda3/envs/python3/lib/python3.6/site-packages (from pandas->superwise) (1.19.5)\n",
      "Requirement already satisfied: six>=1.5 in /home/ec2-user/anaconda3/envs/python3/lib/python3.6/site-packages (from python-dateutil>=2.7.3->pandas->superwise) (1.15.0)\n",
      "Requirement already satisfied: idna<4,>=2.5 in /home/ec2-user/anaconda3/envs/python3/lib/python3.6/site-packages (from requests->superwise) (3.1)\n",
      "Requirement already satisfied: charset-normalizer~=2.0.0 in /home/ec2-user/anaconda3/envs/python3/lib/python3.6/site-packages (from requests->superwise) (2.0.6)\n",
      "Requirement already satisfied: certifi>=2017.4.17 in /home/ec2-user/anaconda3/envs/python3/lib/python3.6/site-packages (from requests->superwise) (2021.5.30)\n",
      "Requirement already satisfied: urllib3<1.27,>=1.21.1 in /home/ec2-user/anaconda3/envs/python3/lib/python3.6/site-packages (from requests->superwise) (1.26.6)\n",
      "Requirement already satisfied: scikit-learn in /home/ec2-user/anaconda3/envs/python3/lib/python3.6/site-packages (from shap->superwise) (0.24.1)\n",
      "Requirement already satisfied: cloudpickle in /home/ec2-user/anaconda3/envs/python3/lib/python3.6/site-packages (from shap->superwise) (1.6.0)\n",
      "Requirement already satisfied: tqdm>4.25.0 in /home/ec2-user/anaconda3/envs/python3/lib/python3.6/site-packages (from shap->superwise) (4.62.2)\n",
      "Requirement already satisfied: slicer==0.0.7 in /home/ec2-user/anaconda3/envs/python3/lib/python3.6/site-packages (from shap->superwise) (0.0.7)\n",
      "Requirement already satisfied: numba in /home/ec2-user/anaconda3/envs/python3/lib/python3.6/site-packages (from shap->superwise) (0.52.0)\n",
      "Requirement already satisfied: setuptools in /home/ec2-user/anaconda3/envs/python3/lib/python3.6/site-packages (from numba->shap->superwise) (49.6.0.post20210108)\n",
      "Requirement already satisfied: llvmlite<0.36,>=0.35.0 in /home/ec2-user/anaconda3/envs/python3/lib/python3.6/site-packages (from numba->shap->superwise) (0.35.0)\n",
      "Requirement already satisfied: joblib>=0.11 in /home/ec2-user/anaconda3/envs/python3/lib/python3.6/site-packages (from scikit-learn->shap->superwise) (1.0.1)\n",
      "Requirement already satisfied: threadpoolctl>=2.0.0 in /home/ec2-user/anaconda3/envs/python3/lib/python3.6/site-packages (from scikit-learn->shap->superwise) (2.1.0)\n",
      "Note: you may need to restart the kernel to use updated packages.\n"
     ]
    }
   ],
   "source": [
    "%pip install superwise"
   ]
  },
  {
   "cell_type": "code",
   "execution_count": 31,
   "metadata": {},
   "outputs": [
    {
     "name": "stdout",
     "output_type": "stream",
     "text": [
      "env: SUPERWISE_CLIENT_NAME=integration\n",
      "env: SUPERWISE_SECRET=34b75b3e-4b17-404a-b6ef-b7194c6f2711\n",
      "env: SUPERWISE_CLIENT_ID=cf7011ea-4374-40ef-89b1-bfefebe96ad2\n"
     ]
    }
   ],
   "source": [
    "%env SUPERWISE_CLIENT_NAME=integration\n",
    "%env SUPERWISE_SECRET=34b75b3e-4b17-404a-b6ef-b7194c6f2711\n",
    "%env SUPERWISE_CLIENT_ID=cf7011ea-4374-40ef-89b1-bfefebe96ad2\n"
   ]
  },
  {
   "cell_type": "code",
   "execution_count": 32,
   "metadata": {},
   "outputs": [],
   "source": [
    "\n",
    "from superwise import Superwise\n",
    "from superwise.models.task import Task\n",
    "from superwise.models.version import Version\n",
    "from superwise.models.data_entity import DataEntity\n",
    "from superwise.resources.superwise_enums import TaskTypes,FeatureType,DataTypesRoles\n",
    "\n",
    "sw = Superwise()\n",
    "\n"
   ]
  },
  {
   "cell_type": "markdown",
   "metadata": {},
   "source": [
    "### Create a Superwise *Task*\n",
    "\n",
    "A *Task* represents a domain problem.\n",
    "In our case, the task is to predict diamond prices.\n",
    "\n",
    "Over time, we may develop and deploy different ML models that attempt to address this task.\n",
    "\n",
    "In Superwise.ai terminology, each specific ML model we wish to track is called a *Version*. \n",
    "There may be multiple versions belonging to a *task* being tracked at any point in time (e.g. new models in shadow mode, or A/B tests)\n",
    "\n"
   ]
  },
  {
   "cell_type": "code",
   "execution_count": 33,
   "metadata": {},
   "outputs": [],
   "source": [
    "\n",
    "# Create the Task entity\n",
    "diamond_task =Task(\n",
    "    task_type=TaskTypes.REGRESSION,\n",
    "    title=\"Superwise-Sagemaker-demo-model-4\",\n",
    "    task_description=\"4.0\",\n",
    "    monitor_delay=1)\n",
    "my_task = sw.task.create(diamond_task)"
   ]
  },
  {
   "cell_type": "markdown",
   "metadata": {},
   "source": [
    "### Create a Baseline for our deployed model\n",
    "\n",
    "We've just deployed a model to Sagemaker, and wish to start tracking it.\n",
    "In order to perform the analysis of the model's performance over time, we need to set up a Baseline for the model's behavior.\n",
    "\n",
    "It's a common practice to use the training or test data (both features and predictions)as the baseline, as they represent \n",
    "The state which we consider stable and validated.\n",
    "\n",
    "Later, when the model performs predictions in production, we can compare the data and prediction behavior to the baseline, and detect drift.\n",
    "\n",
    "The baseline data includes:\n",
    "\n",
    "1. Features\n",
    "2. Labels\n",
    "3. Model predictions\n",
    "4. Timestamp of inference\n",
    "5. Id for each record (later used to correlate predictions with labels)"
   ]
  },
  {
   "cell_type": "code",
   "execution_count": 34,
   "metadata": {},
   "outputs": [],
   "source": [
    "# add the prediction value, a timestamp and the label to the training features\n",
    "baseline_data = X_train.assign(prediction=predictions[:,1].astype(float),ts=pd.Timestamp.now(),price=y_train)\n",
    "\n",
    "# treat the Dataframe index as a record ID - for demonstration purpose only. \n",
    "baseline_df = baseline_data.reset_index().rename(columns={\"index\": \"record_id\"})"
   ]
  },
  {
   "cell_type": "code",
   "execution_count": 35,
   "metadata": {},
   "outputs": [
    {
     "data": {
      "text/html": [
       "<div>\n",
       "<style scoped>\n",
       "    .dataframe tbody tr th:only-of-type {\n",
       "        vertical-align: middle;\n",
       "    }\n",
       "\n",
       "    .dataframe tbody tr th {\n",
       "        vertical-align: top;\n",
       "    }\n",
       "\n",
       "    .dataframe thead th {\n",
       "        text-align: right;\n",
       "    }\n",
       "</style>\n",
       "<table border=\"1\" class=\"dataframe\">\n",
       "  <thead>\n",
       "    <tr style=\"text-align: right;\">\n",
       "      <th></th>\n",
       "      <th>record_id</th>\n",
       "      <th>carat</th>\n",
       "      <th>cut</th>\n",
       "      <th>color</th>\n",
       "      <th>clarity</th>\n",
       "      <th>depth</th>\n",
       "      <th>table</th>\n",
       "      <th>x</th>\n",
       "      <th>y</th>\n",
       "      <th>z</th>\n",
       "      <th>prediction</th>\n",
       "      <th>ts</th>\n",
       "      <th>price</th>\n",
       "    </tr>\n",
       "  </thead>\n",
       "  <tbody>\n",
       "    <tr>\n",
       "      <th>0</th>\n",
       "      <td>19497</td>\n",
       "      <td>1.21</td>\n",
       "      <td>Ideal</td>\n",
       "      <td>H</td>\n",
       "      <td>VVS2</td>\n",
       "      <td>61.3</td>\n",
       "      <td>57.0</td>\n",
       "      <td>6.92</td>\n",
       "      <td>6.87</td>\n",
       "      <td>4.23</td>\n",
       "      <td>8059.330674</td>\n",
       "      <td>2021-10-11 08:47:30.706706</td>\n",
       "      <td>8131</td>\n",
       "    </tr>\n",
       "    <tr>\n",
       "      <th>1</th>\n",
       "      <td>31229</td>\n",
       "      <td>0.31</td>\n",
       "      <td>Ideal</td>\n",
       "      <td>E</td>\n",
       "      <td>VS2</td>\n",
       "      <td>62.0</td>\n",
       "      <td>56.0</td>\n",
       "      <td>4.38</td>\n",
       "      <td>4.36</td>\n",
       "      <td>2.71</td>\n",
       "      <td>606.623461</td>\n",
       "      <td>2021-10-11 08:47:30.706706</td>\n",
       "      <td>756</td>\n",
       "    </tr>\n",
       "    <tr>\n",
       "      <th>2</th>\n",
       "      <td>22311</td>\n",
       "      <td>1.21</td>\n",
       "      <td>Ideal</td>\n",
       "      <td>E</td>\n",
       "      <td>VS1</td>\n",
       "      <td>62.4</td>\n",
       "      <td>57.0</td>\n",
       "      <td>6.75</td>\n",
       "      <td>6.83</td>\n",
       "      <td>4.24</td>\n",
       "      <td>8567.480398</td>\n",
       "      <td>2021-10-11 08:47:30.706706</td>\n",
       "      <td>10351</td>\n",
       "    </tr>\n",
       "    <tr>\n",
       "      <th>3</th>\n",
       "      <td>278</td>\n",
       "      <td>0.81</td>\n",
       "      <td>Ideal</td>\n",
       "      <td>F</td>\n",
       "      <td>SI2</td>\n",
       "      <td>62.6</td>\n",
       "      <td>55.0</td>\n",
       "      <td>5.92</td>\n",
       "      <td>5.96</td>\n",
       "      <td>3.72</td>\n",
       "      <td>3030.194903</td>\n",
       "      <td>2021-10-11 08:47:30.706706</td>\n",
       "      <td>2795</td>\n",
       "    </tr>\n",
       "    <tr>\n",
       "      <th>4</th>\n",
       "      <td>6646</td>\n",
       "      <td>0.79</td>\n",
       "      <td>Ideal</td>\n",
       "      <td>I</td>\n",
       "      <td>VVS2</td>\n",
       "      <td>61.7</td>\n",
       "      <td>56.0</td>\n",
       "      <td>5.94</td>\n",
       "      <td>5.95</td>\n",
       "      <td>3.67</td>\n",
       "      <td>3861.810474</td>\n",
       "      <td>2021-10-11 08:47:30.706706</td>\n",
       "      <td>4092</td>\n",
       "    </tr>\n",
       "    <tr>\n",
       "      <th>...</th>\n",
       "      <td>...</td>\n",
       "      <td>...</td>\n",
       "      <td>...</td>\n",
       "      <td>...</td>\n",
       "      <td>...</td>\n",
       "      <td>...</td>\n",
       "      <td>...</td>\n",
       "      <td>...</td>\n",
       "      <td>...</td>\n",
       "      <td>...</td>\n",
       "      <td>...</td>\n",
       "      <td>...</td>\n",
       "      <td>...</td>\n",
       "    </tr>\n",
       "    <tr>\n",
       "      <th>37753</th>\n",
       "      <td>11284</td>\n",
       "      <td>1.05</td>\n",
       "      <td>Very Good</td>\n",
       "      <td>I</td>\n",
       "      <td>VS2</td>\n",
       "      <td>62.4</td>\n",
       "      <td>59.0</td>\n",
       "      <td>6.48</td>\n",
       "      <td>6.51</td>\n",
       "      <td>4.05</td>\n",
       "      <td>5309.736888</td>\n",
       "      <td>2021-10-11 08:47:30.706706</td>\n",
       "      <td>4975</td>\n",
       "    </tr>\n",
       "    <tr>\n",
       "      <th>37754</th>\n",
       "      <td>44732</td>\n",
       "      <td>0.47</td>\n",
       "      <td>Ideal</td>\n",
       "      <td>D</td>\n",
       "      <td>VS1</td>\n",
       "      <td>61.0</td>\n",
       "      <td>55.0</td>\n",
       "      <td>5.03</td>\n",
       "      <td>5.01</td>\n",
       "      <td>3.06</td>\n",
       "      <td>2373.297217</td>\n",
       "      <td>2021-10-11 08:47:30.706706</td>\n",
       "      <td>1617</td>\n",
       "    </tr>\n",
       "    <tr>\n",
       "      <th>37755</th>\n",
       "      <td>38158</td>\n",
       "      <td>0.33</td>\n",
       "      <td>Very Good</td>\n",
       "      <td>F</td>\n",
       "      <td>IF</td>\n",
       "      <td>60.3</td>\n",
       "      <td>58.0</td>\n",
       "      <td>4.49</td>\n",
       "      <td>4.46</td>\n",
       "      <td>2.70</td>\n",
       "      <td>1739.458927</td>\n",
       "      <td>2021-10-11 08:47:30.706706</td>\n",
       "      <td>1014</td>\n",
       "    </tr>\n",
       "    <tr>\n",
       "      <th>37756</th>\n",
       "      <td>860</td>\n",
       "      <td>0.90</td>\n",
       "      <td>Premium</td>\n",
       "      <td>J</td>\n",
       "      <td>SI1</td>\n",
       "      <td>62.8</td>\n",
       "      <td>59.0</td>\n",
       "      <td>6.13</td>\n",
       "      <td>6.03</td>\n",
       "      <td>3.82</td>\n",
       "      <td>2501.077034</td>\n",
       "      <td>2021-10-11 08:47:30.706706</td>\n",
       "      <td>2871</td>\n",
       "    </tr>\n",
       "    <tr>\n",
       "      <th>37757</th>\n",
       "      <td>15795</td>\n",
       "      <td>1.14</td>\n",
       "      <td>Premium</td>\n",
       "      <td>F</td>\n",
       "      <td>SI1</td>\n",
       "      <td>60.4</td>\n",
       "      <td>58.0</td>\n",
       "      <td>6.82</td>\n",
       "      <td>6.79</td>\n",
       "      <td>4.11</td>\n",
       "      <td>6787.810866</td>\n",
       "      <td>2021-10-11 08:47:30.706706</td>\n",
       "      <td>6320</td>\n",
       "    </tr>\n",
       "  </tbody>\n",
       "</table>\n",
       "<p>37758 rows × 13 columns</p>\n",
       "</div>"
      ],
      "text/plain": [
       "       record_id  carat        cut color clarity  depth  table     x     y  \\\n",
       "0          19497   1.21      Ideal     H    VVS2   61.3   57.0  6.92  6.87   \n",
       "1          31229   0.31      Ideal     E     VS2   62.0   56.0  4.38  4.36   \n",
       "2          22311   1.21      Ideal     E     VS1   62.4   57.0  6.75  6.83   \n",
       "3            278   0.81      Ideal     F     SI2   62.6   55.0  5.92  5.96   \n",
       "4           6646   0.79      Ideal     I    VVS2   61.7   56.0  5.94  5.95   \n",
       "...          ...    ...        ...   ...     ...    ...    ...   ...   ...   \n",
       "37753      11284   1.05  Very Good     I     VS2   62.4   59.0  6.48  6.51   \n",
       "37754      44732   0.47      Ideal     D     VS1   61.0   55.0  5.03  5.01   \n",
       "37755      38158   0.33  Very Good     F      IF   60.3   58.0  4.49  4.46   \n",
       "37756        860   0.90    Premium     J     SI1   62.8   59.0  6.13  6.03   \n",
       "37757      15795   1.14    Premium     F     SI1   60.4   58.0  6.82  6.79   \n",
       "\n",
       "          z   prediction                         ts  price  \n",
       "0      4.23  8059.330674 2021-10-11 08:47:30.706706   8131  \n",
       "1      2.71   606.623461 2021-10-11 08:47:30.706706    756  \n",
       "2      4.24  8567.480398 2021-10-11 08:47:30.706706  10351  \n",
       "3      3.72  3030.194903 2021-10-11 08:47:30.706706   2795  \n",
       "4      3.67  3861.810474 2021-10-11 08:47:30.706706   4092  \n",
       "...     ...          ...                        ...    ...  \n",
       "37753  4.05  5309.736888 2021-10-11 08:47:30.706706   4975  \n",
       "37754  3.06  2373.297217 2021-10-11 08:47:30.706706   1617  \n",
       "37755  2.70  1739.458927 2021-10-11 08:47:30.706706   1014  \n",
       "37756  3.82  2501.077034 2021-10-11 08:47:30.706706   2871  \n",
       "37757  4.11  6787.810866 2021-10-11 08:47:30.706706   6320  \n",
       "\n",
       "[37758 rows x 13 columns]"
      ]
     },
     "execution_count": 35,
     "metadata": {},
     "output_type": "execute_result"
    }
   ],
   "source": [
    "baseline_df"
   ]
  },
  {
   "cell_type": "markdown",
   "metadata": {},
   "source": [
    "### Create a *Schema* object that describes the format and sematics of our Baseline data\n",
    "\n",
    "The Schema object helps Superwise.ai interpret our data, for example - undertand which column prepresents predictions and which represents the labels."
   ]
  },
  {
   "cell_type": "code",
   "execution_count": 36,
   "metadata": {},
   "outputs": [],
   "source": [
    "schema = [\n",
    "    DataEntity(name=\"x\", type=FeatureType.NUMERIC, role=DataTypesRoles.FEATURE), #features...\n",
    "    DataEntity(name=\"y\", type=FeatureType.NUMERIC,  role=DataTypesRoles.FEATURE),\n",
    "    DataEntity(name=\"z\", type=FeatureType.NUMERIC, role=DataTypesRoles.FEATURE),\n",
    "    DataEntity(name=\"table\", type=FeatureType.NUMERIC, role=DataTypesRoles.FEATURE),\n",
    "    DataEntity(name=\"depth\", type=FeatureType.NUMERIC,  role=DataTypesRoles.FEATURE),\n",
    "    DataEntity(name=\"clarity\", type=FeatureType.CATEGORICAL,  role=DataTypesRoles.FEATURE),\n",
    "    DataEntity(name=\"color\", type=FeatureType.CATEGORICAL, role=DataTypesRoles.FEATURE),\n",
    "    DataEntity(name=\"cut\", type=FeatureType.CATEGORICAL,  role=DataTypesRoles.FEATURE),\n",
    "    DataEntity(name=\"carat\", type=FeatureType.NUMERIC,role=DataTypesRoles.FEATURE),\n",
    "    DataEntity(name=\"price\", type=FeatureType.NUMERIC,  role=DataTypesRoles.LABEL), # labels. When creating baseline, we use the training labels\n",
    "    DataEntity(name=\"prediction\", type=FeatureType.NUMERIC, role=DataTypesRoles.PREDICTION_VALUE), #model predictions\n",
    "    DataEntity(name=\"ts\", type=FeatureType.TIMESTAMP,role=DataTypesRoles.TIMESTAMP), #timestamp of the inference. for baseline we use now()\n",
    "    DataEntity(name=\"record_id\", type=FeatureType.CATEGORICAL, role=DataTypesRoles.ID) #the ID field\n",
    "]"
   ]
  },
  {
   "cell_type": "markdown",
   "metadata": {},
   "source": [
    "### Create a *Version* object\n",
    "\n",
    "As explained above, a *Version* represents a concrete ML model we are tracking.\n",
    "\n",
    "A *Version* solves a *Task*\n",
    "\n",
    "A *Version* has a *Baseline*\n",
    "\n",
    "\n"
   ]
  },
  {
   "cell_type": "code",
   "execution_count": 66,
   "metadata": {},
   "outputs": [],
   "source": [
    "diamond_version = Version(\n",
    "    task_id=my_task.id,\n",
    "    version_name=\"5.0\",\n",
    "    baseline_df=baseline_df,\n",
    "    data_entities=schema,\n",
    ")\n",
    "my_version = sw.version.create(diamond_version, wait_until_complete=True)\n"
   ]
  },
  {
   "cell_type": "code",
   "execution_count": 67,
   "metadata": {},
   "outputs": [
    {
     "data": {
      "text/plain": [
       "<Response [204]>"
      ]
     },
     "execution_count": 67,
     "metadata": {},
     "output_type": "execute_result"
    }
   ],
   "source": [
    "sw.version.activate(my_version.id)\n"
   ]
  },
  {
   "cell_type": "markdown",
   "metadata": {},
   "source": [
    "### Verifying the setup\n",
    "\n",
    "TODO: screenshots of the UI - currently not working"
   ]
  },
  {
   "cell_type": "markdown",
   "metadata": {},
   "source": [
    "## Part III - monitoring ongoing predictions\n",
    "\n",
    "Now that we have a *Version* of the model setup with a *Baseline*, we can start sending ongoing model predictions to Superwise to monitor the model's performance in a production settings.\n",
    "\n",
    "For this demo, we will treat the Test split of the data as our \"ongoing predictions\".\n"
   ]
  },
  {
   "cell_type": "code",
   "execution_count": 50,
   "metadata": {},
   "outputs": [
    {
     "data": {
      "text/plain": [
       "array([['1388', 0.24, 'Ideal', ..., 3.97, 4.0, 2.47],\n",
       "       ['50052', 0.58, 'Very Good', ..., 5.44, 5.42, 3.26],\n",
       "       ['41645', 0.4, 'Ideal', ..., 4.76, 4.74, 2.95],\n",
       "       ...,\n",
       "       ['24786', 1.51, 'Premium', ..., 7.42, 7.38, 4.5],\n",
       "       ['1332', 0.71, 'Good', ..., 5.8, 5.9, 3.44],\n",
       "       ['42527', 0.4, 'Ideal', ..., 4.79, 4.77, 2.9]], dtype=object)"
      ]
     },
     "execution_count": 50,
     "metadata": {},
     "output_type": "execute_result"
    }
   ],
   "source": [
    "# insert the record ID as part of the input payload to the model\n",
    "indexes = X_test.index.map(str)\n",
    "X_test_inference = X_test.to_numpy()\n",
    "X_test_inference = np.insert(X_test_inference, 0, indexes, axis=1)\n",
    "X_test_inference\n",
    "\n"
   ]
  },
  {
   "cell_type": "code",
   "execution_count": 51,
   "metadata": {},
   "outputs": [
    {
     "data": {
      "text/plain": [
       "array([['1388', 711.5657050055879],\n",
       "       ['50052', 3197.4041957920304],\n",
       "       ['41645', 1943.0294818178354],\n",
       "       ...,\n",
       "       ['24786', 10609.792871186859],\n",
       "       ['1332', 4105.708761255265],\n",
       "       ['42527', 1993.888210273787]], dtype=object)"
      ]
     },
     "execution_count": 51,
     "metadata": {},
     "output_type": "execute_result"
    }
   ],
   "source": [
    "predictions = predictor.predict(X_test_inference)\n",
    "predictions"
   ]
  },
  {
   "cell_type": "code",
   "execution_count": 57,
   "metadata": {},
   "outputs": [
    {
     "data": {
      "text/html": [
       "<div>\n",
       "<style scoped>\n",
       "    .dataframe tbody tr th:only-of-type {\n",
       "        vertical-align: middle;\n",
       "    }\n",
       "\n",
       "    .dataframe tbody tr th {\n",
       "        vertical-align: top;\n",
       "    }\n",
       "\n",
       "    .dataframe thead th {\n",
       "        text-align: right;\n",
       "    }\n",
       "</style>\n",
       "<table border=\"1\" class=\"dataframe\">\n",
       "  <thead>\n",
       "    <tr style=\"text-align: right;\">\n",
       "      <th></th>\n",
       "      <th>record_id</th>\n",
       "      <th>prediction</th>\n",
       "      <th>task_id</th>\n",
       "      <th>version_id</th>\n",
       "    </tr>\n",
       "  </thead>\n",
       "  <tbody>\n",
       "    <tr>\n",
       "      <th>0</th>\n",
       "      <td>1388</td>\n",
       "      <td>711.566</td>\n",
       "      <td>35</td>\n",
       "      <td>9</td>\n",
       "    </tr>\n",
       "    <tr>\n",
       "      <th>1</th>\n",
       "      <td>50052</td>\n",
       "      <td>3197.4</td>\n",
       "      <td>35</td>\n",
       "      <td>9</td>\n",
       "    </tr>\n",
       "    <tr>\n",
       "      <th>2</th>\n",
       "      <td>41645</td>\n",
       "      <td>1943.03</td>\n",
       "      <td>35</td>\n",
       "      <td>9</td>\n",
       "    </tr>\n",
       "    <tr>\n",
       "      <th>3</th>\n",
       "      <td>42377</td>\n",
       "      <td>2080.08</td>\n",
       "      <td>35</td>\n",
       "      <td>9</td>\n",
       "    </tr>\n",
       "    <tr>\n",
       "      <th>4</th>\n",
       "      <td>17244</td>\n",
       "      <td>9871.56</td>\n",
       "      <td>35</td>\n",
       "      <td>9</td>\n",
       "    </tr>\n",
       "    <tr>\n",
       "      <th>...</th>\n",
       "      <td>...</td>\n",
       "      <td>...</td>\n",
       "      <td>...</td>\n",
       "      <td>...</td>\n",
       "    </tr>\n",
       "    <tr>\n",
       "      <th>16177</th>\n",
       "      <td>29577</td>\n",
       "      <td>639.123</td>\n",
       "      <td>35</td>\n",
       "      <td>9</td>\n",
       "    </tr>\n",
       "    <tr>\n",
       "      <th>16178</th>\n",
       "      <td>12564</td>\n",
       "      <td>5476.98</td>\n",
       "      <td>35</td>\n",
       "      <td>9</td>\n",
       "    </tr>\n",
       "    <tr>\n",
       "      <th>16179</th>\n",
       "      <td>24786</td>\n",
       "      <td>10609.8</td>\n",
       "      <td>35</td>\n",
       "      <td>9</td>\n",
       "    </tr>\n",
       "    <tr>\n",
       "      <th>16180</th>\n",
       "      <td>1332</td>\n",
       "      <td>4105.71</td>\n",
       "      <td>35</td>\n",
       "      <td>9</td>\n",
       "    </tr>\n",
       "    <tr>\n",
       "      <th>16181</th>\n",
       "      <td>42527</td>\n",
       "      <td>1993.89</td>\n",
       "      <td>35</td>\n",
       "      <td>9</td>\n",
       "    </tr>\n",
       "  </tbody>\n",
       "</table>\n",
       "<p>16182 rows × 4 columns</p>\n",
       "</div>"
      ],
      "text/plain": [
       "      record_id prediction  task_id  version_id\n",
       "0          1388    711.566       35           9\n",
       "1         50052     3197.4       35           9\n",
       "2         41645    1943.03       35           9\n",
       "3         42377    2080.08       35           9\n",
       "4         17244    9871.56       35           9\n",
       "...         ...        ...      ...         ...\n",
       "16177     29577    639.123       35           9\n",
       "16178     12564    5476.98       35           9\n",
       "16179     24786    10609.8       35           9\n",
       "16180      1332    4105.71       35           9\n",
       "16181     42527    1993.89       35           9\n",
       "\n",
       "[16182 rows x 4 columns]"
      ]
     },
     "execution_count": 57,
     "metadata": {},
     "output_type": "execute_result"
    }
   ],
   "source": [
    "# Note: we provide the column names we declared in the Schema object, so that Superwise.ai will be able to interpret the data\n",
    "ongoing_predictions = pd.DataFrame(data=predictions, columns=[\"record_id\", \"prediction\"])\n",
    "\n",
    "#Append the *Task* and *Version* Id's to uniquely identify the data origin\n",
    "ongoing_predictions[\"task_id\"] = my_task.id\n",
    "ongoing_predictions[\"version_id\"] = my_version.id\n",
    "ongoing_predictions"
   ]
  },
  {
   "cell_type": "code",
   "execution_count": 58,
   "metadata": {},
   "outputs": [],
   "source": [
    "# Store the model predictions in a CSV and upload it to S3\n",
    "ongoing_predictions.to_csv(\"test_predictions_log.csv\")\n",
    "logs = sess.upload_data(\n",
    "    path=\"test_predictions_log.csv\", bucket=bucket, key_prefix=\"sagemaker/sw_predictions\"\n",
    ")"
   ]
  },
  {
   "cell_type": "code",
   "execution_count": 59,
   "metadata": {},
   "outputs": [],
   "source": [
    "# Upload the stored predictions to Superwise.ai\n",
    "sw.data.log_file(logs)"
   ]
  },
  {
   "cell_type": "markdown",
   "metadata": {},
   "source": [
    "### Optional - report ongoing lables to Superwise.ai\n",
    "\n",
    "In some cases, our system is able to gather \"ground truth\" labels for it's predictions.\n",
    "Often, this happens later on, after the prediciton was already given.\n",
    "\n",
    "By sending these labels to Superwise.ai, we add another important layer of data to our monitoring solution.\n",
    "\n",
    "For the purpose of this demo, we can use the test set's labels as the ground truth, simulating a label we collected in production.\n"
   ]
  },
  {
   "cell_type": "code",
   "execution_count": 62,
   "metadata": {},
   "outputs": [],
   "source": [
    "# Note: we provide the column names we declared in the Schema object, so that Superwise.ai will be able to interpret the data\n",
    "indexes = y_test.index.map(str)\n",
    "ground_truth = pd.DataFrame(data=y_test, columns=['price'])\n",
    "ground_truth['record_id'] = indexes\n",
    "ground_truth[\"task_id\"] = my_task.id\n",
    "ground_truth[\"version_id\"] = my_version.id"
   ]
  },
  {
   "cell_type": "code",
   "execution_count": 63,
   "metadata": {},
   "outputs": [
    {
     "data": {
      "text/html": [
       "<div>\n",
       "<style scoped>\n",
       "    .dataframe tbody tr th:only-of-type {\n",
       "        vertical-align: middle;\n",
       "    }\n",
       "\n",
       "    .dataframe tbody tr th {\n",
       "        vertical-align: top;\n",
       "    }\n",
       "\n",
       "    .dataframe thead th {\n",
       "        text-align: right;\n",
       "    }\n",
       "</style>\n",
       "<table border=\"1\" class=\"dataframe\">\n",
       "  <thead>\n",
       "    <tr style=\"text-align: right;\">\n",
       "      <th></th>\n",
       "      <th>price</th>\n",
       "      <th>record_id</th>\n",
       "      <th>task_id</th>\n",
       "      <th>version_id</th>\n",
       "    </tr>\n",
       "  </thead>\n",
       "  <tbody>\n",
       "    <tr>\n",
       "      <th>1388</th>\n",
       "      <td>559</td>\n",
       "      <td>1388</td>\n",
       "      <td>35</td>\n",
       "      <td>9</td>\n",
       "    </tr>\n",
       "    <tr>\n",
       "      <th>50052</th>\n",
       "      <td>2201</td>\n",
       "      <td>50052</td>\n",
       "      <td>35</td>\n",
       "      <td>9</td>\n",
       "    </tr>\n",
       "    <tr>\n",
       "      <th>41645</th>\n",
       "      <td>1238</td>\n",
       "      <td>41645</td>\n",
       "      <td>35</td>\n",
       "      <td>9</td>\n",
       "    </tr>\n",
       "    <tr>\n",
       "      <th>42377</th>\n",
       "      <td>1304</td>\n",
       "      <td>42377</td>\n",
       "      <td>35</td>\n",
       "      <td>9</td>\n",
       "    </tr>\n",
       "    <tr>\n",
       "      <th>17244</th>\n",
       "      <td>6901</td>\n",
       "      <td>17244</td>\n",
       "      <td>35</td>\n",
       "      <td>9</td>\n",
       "    </tr>\n",
       "    <tr>\n",
       "      <th>...</th>\n",
       "      <td>...</td>\n",
       "      <td>...</td>\n",
       "      <td>...</td>\n",
       "      <td>...</td>\n",
       "    </tr>\n",
       "    <tr>\n",
       "      <th>29577</th>\n",
       "      <td>705</td>\n",
       "      <td>29577</td>\n",
       "      <td>35</td>\n",
       "      <td>9</td>\n",
       "    </tr>\n",
       "    <tr>\n",
       "      <th>12564</th>\n",
       "      <td>5278</td>\n",
       "      <td>12564</td>\n",
       "      <td>35</td>\n",
       "      <td>9</td>\n",
       "    </tr>\n",
       "    <tr>\n",
       "      <th>24786</th>\n",
       "      <td>13157</td>\n",
       "      <td>24786</td>\n",
       "      <td>35</td>\n",
       "      <td>9</td>\n",
       "    </tr>\n",
       "    <tr>\n",
       "      <th>1332</th>\n",
       "      <td>2960</td>\n",
       "      <td>1332</td>\n",
       "      <td>35</td>\n",
       "      <td>9</td>\n",
       "    </tr>\n",
       "    <tr>\n",
       "      <th>42527</th>\n",
       "      <td>1323</td>\n",
       "      <td>42527</td>\n",
       "      <td>35</td>\n",
       "      <td>9</td>\n",
       "    </tr>\n",
       "  </tbody>\n",
       "</table>\n",
       "<p>16182 rows × 4 columns</p>\n",
       "</div>"
      ],
      "text/plain": [
       "       price record_id  task_id  version_id\n",
       "1388     559      1388       35           9\n",
       "50052   2201     50052       35           9\n",
       "41645   1238     41645       35           9\n",
       "42377   1304     42377       35           9\n",
       "17244   6901     17244       35           9\n",
       "...      ...       ...      ...         ...\n",
       "29577    705     29577       35           9\n",
       "12564   5278     12564       35           9\n",
       "24786  13157     24786       35           9\n",
       "1332    2960      1332       35           9\n",
       "42527   1323     42527       35           9\n",
       "\n",
       "[16182 rows x 4 columns]"
      ]
     },
     "execution_count": 63,
     "metadata": {},
     "output_type": "execute_result"
    }
   ],
   "source": [
    "ground_truth"
   ]
  },
  {
   "cell_type": "code",
   "execution_count": 64,
   "metadata": {},
   "outputs": [],
   "source": [
    "# Save the lables to a .csv and store it on S3\n",
    "ground_truth.to_csv(\"test_labels_log.csv\")\n",
    "logs = sess.upload_data(\n",
    "    path=\"test_labels_log.csv\", bucket=bucket, key_prefix=\"sagemaker/sw_predictions\"\n",
    ")"
   ]
  },
  {
   "cell_type": "code",
   "execution_count": 65,
   "metadata": {},
   "outputs": [],
   "source": [
    "# Report the labels to Superwise.ai\n",
    "sw.data.log_file(logs)"
   ]
  },
  {
   "cell_type": "markdown",
   "metadata": {},
   "source": [
    "### Verifying the setup\n",
    "TODO: screenshots of the UI - currently not working"
   ]
  },
  {
   "cell_type": "markdown",
   "metadata": {},
   "source": [
    "## Don't forget to delete the endpoint !"
   ]
  },
  {
   "cell_type": "code",
   "execution_count": 68,
   "metadata": {},
   "outputs": [
    {
     "name": "stderr",
     "output_type": "stream",
     "text": [
      "The endpoint attribute has been renamed in sagemaker>=2.\n",
      "See: https://sagemaker.readthedocs.io/en/stable/v2.html for details.\n"
     ]
    },
    {
     "data": {
      "text/plain": [
       "{'ResponseMetadata': {'RequestId': 'f45eb4e1-68a9-464d-b327-e2f8ea3dd8f4',\n",
       "  'HTTPStatusCode': 200,\n",
       "  'HTTPHeaders': {'x-amzn-requestid': 'f45eb4e1-68a9-464d-b327-e2f8ea3dd8f4',\n",
       "   'content-type': 'application/x-amz-json-1.1',\n",
       "   'content-length': '0',\n",
       "   'date': 'Mon, 11 Oct 2021 09:25:08 GMT'},\n",
       "  'RetryAttempts': 0}}"
      ]
     },
     "execution_count": 68,
     "metadata": {},
     "output_type": "execute_result"
    }
   ],
   "source": [
    "sm_boto3.delete_endpoint(EndpointName=predictor.endpoint)"
   ]
  },
  {
   "cell_type": "code",
   "execution_count": null,
   "metadata": {},
   "outputs": [],
   "source": []
  }
 ],
 "metadata": {
  "kernelspec": {
   "display_name": "conda_python3",
   "language": "python",
   "name": "conda_python3"
  },
  "language_info": {
   "codemirror_mode": {
    "name": "ipython",
    "version": 3
   },
   "file_extension": ".py",
   "mimetype": "text/x-python",
   "name": "python",
   "nbconvert_exporter": "python",
   "pygments_lexer": "ipython3",
   "version": "3.6.13"
  }
 },
 "nbformat": 4,
 "nbformat_minor": 4
}
