{
 "cells": [
  {
   "cell_type": "markdown",
   "id": "exact-clearing",
   "metadata": {
    "jp-MarkdownHeadingCollapsed": true,
    "tags": []
   },
   "source": [
    "# Getting started\n",
    "\n",
    "This guide will walk you through the creation and configuration of a new model into the platform and give you model observability in 5 minutes.\n",
    "\n",
    "[1. Install Superwise package](#Install-Superwise-package)\n",
    "\n",
    "[2. Simulate model training flow](#Simulate-model-training-flow)\n",
    "\n",
    "[3. Lets integrate with Superwise](#Lets-integrate-with-Superwise)\n",
    "- [3.1 Create a Model](##Create-Model)\n",
    "- [3.2 Create a Version](##Create-Version)\n",
    "- [3.3 Log production data](##Log-production-data)\n"
   ]
  },
  {
   "cell_type": "markdown",
   "id": "8f8ca186-7ab5-459c-942d-a45526625b87",
   "metadata": {},
   "source": [
    "# Install Superwise package"
   ]
  },
  {
   "cell_type": "markdown",
   "id": "de37d208-3977-4c3b-b0a0-ad3f76f8179d",
   "metadata": {
    "tags": []
   },
   "source": [
    "Superwise's SDK is a standard Python package that simplifies the integration with Superwise and streams data to the Superwise platform."
   ]
  },
  {
   "cell_type": "code",
   "execution_count": 1,
   "id": "finnish-douglas",
   "metadata": {},
   "outputs": [],
   "source": [
    "import os\n",
    "\n",
    "import pandas as pd\n",
    "import numpy as np\n",
    "from sklearn.model_selection import train_test_split\n",
    "from sklearn.compose import ColumnTransformer\n",
    "from sklearn.preprocessing import OneHotEncoder\n",
    "from sklearn.pipeline import Pipeline\n",
    "from sklearn.linear_model import LinearRegression\n",
    "\n",
    "from superwise import Superwise\n",
    "from superwise.models.task import Task\n",
    "from superwise.models.version import Version\n",
    "from superwise.resources.superwise_enums import DataEntityRole"
   ]
  },
  {
   "cell_type": "markdown",
   "id": "immune-plant",
   "metadata": {},
   "source": [
    "## Init superwise client\n",
    "\n",
    "There are 2 environment variables used to identify and authenticate your connection:\n",
    "- SUPERWISE_CLIENT_ID\n",
    "- SUPERWISE_SECRET\n",
    "\n",
    "Read [here](https://docs.superwise.ai/docs/authentication) on how to generate them."
   ]
  },
  {
   "cell_type": "code",
   "execution_count": 2,
   "id": "60c1a0c7-04a5-40c6-9548-011e57fdda1b",
   "metadata": {},
   "outputs": [],
   "source": [
    "os.environ['SUPERWISE_CLIENT_ID'] = 'REPLACE_WITH_YOUR_CLIENT'\n",
    "os.environ['SUPERWISE_SECRET'] = 'REPLACE_WITH_YOUR_SECRET'"
   ]
  },
  {
   "cell_type": "markdown",
   "id": "1f68e772-98e1-49b3-b1c4-d0c7c11a03c7",
   "metadata": {},
   "source": [
    "Create an instance of the Superwise object to interact with the Superwise APIs. All APIs will now be accessible under the sw instance\n"
   ]
  },
  {
   "cell_type": "code",
   "execution_count": 3,
   "id": "operational-greek",
   "metadata": {},
   "outputs": [],
   "source": [
    "sw = Superwise()"
   ]
  },
  {
   "cell_type": "markdown",
   "id": "20fd4820-2dd0-4ad7-9194-93cc2ffa9865",
   "metadata": {},
   "source": [
    "# Simualte model training flow"
   ]
  },
  {
   "cell_type": "markdown",
   "id": "2c32293d-0cbf-45cc-90a1-9f402aee3732",
   "metadata": {
    "jp-MarkdownHeadingCollapsed": true,
    "tags": []
   },
   "source": [
    "For this toturial we will use Diamonds public dataset. This classic dataset contains the prices and other attributes of almost 54,000 diamonds"
   ]
  },
  {
   "cell_type": "markdown",
   "id": "brave-input",
   "metadata": {
    "tags": []
   },
   "source": [
    "## Load data"
   ]
  },
  {
   "cell_type": "code",
   "execution_count": 4,
   "id": "diagnostic-cameroon",
   "metadata": {},
   "outputs": [
    {
     "data": {
      "text/html": [
       "<div>\n",
       "<style scoped>\n",
       "    .dataframe tbody tr th:only-of-type {\n",
       "        vertical-align: middle;\n",
       "    }\n",
       "\n",
       "    .dataframe tbody tr th {\n",
       "        vertical-align: top;\n",
       "    }\n",
       "\n",
       "    .dataframe thead th {\n",
       "        text-align: right;\n",
       "    }\n",
       "</style>\n",
       "<table border=\"1\" class=\"dataframe\">\n",
       "  <thead>\n",
       "    <tr style=\"text-align: right;\">\n",
       "      <th></th>\n",
       "      <th>carat</th>\n",
       "      <th>cut</th>\n",
       "      <th>color</th>\n",
       "      <th>clarity</th>\n",
       "      <th>depth</th>\n",
       "      <th>table</th>\n",
       "      <th>price</th>\n",
       "      <th>x</th>\n",
       "      <th>y</th>\n",
       "      <th>z</th>\n",
       "    </tr>\n",
       "  </thead>\n",
       "  <tbody>\n",
       "    <tr>\n",
       "      <th>0</th>\n",
       "      <td>0.23</td>\n",
       "      <td>Ideal</td>\n",
       "      <td>E</td>\n",
       "      <td>SI2</td>\n",
       "      <td>61.5</td>\n",
       "      <td>55.0</td>\n",
       "      <td>326</td>\n",
       "      <td>3.95</td>\n",
       "      <td>3.98</td>\n",
       "      <td>2.43</td>\n",
       "    </tr>\n",
       "    <tr>\n",
       "      <th>1</th>\n",
       "      <td>0.21</td>\n",
       "      <td>Premium</td>\n",
       "      <td>E</td>\n",
       "      <td>SI1</td>\n",
       "      <td>59.8</td>\n",
       "      <td>61.0</td>\n",
       "      <td>326</td>\n",
       "      <td>3.89</td>\n",
       "      <td>3.84</td>\n",
       "      <td>2.31</td>\n",
       "    </tr>\n",
       "    <tr>\n",
       "      <th>2</th>\n",
       "      <td>0.23</td>\n",
       "      <td>Good</td>\n",
       "      <td>E</td>\n",
       "      <td>VS1</td>\n",
       "      <td>56.9</td>\n",
       "      <td>65.0</td>\n",
       "      <td>327</td>\n",
       "      <td>4.05</td>\n",
       "      <td>4.07</td>\n",
       "      <td>2.31</td>\n",
       "    </tr>\n",
       "    <tr>\n",
       "      <th>3</th>\n",
       "      <td>0.29</td>\n",
       "      <td>Premium</td>\n",
       "      <td>I</td>\n",
       "      <td>VS2</td>\n",
       "      <td>62.4</td>\n",
       "      <td>58.0</td>\n",
       "      <td>334</td>\n",
       "      <td>4.20</td>\n",
       "      <td>4.23</td>\n",
       "      <td>2.63</td>\n",
       "    </tr>\n",
       "    <tr>\n",
       "      <th>4</th>\n",
       "      <td>0.31</td>\n",
       "      <td>Good</td>\n",
       "      <td>J</td>\n",
       "      <td>SI2</td>\n",
       "      <td>63.3</td>\n",
       "      <td>58.0</td>\n",
       "      <td>335</td>\n",
       "      <td>4.34</td>\n",
       "      <td>4.35</td>\n",
       "      <td>2.75</td>\n",
       "    </tr>\n",
       "  </tbody>\n",
       "</table>\n",
       "</div>"
      ],
      "text/plain": [
       "   carat      cut color clarity  depth  table  price     x     y     z\n",
       "0   0.23    Ideal     E     SI2   61.5   55.0    326  3.95  3.98  2.43\n",
       "1   0.21  Premium     E     SI1   59.8   61.0    326  3.89  3.84  2.31\n",
       "2   0.23     Good     E     VS1   56.9   65.0    327  4.05  4.07  2.31\n",
       "3   0.29  Premium     I     VS2   62.4   58.0    334  4.20  4.23  2.63\n",
       "4   0.31     Good     J     SI2   63.3   58.0    335  4.34  4.35  2.75"
      ]
     },
     "execution_count": 4,
     "metadata": {},
     "output_type": "execute_result"
    }
   ],
   "source": [
    "diamonds = pd.read_csv('https://www.openml.org/data/get_csv/21792853/dataset')\n",
    "diamonds.head()"
   ]
  },
  {
   "cell_type": "markdown",
   "id": "8c77d3eb-d0f0-4254-a933-1987fb5d2441",
   "metadata": {},
   "source": [
    "Dataset properties:\n",
    "- carat weight of the diamond (0.2--5.01)\n",
    "- cut quality of the cut (Fair, Good, Very Good, Premium, Ideal)\n",
    "- color diamond colour, from J (worst) to D (best)\n",
    "- clarity a measurement of how clear the diamond is (I1 (worst), SI2, SI1, VS2, VS1, VVS2, VVS1, IF (best))\n",
    "- depth total depth percentage = z / mean(x, y) = 2 * z / (x + y) (43--79)\n",
    "- table width of top of diamond relative to widest point (43--95)\n",
    "- price price in US dollars ($326--$18,823) - Label\n",
    "- x length in mm (0--10.74)\n",
    "- y width in mm (0--58.9)\n",
    "- z depth in mm (0--31.8)"
   ]
  },
  {
   "cell_type": "markdown",
   "id": "unexpected-amazon",
   "metadata": {},
   "source": [
    "## Split Train-Test\n",
    "\n",
    "The training dataset will use as later on as a reference dataset (AKA baseline). The test dataset will simulate a production data that feed into the model. You can read mode about the baseline dataset concept [here](https://docs.superwise.ai/docs/baseline)"
   ]
  },
  {
   "cell_type": "code",
   "execution_count": 5,
   "id": "received-strength",
   "metadata": {},
   "outputs": [
    {
     "data": {
      "text/html": [
       "<div>\n",
       "<style scoped>\n",
       "    .dataframe tbody tr th:only-of-type {\n",
       "        vertical-align: middle;\n",
       "    }\n",
       "\n",
       "    .dataframe tbody tr th {\n",
       "        vertical-align: top;\n",
       "    }\n",
       "\n",
       "    .dataframe thead th {\n",
       "        text-align: right;\n",
       "    }\n",
       "</style>\n",
       "<table border=\"1\" class=\"dataframe\">\n",
       "  <thead>\n",
       "    <tr style=\"text-align: right;\">\n",
       "      <th></th>\n",
       "      <th>carat</th>\n",
       "      <th>cut</th>\n",
       "      <th>color</th>\n",
       "      <th>clarity</th>\n",
       "      <th>depth</th>\n",
       "      <th>table</th>\n",
       "      <th>x</th>\n",
       "      <th>y</th>\n",
       "      <th>z</th>\n",
       "    </tr>\n",
       "  </thead>\n",
       "  <tbody>\n",
       "    <tr>\n",
       "      <th>19497</th>\n",
       "      <td>1.21</td>\n",
       "      <td>Ideal</td>\n",
       "      <td>H</td>\n",
       "      <td>VVS2</td>\n",
       "      <td>61.3</td>\n",
       "      <td>57.0</td>\n",
       "      <td>6.92</td>\n",
       "      <td>6.87</td>\n",
       "      <td>4.23</td>\n",
       "    </tr>\n",
       "    <tr>\n",
       "      <th>31229</th>\n",
       "      <td>0.31</td>\n",
       "      <td>Ideal</td>\n",
       "      <td>E</td>\n",
       "      <td>VS2</td>\n",
       "      <td>62.0</td>\n",
       "      <td>56.0</td>\n",
       "      <td>4.38</td>\n",
       "      <td>4.36</td>\n",
       "      <td>2.71</td>\n",
       "    </tr>\n",
       "    <tr>\n",
       "      <th>22311</th>\n",
       "      <td>1.21</td>\n",
       "      <td>Ideal</td>\n",
       "      <td>E</td>\n",
       "      <td>VS1</td>\n",
       "      <td>62.4</td>\n",
       "      <td>57.0</td>\n",
       "      <td>6.75</td>\n",
       "      <td>6.83</td>\n",
       "      <td>4.24</td>\n",
       "    </tr>\n",
       "    <tr>\n",
       "      <th>278</th>\n",
       "      <td>0.81</td>\n",
       "      <td>Ideal</td>\n",
       "      <td>F</td>\n",
       "      <td>SI2</td>\n",
       "      <td>62.6</td>\n",
       "      <td>55.0</td>\n",
       "      <td>5.92</td>\n",
       "      <td>5.96</td>\n",
       "      <td>3.72</td>\n",
       "    </tr>\n",
       "    <tr>\n",
       "      <th>6646</th>\n",
       "      <td>0.79</td>\n",
       "      <td>Ideal</td>\n",
       "      <td>I</td>\n",
       "      <td>VVS2</td>\n",
       "      <td>61.7</td>\n",
       "      <td>56.0</td>\n",
       "      <td>5.94</td>\n",
       "      <td>5.95</td>\n",
       "      <td>3.67</td>\n",
       "    </tr>\n",
       "  </tbody>\n",
       "</table>\n",
       "</div>"
      ],
      "text/plain": [
       "       carat    cut color clarity  depth  table     x     y     z\n",
       "19497   1.21  Ideal     H    VVS2   61.3   57.0  6.92  6.87  4.23\n",
       "31229   0.31  Ideal     E     VS2   62.0   56.0  4.38  4.36  2.71\n",
       "22311   1.21  Ideal     E     VS1   62.4   57.0  6.75  6.83  4.24\n",
       "278     0.81  Ideal     F     SI2   62.6   55.0  5.92  5.96  3.72\n",
       "6646    0.79  Ideal     I    VVS2   61.7   56.0  5.94  5.95  3.67"
      ]
     },
     "execution_count": 5,
     "metadata": {},
     "output_type": "execute_result"
    }
   ],
   "source": [
    "X = diamonds.drop(columns=\"price\")\n",
    "y = diamonds[\"price\"]\n",
    "\n",
    "X_train, X_test, y_train, y_test = train_test_split(X, y, test_size=0.3, random_state=42)\n",
    "X_train.head()"
   ]
  },
  {
   "cell_type": "markdown",
   "id": "varying-holocaust",
   "metadata": {},
   "source": [
    "## Pre-processing\n",
    "\n",
    "In order to use categorical features in our model, we will trasform them into numeric values using One Hot Encoding"
   ]
  },
  {
   "cell_type": "code",
   "execution_count": 6,
   "id": "broke-foster",
   "metadata": {},
   "outputs": [],
   "source": [
    "categorical_cols = ['cut','clarity','color']\n",
    "\n",
    "preprocessor = ColumnTransformer(\n",
    "    transformers=[\n",
    "        ('categorical',  OneHotEncoder(), categorical_cols)\n",
    "    ], remainder='passthrough')"
   ]
  },
  {
   "cell_type": "markdown",
   "id": "hearing-delhi",
   "metadata": {},
   "source": [
    "## Train your model\n",
    "\n",
    "In this example we will train a simple Liner Regression"
   ]
  },
  {
   "cell_type": "code",
   "execution_count": 7,
   "id": "emotional-bangladesh",
   "metadata": {},
   "outputs": [
    {
     "data": {
      "text/plain": [
       "Pipeline(steps=[('preprocessor',\n",
       "                 ColumnTransformer(remainder='passthrough',\n",
       "                                   transformers=[('categorical',\n",
       "                                                  OneHotEncoder(),\n",
       "                                                  ['cut', 'clarity',\n",
       "                                                   'color'])])),\n",
       "                ('model', LinearRegression())])"
      ]
     },
     "execution_count": 7,
     "metadata": {},
     "output_type": "execute_result"
    }
   ],
   "source": [
    "diamond_price_model=LinearRegression()\n",
    "\n",
    "my_pipeline = Pipeline(steps=[\n",
    "    ('preprocessor', preprocessor),\n",
    "    ('model', diamond_price_model)\n",
    "])\n",
    "\n",
    "my_pipeline.fit(X_train, y_train)"
   ]
  },
  {
   "cell_type": "markdown",
   "id": "pharmaceutical-graph",
   "metadata": {},
   "source": [
    "## Predict\n",
    "\n",
    "Use the model we trained in order to predict the price"
   ]
  },
  {
   "cell_type": "code",
   "execution_count": 8,
   "id": "waiting-undergraduate",
   "metadata": {},
   "outputs": [],
   "source": [
    "y_pred_train =  my_pipeline.predict(X_train)"
   ]
  },
  {
   "cell_type": "markdown",
   "id": "lesser-bosnia",
   "metadata": {},
   "source": [
    "# Lets integrate with Superwise\n",
    "\n",
    "Now that we have a trained model, we can start and log it into Superwise and start monitor it"
   ]
  },
  {
   "cell_type": "markdown",
   "id": "novel-sewing",
   "metadata": {},
   "source": [
    "## Create a Model\n",
    "\n",
    "Models, or machine learning-based decision processes are the basic atomic component that Superwise observes"
   ]
  },
  {
   "cell_type": "code",
   "execution_count": 9,
   "id": "corresponding-nursery",
   "metadata": {
    "tags": []
   },
   "outputs": [
    {
     "name": "stdout",
     "output_type": "stream",
     "text": [
      "New task Created - 54\n"
     ]
    }
   ],
   "source": [
    "diamond_task = Task(\n",
    "    name=\"Diamond Model\",\n",
    "    description=\"Regression model which predict the diamond price\"\n",
    ")\n",
    "\n",
    "diamond_task = sw.task.create(diamond_task)\n",
    "print(f\"New task Created - {diamond_task.id}\")"
   ]
  },
  {
   "cell_type": "markdown",
   "id": "peripheral-basic",
   "metadata": {},
   "source": [
    "## Create a Version\n",
    "\n",
    "Deploying a model to production is only step 1, as models require iterative improvement and ongoing updates. Differences between versions may be ad hoc schema changes or retraining on a new data set to refit the model hyperparameters under the same given schema.\n",
    "\n",
    "This proccess contains 3 main steps \n",
    "    - Preparing the baseline dataset based on the training data\n",
    "    - Define the version schema\n",
    "    - Log the version in Superwise app"
   ]
  },
  {
   "cell_type": "markdown",
   "id": "portable-biology",
   "metadata": {},
   "source": [
    "### Prepare Baseline Dataset\n",
    "\n",
    "Here we going to add 4 columns to our dataset - \n",
    "\n",
    "- ID - Unique identifier per row or prediction (Required)\n",
    "- Timestampe - Indicates when the prediction took place (Required)\n",
    "- Model prediction\n",
    "- Label - the real diamond price"
   ]
  },
  {
   "cell_type": "code",
   "execution_count": 11,
   "id": "gothic-forth",
   "metadata": {},
   "outputs": [
    {
     "data": {
      "text/html": [
       "<div>\n",
       "<style scoped>\n",
       "    .dataframe tbody tr th:only-of-type {\n",
       "        vertical-align: middle;\n",
       "    }\n",
       "\n",
       "    .dataframe tbody tr th {\n",
       "        vertical-align: top;\n",
       "    }\n",
       "\n",
       "    .dataframe thead th {\n",
       "        text-align: right;\n",
       "    }\n",
       "</style>\n",
       "<table border=\"1\" class=\"dataframe\">\n",
       "  <thead>\n",
       "    <tr style=\"text-align: right;\">\n",
       "      <th></th>\n",
       "      <th>carat</th>\n",
       "      <th>cut</th>\n",
       "      <th>color</th>\n",
       "      <th>clarity</th>\n",
       "      <th>depth</th>\n",
       "      <th>table</th>\n",
       "      <th>x</th>\n",
       "      <th>y</th>\n",
       "      <th>z</th>\n",
       "      <th>id</th>\n",
       "      <th>ts</th>\n",
       "      <th>prediction</th>\n",
       "      <th>price</th>\n",
       "    </tr>\n",
       "  </thead>\n",
       "  <tbody>\n",
       "    <tr>\n",
       "      <th>19497</th>\n",
       "      <td>1.21</td>\n",
       "      <td>Ideal</td>\n",
       "      <td>H</td>\n",
       "      <td>VVS2</td>\n",
       "      <td>61.3</td>\n",
       "      <td>57.0</td>\n",
       "      <td>6.92</td>\n",
       "      <td>6.87</td>\n",
       "      <td>4.23</td>\n",
       "      <td>19497</td>\n",
       "      <td>2021-12-27 17:27:56.433781</td>\n",
       "      <td>8060.0</td>\n",
       "      <td>8131</td>\n",
       "    </tr>\n",
       "    <tr>\n",
       "      <th>31229</th>\n",
       "      <td>0.31</td>\n",
       "      <td>Ideal</td>\n",
       "      <td>E</td>\n",
       "      <td>VS2</td>\n",
       "      <td>62.0</td>\n",
       "      <td>56.0</td>\n",
       "      <td>4.38</td>\n",
       "      <td>4.36</td>\n",
       "      <td>2.71</td>\n",
       "      <td>31229</td>\n",
       "      <td>2021-12-27 17:27:56.433781</td>\n",
       "      <td>613.0</td>\n",
       "      <td>756</td>\n",
       "    </tr>\n",
       "    <tr>\n",
       "      <th>22311</th>\n",
       "      <td>1.21</td>\n",
       "      <td>Ideal</td>\n",
       "      <td>E</td>\n",
       "      <td>VS1</td>\n",
       "      <td>62.4</td>\n",
       "      <td>57.0</td>\n",
       "      <td>6.75</td>\n",
       "      <td>6.83</td>\n",
       "      <td>4.24</td>\n",
       "      <td>22311</td>\n",
       "      <td>2021-12-27 17:27:56.433781</td>\n",
       "      <td>8568.0</td>\n",
       "      <td>10351</td>\n",
       "    </tr>\n",
       "    <tr>\n",
       "      <th>278</th>\n",
       "      <td>0.81</td>\n",
       "      <td>Ideal</td>\n",
       "      <td>F</td>\n",
       "      <td>SI2</td>\n",
       "      <td>62.6</td>\n",
       "      <td>55.0</td>\n",
       "      <td>5.92</td>\n",
       "      <td>5.96</td>\n",
       "      <td>3.72</td>\n",
       "      <td>278</td>\n",
       "      <td>2021-12-27 17:27:56.433781</td>\n",
       "      <td>3037.5</td>\n",
       "      <td>2795</td>\n",
       "    </tr>\n",
       "    <tr>\n",
       "      <th>6646</th>\n",
       "      <td>0.79</td>\n",
       "      <td>Ideal</td>\n",
       "      <td>I</td>\n",
       "      <td>VVS2</td>\n",
       "      <td>61.7</td>\n",
       "      <td>56.0</td>\n",
       "      <td>5.94</td>\n",
       "      <td>5.95</td>\n",
       "      <td>3.67</td>\n",
       "      <td>6646</td>\n",
       "      <td>2021-12-27 17:27:56.433781</td>\n",
       "      <td>3866.5</td>\n",
       "      <td>4092</td>\n",
       "    </tr>\n",
       "  </tbody>\n",
       "</table>\n",
       "</div>"
      ],
      "text/plain": [
       "       carat    cut color clarity  depth  table     x     y     z     id  \\\n",
       "19497   1.21  Ideal     H    VVS2   61.3   57.0  6.92  6.87  4.23  19497   \n",
       "31229   0.31  Ideal     E     VS2   62.0   56.0  4.38  4.36  2.71  31229   \n",
       "22311   1.21  Ideal     E     VS1   62.4   57.0  6.75  6.83  4.24  22311   \n",
       "278     0.81  Ideal     F     SI2   62.6   55.0  5.92  5.96  3.72    278   \n",
       "6646    0.79  Ideal     I    VVS2   61.7   56.0  5.94  5.95  3.67   6646   \n",
       "\n",
       "                              ts  prediction  price  \n",
       "19497 2021-12-27 17:27:56.433781      8060.0   8131  \n",
       "31229 2021-12-27 17:27:56.433781       613.0    756  \n",
       "22311 2021-12-27 17:27:56.433781      8568.0  10351  \n",
       "278   2021-12-27 17:27:56.433781      3037.5   2795  \n",
       "6646  2021-12-27 17:27:56.433781      3866.5   4092  "
      ]
     },
     "execution_count": 11,
     "metadata": {},
     "output_type": "execute_result"
    }
   ],
   "source": [
    "baseline_data = X_train.assign(\n",
    "    id=X_train.index,\n",
    "    ts=pd.Timestamp.now(),\n",
    "    prediction=y_pred_train,\n",
    "    price=y_train\n",
    ")\n",
    "baseline_data[\"prediction\"] = baseline_data[\"prediction\"].astype(float)\n",
    "baseline_data.to_csv('data/baseline.csv', index=False)\n",
    "baseline_data.head()"
   ]
  },
  {
   "cell_type": "markdown",
   "id": "foster-values",
   "metadata": {},
   "source": [
    "### Infer schema\n",
    "\n",
    "Because each model version could introduce new input formats, each version requires an explicit schema definition. Schema is a collection of different data entities (a.k.a columns) that are part of the specific version of the machine learning decision process. Each data entity has its own data type and has a specific role in the ML process.\n",
    "\n",
    "You can read more about the data entites roles and supported data types [here](https://docs.superwise.ai/docs/version)"
   ]
  },
  {
   "cell_type": "code",
   "execution_count": 12,
   "id": "great-profession",
   "metadata": {
    "tags": []
   },
   "outputs": [],
   "source": [
    "entities_collection = sw.data_entity.summarise(\n",
    "    data=baseline_data,\n",
    "    specific_roles = {\n",
    "      'id': DataEntityRole.ID,\n",
    "      'ts': DataEntityRole.TIMESTAMP,\n",
    "      'prediction': DataEntityRole.PREDICTION_VALUE,\n",
    "      'price': DataEntityRole.LABEL\n",
    "    }\n",
    ")"
   ]
  },
  {
   "cell_type": "markdown",
   "id": "5d7572e0-8851-45ea-be51-0b081c90fee3",
   "metadata": {},
   "source": [
    "Here are the schema main properties (roles, types, feature importance and descriptive statistics):"
   ]
  },
  {
   "cell_type": "code",
   "execution_count": 13,
   "id": "b476e936-313d-480c-bc03-5a6c5fe7cb9d",
   "metadata": {},
   "outputs": [
    {
     "data": {
      "text/html": [
       "<div>\n",
       "<style scoped>\n",
       "    .dataframe tbody tr th:only-of-type {\n",
       "        vertical-align: middle;\n",
       "    }\n",
       "\n",
       "    .dataframe tbody tr th {\n",
       "        vertical-align: top;\n",
       "    }\n",
       "\n",
       "    .dataframe thead th {\n",
       "        text-align: right;\n",
       "    }\n",
       "</style>\n",
       "<table border=\"1\" class=\"dataframe\">\n",
       "  <thead>\n",
       "    <tr style=\"text-align: right;\">\n",
       "      <th></th>\n",
       "      <th>data_type</th>\n",
       "      <th>dimension_start_ts</th>\n",
       "      <th>feature_importance</th>\n",
       "      <th>id</th>\n",
       "      <th>name</th>\n",
       "      <th>role</th>\n",
       "      <th>secondary_type</th>\n",
       "      <th>summary</th>\n",
       "      <th>type</th>\n",
       "    </tr>\n",
       "  </thead>\n",
       "  <tbody>\n",
       "    <tr>\n",
       "      <th>0</th>\n",
       "      <td>number</td>\n",
       "      <td>None</td>\n",
       "      <td>61.74</td>\n",
       "      <td>None</td>\n",
       "      <td>carat</td>\n",
       "      <td>feature</td>\n",
       "      <td>Num_centered</td>\n",
       "      <td>{'statistics': {'missing_values': 0.0, 'outlie...</td>\n",
       "      <td>Numeric</td>\n",
       "    </tr>\n",
       "    <tr>\n",
       "      <th>1</th>\n",
       "      <td>text</td>\n",
       "      <td>None</td>\n",
       "      <td>0.01</td>\n",
       "      <td>None</td>\n",
       "      <td>cut</td>\n",
       "      <td>feature</td>\n",
       "      <td>Cat_dense</td>\n",
       "      <td>{'statistics': {'missing_values': 0.0, 'new_va...</td>\n",
       "      <td>Categorical</td>\n",
       "    </tr>\n",
       "    <tr>\n",
       "      <th>2</th>\n",
       "      <td>text</td>\n",
       "      <td>None</td>\n",
       "      <td>6.03</td>\n",
       "      <td>None</td>\n",
       "      <td>color</td>\n",
       "      <td>feature</td>\n",
       "      <td>Cat_dense</td>\n",
       "      <td>{'statistics': {'missing_values': 0.0, 'new_va...</td>\n",
       "      <td>Categorical</td>\n",
       "    </tr>\n",
       "    <tr>\n",
       "      <th>3</th>\n",
       "      <td>text</td>\n",
       "      <td>None</td>\n",
       "      <td>11.16</td>\n",
       "      <td>None</td>\n",
       "      <td>clarity</td>\n",
       "      <td>feature</td>\n",
       "      <td>Cat_dense</td>\n",
       "      <td>{'statistics': {'missing_values': 0.0, 'new_va...</td>\n",
       "      <td>Categorical</td>\n",
       "    </tr>\n",
       "    <tr>\n",
       "      <th>4</th>\n",
       "      <td>number</td>\n",
       "      <td>None</td>\n",
       "      <td>0.01</td>\n",
       "      <td>None</td>\n",
       "      <td>depth</td>\n",
       "      <td>feature</td>\n",
       "      <td>Num_centered</td>\n",
       "      <td>{'statistics': {'missing_values': 0.0, 'outlie...</td>\n",
       "      <td>Numeric</td>\n",
       "    </tr>\n",
       "  </tbody>\n",
       "</table>\n",
       "</div>"
      ],
      "text/plain": [
       "  data_type dimension_start_ts  feature_importance    id     name     role  \\\n",
       "0    number               None               61.74  None    carat  feature   \n",
       "1      text               None                0.01  None      cut  feature   \n",
       "2      text               None                6.03  None    color  feature   \n",
       "3      text               None               11.16  None  clarity  feature   \n",
       "4    number               None                0.01  None    depth  feature   \n",
       "\n",
       "  secondary_type                                            summary  \\\n",
       "0   Num_centered  {'statistics': {'missing_values': 0.0, 'outlie...   \n",
       "1      Cat_dense  {'statistics': {'missing_values': 0.0, 'new_va...   \n",
       "2      Cat_dense  {'statistics': {'missing_values': 0.0, 'new_va...   \n",
       "3      Cat_dense  {'statistics': {'missing_values': 0.0, 'new_va...   \n",
       "4   Num_centered  {'statistics': {'missing_values': 0.0, 'outlie...   \n",
       "\n",
       "          type  \n",
       "0      Numeric  \n",
       "1  Categorical  \n",
       "2  Categorical  \n",
       "3  Categorical  \n",
       "4      Numeric  "
      ]
     },
     "execution_count": 13,
     "metadata": {},
     "output_type": "execute_result"
    }
   ],
   "source": [
    "ls = list()\n",
    "for entity in entities_collection:\n",
    "    ls.append(entity.get_properties())\n",
    "    \n",
    "pd.DataFrame(ls).head()"
   ]
  },
  {
   "cell_type": "markdown",
   "id": "fuzzy-burden",
   "metadata": {},
   "source": [
    "### Activate a Version\n",
    "\n",
    "Now that we have model and schema, lets combaine them together into a version"
   ]
  },
  {
   "cell_type": "code",
   "execution_count": 14,
   "id": "british-nutrition",
   "metadata": {},
   "outputs": [],
   "source": [
    "new_version = Version(\n",
    "    task_id=diamond_task.id,\n",
    "    name=\"1.0.0\",\n",
    "    data_entities=entities_collection,\n",
    ")\n",
    "\n",
    "new_version = sw.version.create(new_version)"
   ]
  },
  {
   "cell_type": "code",
   "execution_count": 15,
   "id": "c7a3df89-7ca6-4c35-a55f-e99a6c377959",
   "metadata": {},
   "outputs": [
    {
     "data": {
      "text/plain": [
       "<Response [204]>"
      ]
     },
     "execution_count": 15,
     "metadata": {},
     "output_type": "execute_result"
    }
   ],
   "source": [
    "sw.version.activate(new_version.id)"
   ]
  },
  {
   "cell_type": "markdown",
   "id": "bd940c08-c8bd-4839-980a-c59cfb24e71b",
   "metadata": {},
   "source": [
    "## Log production data"
   ]
  },
  {
   "cell_type": "markdown",
   "id": "direct-cylinder",
   "metadata": {},
   "source": [
    "We will use the test data in order to simulate the production data"
   ]
  },
  {
   "cell_type": "markdown",
   "id": "automated-transfer",
   "metadata": {},
   "source": [
    "### Predictions\n",
    "\n",
    "The predictions data should include all the data entities with the following roles - Id, Timestamp, Metadata, Feature, Prediction probability, Prediction value, Label weight - as you define in the version schema above.\n",
    "In our diamonds example, we will add the following columns - id, timestamp and model prediction.\n",
    "\n",
    "Notice that if some data entities are missing, you will get a schema skew error, which means that the data will not be streaming into Superwise."
   ]
  },
  {
   "cell_type": "code",
   "execution_count": 16,
   "id": "engaging-gauge",
   "metadata": {},
   "outputs": [],
   "source": [
    "y_test_pred= my_pipeline.predict(X_test)"
   ]
  },
  {
   "cell_type": "code",
   "execution_count": 38,
   "id": "decent-measurement",
   "metadata": {},
   "outputs": [
    {
     "data": {
      "text/html": [
       "<div>\n",
       "<style scoped>\n",
       "    .dataframe tbody tr th:only-of-type {\n",
       "        vertical-align: middle;\n",
       "    }\n",
       "\n",
       "    .dataframe tbody tr th {\n",
       "        vertical-align: top;\n",
       "    }\n",
       "\n",
       "    .dataframe thead th {\n",
       "        text-align: right;\n",
       "    }\n",
       "</style>\n",
       "<table border=\"1\" class=\"dataframe\">\n",
       "  <thead>\n",
       "    <tr style=\"text-align: right;\">\n",
       "      <th></th>\n",
       "      <th>carat</th>\n",
       "      <th>cut</th>\n",
       "      <th>color</th>\n",
       "      <th>clarity</th>\n",
       "      <th>depth</th>\n",
       "      <th>table</th>\n",
       "      <th>x</th>\n",
       "      <th>y</th>\n",
       "      <th>z</th>\n",
       "      <th>id</th>\n",
       "      <th>ts</th>\n",
       "      <th>prediction</th>\n",
       "    </tr>\n",
       "  </thead>\n",
       "  <tbody>\n",
       "    <tr>\n",
       "      <th>1388</th>\n",
       "      <td>0.24</td>\n",
       "      <td>Ideal</td>\n",
       "      <td>G</td>\n",
       "      <td>VVS1</td>\n",
       "      <td>62.1</td>\n",
       "      <td>56.0</td>\n",
       "      <td>3.97</td>\n",
       "      <td>4.00</td>\n",
       "      <td>2.47</td>\n",
       "      <td>1388</td>\n",
       "      <td>2021-12-27 17:00:00</td>\n",
       "      <td>718.0</td>\n",
       "    </tr>\n",
       "    <tr>\n",
       "      <th>50052</th>\n",
       "      <td>0.58</td>\n",
       "      <td>'Very Good'</td>\n",
       "      <td>F</td>\n",
       "      <td>VVS2</td>\n",
       "      <td>60.0</td>\n",
       "      <td>57.0</td>\n",
       "      <td>5.44</td>\n",
       "      <td>5.42</td>\n",
       "      <td>3.26</td>\n",
       "      <td>50052</td>\n",
       "      <td>2021-12-27 17:00:00</td>\n",
       "      <td>3192.0</td>\n",
       "    </tr>\n",
       "    <tr>\n",
       "      <th>41645</th>\n",
       "      <td>0.40</td>\n",
       "      <td>Ideal</td>\n",
       "      <td>E</td>\n",
       "      <td>VVS2</td>\n",
       "      <td>62.1</td>\n",
       "      <td>55.0</td>\n",
       "      <td>4.76</td>\n",
       "      <td>4.74</td>\n",
       "      <td>2.95</td>\n",
       "      <td>41645</td>\n",
       "      <td>2021-12-27 17:00:00</td>\n",
       "      <td>1951.5</td>\n",
       "    </tr>\n",
       "    <tr>\n",
       "      <th>42377</th>\n",
       "      <td>0.43</td>\n",
       "      <td>Premium</td>\n",
       "      <td>E</td>\n",
       "      <td>VVS2</td>\n",
       "      <td>60.8</td>\n",
       "      <td>57.0</td>\n",
       "      <td>4.92</td>\n",
       "      <td>4.89</td>\n",
       "      <td>2.98</td>\n",
       "      <td>42377</td>\n",
       "      <td>2021-12-27 17:00:00</td>\n",
       "      <td>2083.0</td>\n",
       "    </tr>\n",
       "    <tr>\n",
       "      <th>17244</th>\n",
       "      <td>1.55</td>\n",
       "      <td>Ideal</td>\n",
       "      <td>E</td>\n",
       "      <td>SI2</td>\n",
       "      <td>62.3</td>\n",
       "      <td>55.0</td>\n",
       "      <td>7.44</td>\n",
       "      <td>7.37</td>\n",
       "      <td>4.61</td>\n",
       "      <td>17244</td>\n",
       "      <td>2021-12-27 17:00:00</td>\n",
       "      <td>9876.0</td>\n",
       "    </tr>\n",
       "  </tbody>\n",
       "</table>\n",
       "</div>"
      ],
      "text/plain": [
       "       carat          cut color clarity  depth  table     x     y     z  \\\n",
       "1388    0.24        Ideal     G    VVS1   62.1   56.0  3.97  4.00  2.47   \n",
       "50052   0.58  'Very Good'     F    VVS2   60.0   57.0  5.44  5.42  3.26   \n",
       "41645   0.40        Ideal     E    VVS2   62.1   55.0  4.76  4.74  2.95   \n",
       "42377   0.43      Premium     E    VVS2   60.8   57.0  4.92  4.89  2.98   \n",
       "17244   1.55        Ideal     E     SI2   62.3   55.0  7.44  7.37  4.61   \n",
       "\n",
       "          id                  ts  prediction  \n",
       "1388    1388 2021-12-27 17:00:00       718.0  \n",
       "50052  50052 2021-12-27 17:00:00      3192.0  \n",
       "41645  41645 2021-12-27 17:00:00      1951.5  \n",
       "42377  42377 2021-12-27 17:00:00      2083.0  \n",
       "17244  17244 2021-12-27 17:00:00      9876.0  "
      ]
     },
     "execution_count": 38,
     "metadata": {},
     "output_type": "execute_result"
    }
   ],
   "source": [
    "prediction_time_vector = pd.Timestamp.now().floor('h') - \\\n",
    "    pd.TimedeltaIndex(X_test.reset_index(drop=True).index // int(X_test.shape[0] // 30), unit='D')\n",
    "\n",
    "ongoing_prediction = X_test.assign(\n",
    "    id=X_test.index,\n",
    "    ts=prediction_time_vector,\n",
    "    prediction=y_test_pred\n",
    ")\n",
    "ongoing_prediction[\"prediction\"] = ongoing_prediction[\"prediction\"].astype(float)\n",
    "ongoing_prediction.to_csv('data/ongoing_prediction.csv', index=False)\n",
    "ongoing_prediction.head()"
   ]
  },
  {
   "cell_type": "markdown",
   "id": "f869ae2c-7dde-4c58-bde9-d9106649b91b",
   "metadata": {},
   "source": [
    "After we fit the data according to the schema, he is now ready to be sent. you must proive the model and the version of the model that used to predict. \n",
    "\n",
    "Notice that each chuck of data should be not more then 1000 records"
   ]
  },
  {
   "cell_type": "code",
   "execution_count": 39,
   "id": "fc637625-3eda-4bbe-864a-121aacad67d6",
   "metadata": {},
   "outputs": [],
   "source": [
    "def chunks(lst, n):\n",
    "    \"\"\"Yield successive n-sized chunks from lst.\"\"\"\n",
    "    for i in range(0, len(lst), n):\n",
    "        yield lst[i:i + n]"
   ]
  },
  {
   "cell_type": "code",
   "execution_count": 40,
   "id": "4442b1e9-482e-4f76-a4b8-99064a89f5c9",
   "metadata": {},
   "outputs": [
    {
     "name": "stdout",
     "output_type": "stream",
     "text": [
      "{'transaction_id': 'eee1ee98-672a-11ec-920b-5acaded3d43d'}\n",
      "{'transaction_id': 'f02a559c-672a-11ec-b09e-426f0aedd514'}\n",
      "{'transaction_id': 'f16ed13a-672a-11ec-950c-426f0aedd514'}\n",
      "{'transaction_id': 'f2b3be48-672a-11ec-a5d6-5acaded3d43d'}\n",
      "{'transaction_id': 'f42dc7c8-672a-11ec-ab12-5acaded3d43d'}\n",
      "{'transaction_id': 'f5a29638-672a-11ec-9e51-5acaded3d43d'}\n",
      "{'transaction_id': 'f6d2ac46-672a-11ec-a331-426f0aedd514'}\n",
      "{'transaction_id': 'f81f50a4-672a-11ec-95d6-5acaded3d43d'}\n",
      "{'transaction_id': 'f95c221c-672a-11ec-8e99-5acaded3d43d'}\n",
      "{'transaction_id': 'faaa0f9e-672a-11ec-bf37-426f0aedd514'}\n",
      "{'transaction_id': 'fbfc7198-672a-11ec-8b33-5acaded3d43d'}\n",
      "{'transaction_id': 'fd384fdc-672a-11ec-afee-426f0aedd514'}\n",
      "{'transaction_id': 'fe81af14-672a-11ec-b8bf-5acaded3d43d'}\n",
      "{'transaction_id': 'ffe799e0-672a-11ec-abcc-426f0aedd514'}\n",
      "{'transaction_id': '012c8a72-672b-11ec-a204-5acaded3d43d'}\n",
      "{'transaction_id': '027987ae-672b-11ec-98ca-426f0aedd514'}\n",
      "{'transaction_id': '0387ac20-672b-11ec-9775-5acaded3d43d'}\n"
     ]
    }
   ],
   "source": [
    "ongoing_prediction_chuncks = chunks(ongoing_prediction.to_dict(orient='records'), 1000)\n",
    "\n",
    "transaction_ids = list()\n",
    "for ongoing_prediction_chunck in ongoing_prediction_chuncks:\n",
    "    transaction_id = sw.transaction.log_records(\n",
    "        task_id=diamond_task.id, \n",
    "        version_id=new_version.name, \n",
    "        records=ongoing_prediction_chunck\n",
    "    )\n",
    "    transaction_ids.append(transaction_id)\n",
    "    print(transaction_id)"
   ]
  },
  {
   "cell_type": "code",
   "execution_count": 41,
   "id": "4a01937c-c7a6-4e67-8128-7e11d496fb74",
   "metadata": {},
   "outputs": [
    {
     "data": {
      "text/plain": [
       "'Passed'"
      ]
     },
     "execution_count": 41,
     "metadata": {},
     "output_type": "execute_result"
    }
   ],
   "source": [
    "transaction_id = sw.transaction.get(transaction_id=transaction_ids[0]['transaction_id'])\n",
    "transaction_id.get_properties()['status']"
   ]
  },
  {
   "cell_type": "markdown",
   "id": "honey-basketball",
   "metadata": {},
   "source": [
    "### Ground truth"
   ]
  },
  {
   "cell_type": "markdown",
   "id": "822efc67-6d3f-4dd6-9233-2c9539835a75",
   "metadata": {},
   "source": [
    "In ML scenarios, most of the time, The Ground truth comes back in a delay. In order to log it, the data should include all the data entities with the following roles - Id, Label (as we define in the schema). Superwise will join them automatically to the predictions that were sent earlier in order to calculate the model performance metrics."
   ]
  },
  {
   "cell_type": "code",
   "execution_count": 43,
   "id": "specific-technician",
   "metadata": {},
   "outputs": [
    {
     "data": {
      "text/html": [
       "<div>\n",
       "<style scoped>\n",
       "    .dataframe tbody tr th:only-of-type {\n",
       "        vertical-align: middle;\n",
       "    }\n",
       "\n",
       "    .dataframe tbody tr th {\n",
       "        vertical-align: top;\n",
       "    }\n",
       "\n",
       "    .dataframe thead th {\n",
       "        text-align: right;\n",
       "    }\n",
       "</style>\n",
       "<table border=\"1\" class=\"dataframe\">\n",
       "  <thead>\n",
       "    <tr style=\"text-align: right;\">\n",
       "      <th></th>\n",
       "      <th>id</th>\n",
       "      <th>price</th>\n",
       "    </tr>\n",
       "  </thead>\n",
       "  <tbody>\n",
       "    <tr>\n",
       "      <th>0</th>\n",
       "      <td>1388</td>\n",
       "      <td>559</td>\n",
       "    </tr>\n",
       "    <tr>\n",
       "      <th>1</th>\n",
       "      <td>50052</td>\n",
       "      <td>2201</td>\n",
       "    </tr>\n",
       "    <tr>\n",
       "      <th>2</th>\n",
       "      <td>41645</td>\n",
       "      <td>1238</td>\n",
       "    </tr>\n",
       "    <tr>\n",
       "      <th>3</th>\n",
       "      <td>42377</td>\n",
       "      <td>1304</td>\n",
       "    </tr>\n",
       "    <tr>\n",
       "      <th>4</th>\n",
       "      <td>17244</td>\n",
       "      <td>6901</td>\n",
       "    </tr>\n",
       "  </tbody>\n",
       "</table>\n",
       "</div>"
      ],
      "text/plain": [
       "      id  price\n",
       "0   1388    559\n",
       "1  50052   2201\n",
       "2  41645   1238\n",
       "3  42377   1304\n",
       "4  17244   6901"
      ]
     },
     "execution_count": 43,
     "metadata": {},
     "output_type": "execute_result"
    }
   ],
   "source": [
    "ongoing_labels = y_test.reset_index().copy().rename(columns={\"index\": \"id\"})\n",
    "ongoing_labels.to_csv('data/ongoing_labels.csv', index=False)\n",
    "ongoing_labels.head()"
   ]
  },
  {
   "cell_type": "markdown",
   "id": "7d54ebdc-c451-440a-befe-78794afb8dee",
   "metadata": {},
   "source": [
    "Notice that when you log the ground truth, the version_id is optional. lets say for example that you use 2 different versions in order to predict the same data record, the groud truth is relevant for both of them"
   ]
  },
  {
   "cell_type": "code",
   "execution_count": 44,
   "id": "european-lebanon",
   "metadata": {},
   "outputs": [
    {
     "name": "stdout",
     "output_type": "stream",
     "text": [
      "{'transaction_id': '3cc42a36-672b-11ec-86e5-5acaded3d43d'}\n",
      "{'transaction_id': '3da1622a-672b-11ec-8865-426f0aedd514'}\n",
      "{'transaction_id': '3e7cedf4-672b-11ec-ad4d-426f0aedd514'}\n",
      "{'transaction_id': '3f3a8d0a-672b-11ec-9684-426f0aedd514'}\n",
      "{'transaction_id': '4000adf0-672b-11ec-ac56-5acaded3d43d'}\n",
      "{'transaction_id': '40be0972-672b-11ec-9506-5acaded3d43d'}\n",
      "{'transaction_id': '41814f4a-672b-11ec-a560-5acaded3d43d'}\n",
      "{'transaction_id': '42368946-672b-11ec-b907-426f0aedd514'}\n",
      "{'transaction_id': '42eaef12-672b-11ec-a5d6-5acaded3d43d'}\n",
      "{'transaction_id': '43acedba-672b-11ec-b09e-426f0aedd514'}\n",
      "{'transaction_id': '44660994-672b-11ec-8210-426f0aedd514'}\n",
      "{'transaction_id': '451437ee-672b-11ec-ab12-5acaded3d43d'}\n",
      "{'transaction_id': '45c12d64-672b-11ec-b1fe-426f0aedd514'}\n",
      "{'transaction_id': '468b220e-672b-11ec-8a85-426f0aedd514'}\n",
      "{'transaction_id': '474cc67a-672b-11ec-a4e3-426f0aedd514'}\n",
      "{'transaction_id': '48100e00-672b-11ec-a755-5acaded3d43d'}\n",
      "{'transaction_id': '489f2928-672b-11ec-ac82-5acaded3d43d'}\n"
     ]
    }
   ],
   "source": [
    "ongoing_labels_chuncks = chunks(ongoing_labels.to_dict(orient='records'), 1000)\n",
    "\n",
    "transaction_ids = list()\n",
    "for ongoing_labels_chunck in ongoing_labels_chuncks:\n",
    "    transaction_id = sw.transaction.log_records(\n",
    "        task_id=diamond_task.id, \n",
    "        records=ongoing_labels_chunck\n",
    "    )\n",
    "    \n",
    "    transaction_ids.append(transaction_id)\n",
    "    print(transaction_id)"
   ]
  },
  {
   "cell_type": "code",
   "execution_count": 135,
   "id": "f54c3990-d379-4db6-b113-5a0c97f83955",
   "metadata": {},
   "outputs": [
    {
     "data": {
      "text/plain": [
       "'Passed'"
      ]
     },
     "execution_count": 135,
     "metadata": {},
     "output_type": "execute_result"
    }
   ],
   "source": [
    "transaction_id = sw.transaction.get(transaction_id=transaction_ids[0]['transaction_id'])\n",
    "transaction_id.get_properties()['status']"
   ]
  }
 ],
 "metadata": {
  "kernelspec": {
   "display_name": "Python 3 (ipykernel)",
   "language": "python",
   "name": "python3"
  },
  "language_info": {
   "codemirror_mode": {
    "name": "ipython",
    "version": 3
   },
   "file_extension": ".py",
   "mimetype": "text/x-python",
   "name": "python",
   "nbconvert_exporter": "python",
   "pygments_lexer": "ipython3",
   "version": "3.7.4"
  }
 },
 "nbformat": 4,
 "nbformat_minor": 5
}
