{
 "cells": [
  {
   "cell_type": "markdown",
   "metadata": {
    "id": "YDa6KZkQL6xT"
   },
   "source": [
    "## REST API Usage\n",
    "---\n",
    "\n",
    "The goal of this notebook is to exemplify how superwise model KPIs can be consumed and analyzed using REST APIs calls, there are  three main parts:    \n",
    "[**1. Connection**](#1.-Connection) - Initiate the mandatory Token based authentication. [More details here](https://docs.superwise.ai/v0.1/docs/authentication). \n",
    "\n",
    "[**2. Data consumption**](#2.-Data-consumption) - explaining how to fetch a KPI (a calculation of a specific metric on a data entity). [More details about common superwise concepts](https://docs.superwise.ai/docs/concepts).  \n",
    "\n",
    "[**3. Analyze results**](#3.-Analyze-results) - Examples of analysis - Trends plot\n"
   ]
  },
  {
   "cell_type": "markdown",
   "metadata": {
    "id": "xk8-xE-ML6xU"
   },
   "source": [
    "## 1. Connection "
   ]
  },
  {
   "cell_type": "markdown",
   "metadata": {
    "id": "EgNHE81JL6xV"
   },
   "source": [
    "Here we will create an API Token with permissions to send API requests.      \n",
    "In order to create a token, we need to send a Post request to the following route and include our clientId and Secret in the body of the request.    \n",
    "[For more about clientID and Secret](https://docs.superwise.ai/v0.1/docs/authentication).       "
   ]
  },
  {
   "cell_type": "code",
   "execution_count": 20,
   "metadata": {
    "id": "U56bypZAL6xX"
   },
   "outputs": [],
   "source": [
    "import requests\n",
    "import pandas as pd\n",
    "import matplotlib.pyplot as plt"
   ]
  },
  {
   "cell_type": "code",
   "execution_count": 63,
   "metadata": {},
   "outputs": [],
   "source": [
    "CLIENT_ID = \"\"\n",
    "SECRET = \"\""
   ]
  },
  {
   "cell_type": "code",
   "execution_count": 62,
   "metadata": {},
   "outputs": [],
   "source": [
    "url = \"https://auth.superwise.ai/identity/resources/auth/v1/api-token\"\n",
    "\n",
    "headers = {\n",
    "    \"Accept\": \"application/json\",\n",
    "    \"Content-Type\": \"application/json\"\n",
    "}\n",
    "payload = {\n",
    "    \"clientId\": CLIENT_ID,\n",
    "    \"secret\": SECRET\n",
    "}\n",
    "\n",
    "res = requests.post(url, json=payload, headers=headers)\n",
    "res.raise_for_status()\n",
    "token = res.json()['accessToken']\n",
    "print(f\"Token - {token}\")"
   ]
  },
  {
   "cell_type": "markdown",
   "metadata": {
    "id": "51IMMm6EL6xW"
   },
   "source": [
    "**Set authorization headers**"
   ]
  },
  {
   "cell_type": "code",
   "execution_count": 10,
   "metadata": {
    "id": "AVEdTnZhL6xW"
   },
   "outputs": [],
   "source": [
    "HEADERS = {'Authorization': f'Bearer {token}'}\n",
    "CUSTOMER = 'demo'\n",
    "URL_PREFIX = f\"https://portal.superwise.ai/{CUSTOMER}\""
   ]
  },
  {
   "cell_type": "markdown",
   "metadata": {
    "id": "o3pPdLrmL6xX"
   },
   "source": [
    "## 2. Data consumption\n",
    "Once we created a token we can start querying data.      \n",
    "We will demonstrate how to get the following KPI - Data Drift metric on the 5 most important features of our model.      \n",
    "To consume the KPI we need to provide the following parameters:\n",
    "- task and version - Sets the exact model we will compute our KPI on.\n",
    "- entity ids - the ids of data entities(i.e. features/labels/predictions values) on which we want to compute the metric on. id=-1 for metrics computed on the whole dataset regardless of specific entity e.g. quantity   \n",
    "- metric id - id of the metric we want the KPI computed by, e.g: data drift, sum_value, entropy etc...    \n",
    "\n",
    "**for more about the terminology used here refer to our [glossary](https://docs.superwise.ai/docs/concepts)**\n",
    "\n",
    "#### 2.1 Consume Task\n",
    "First we will get all tasks in order to get the indentifier(id) of the task and version we want to select.     \n",
    "For more info about task API refer to the [documentation](https://docs.superwise.ai/reference#task).    "
   ]
  },
  {
   "cell_type": "code",
   "execution_count": 12,
   "metadata": {
    "id": "lRMQ1SCJL6xX",
    "outputId": "6c333a5f-1152-459d-a141-2c66af68bf9e"
   },
   "outputs": [
    {
     "data": {
      "text/html": [
       "<div>\n",
       "<style scoped>\n",
       "    .dataframe tbody tr th:only-of-type {\n",
       "        vertical-align: middle;\n",
       "    }\n",
       "\n",
       "    .dataframe tbody tr th {\n",
       "        vertical-align: top;\n",
       "    }\n",
       "\n",
       "    .dataframe thead th {\n",
       "        text-align: right;\n",
       "    }\n",
       "</style>\n",
       "<table border=\"1\" class=\"dataframe\">\n",
       "  <thead>\n",
       "    <tr style=\"text-align: right;\">\n",
       "      <th></th>\n",
       "      <th>active_version_id</th>\n",
       "      <th>active_version_ts</th>\n",
       "      <th>id</th>\n",
       "      <th>monitor_delay</th>\n",
       "      <th>external_id</th>\n",
       "      <th>is_archived</th>\n",
       "      <th>name</th>\n",
       "      <th>description</th>\n",
       "      <th>created_at</th>\n",
       "      <th>time_units</th>\n",
       "    </tr>\n",
       "  </thead>\n",
       "  <tbody>\n",
       "    <tr>\n",
       "      <th>0</th>\n",
       "      <td>NaN</td>\n",
       "      <td>None</td>\n",
       "      <td>19</td>\n",
       "      <td>1</td>\n",
       "      <td>19</td>\n",
       "      <td>True</td>\n",
       "      <td>My new model</td>\n",
       "      <td>desc</td>\n",
       "      <td>2021-12-06T14:03:42.726708</td>\n",
       "      <td>[D, W]</td>\n",
       "    </tr>\n",
       "    <tr>\n",
       "      <th>1</th>\n",
       "      <td>7.0</td>\n",
       "      <td>2021-08-05T00:00:00</td>\n",
       "      <td>14</td>\n",
       "      <td>1</td>\n",
       "      <td>tmp5</td>\n",
       "      <td>False</td>\n",
       "      <td>Users Segmentation</td>\n",
       "      <td>Cluster users to segments based on their behav...</td>\n",
       "      <td>2021-08-05T00:00:00</td>\n",
       "      <td>[D]</td>\n",
       "    </tr>\n",
       "    <tr>\n",
       "      <th>2</th>\n",
       "      <td>7.0</td>\n",
       "      <td>2021-08-05T00:00:00</td>\n",
       "      <td>15</td>\n",
       "      <td>1</td>\n",
       "      <td>tmp6</td>\n",
       "      <td>False</td>\n",
       "      <td>Predictive Maintenance</td>\n",
       "      <td>Estimate when a piece of equipment might fail ...</td>\n",
       "      <td>2021-08-05T00:00:00</td>\n",
       "      <td>[D]</td>\n",
       "    </tr>\n",
       "    <tr>\n",
       "      <th>3</th>\n",
       "      <td>7.0</td>\n",
       "      <td>2021-08-05T00:00:00</td>\n",
       "      <td>8</td>\n",
       "      <td>1</td>\n",
       "      <td>fraud8</td>\n",
       "      <td>False</td>\n",
       "      <td>Fraud Detection</td>\n",
       "      <td>Classification model to detect fraudlant onlin...</td>\n",
       "      <td>2021-08-05T00:00:00</td>\n",
       "      <td>[D, W]</td>\n",
       "    </tr>\n",
       "    <tr>\n",
       "      <th>4</th>\n",
       "      <td>8.0</td>\n",
       "      <td>2021-08-05T00:00:00</td>\n",
       "      <td>10</td>\n",
       "      <td>1</td>\n",
       "      <td>tmp1</td>\n",
       "      <td>False</td>\n",
       "      <td>Churn Prediction</td>\n",
       "      <td>Predict which users are going to churn within ...</td>\n",
       "      <td>2021-08-05T00:00:00</td>\n",
       "      <td>[D, W]</td>\n",
       "    </tr>\n",
       "  </tbody>\n",
       "</table>\n",
       "</div>"
      ],
      "text/plain": [
       "   active_version_id    active_version_ts  id  monitor_delay external_id  \\\n",
       "0                NaN                 None  19              1          19   \n",
       "1                7.0  2021-08-05T00:00:00  14              1        tmp5   \n",
       "2                7.0  2021-08-05T00:00:00  15              1        tmp6   \n",
       "3                7.0  2021-08-05T00:00:00   8              1      fraud8   \n",
       "4                8.0  2021-08-05T00:00:00  10              1        tmp1   \n",
       "\n",
       "   is_archived                    name  \\\n",
       "0         True            My new model   \n",
       "1        False      Users Segmentation   \n",
       "2        False  Predictive Maintenance   \n",
       "3        False         Fraud Detection   \n",
       "4        False        Churn Prediction   \n",
       "\n",
       "                                         description  \\\n",
       "0                                               desc   \n",
       "1  Cluster users to segments based on their behav...   \n",
       "2  Estimate when a piece of equipment might fail ...   \n",
       "3  Classification model to detect fraudlant onlin...   \n",
       "4  Predict which users are going to churn within ...   \n",
       "\n",
       "                   created_at time_units  \n",
       "0  2021-12-06T14:03:42.726708     [D, W]  \n",
       "1         2021-08-05T00:00:00        [D]  \n",
       "2         2021-08-05T00:00:00        [D]  \n",
       "3         2021-08-05T00:00:00     [D, W]  \n",
       "4         2021-08-05T00:00:00     [D, W]  "
      ]
     },
     "execution_count": 12,
     "metadata": {},
     "output_type": "execute_result"
    }
   ],
   "source": [
    "request_url  = f'{URL_PREFIX}/admin/v1/tasks'\n",
    "\n",
    "res = requests.get(request_url, headers=HEADERS)\n",
    "res.raise_for_status()\n",
    "tasks_df = pd.DataFrame(res.json()) \n",
    "tasks_df.head()"
   ]
  },
  {
   "cell_type": "markdown",
   "metadata": {
    "id": "R7gdXBd1L6xY"
   },
   "source": [
    "**Set the task id and version id of the model**"
   ]
  },
  {
   "cell_type": "code",
   "execution_count": 13,
   "metadata": {
    "id": "UNT23RjAL6xY"
   },
   "outputs": [],
   "source": [
    "TASK_ID = 8\n",
    "VERSION_ID = 7"
   ]
  },
  {
   "cell_type": "markdown",
   "metadata": {
    "id": "9Y-Lah3uL6xY"
   },
   "source": [
    "#### 2.2 Consume Entites\n",
    "**Get all the models features and select the 5  most important features.**.    \n",
    "For more info about data entity API refer to the [documentation](https://docs.superwise.ai/reference#data-set).    "
   ]
  },
  {
   "cell_type": "code",
   "execution_count": 14,
   "metadata": {
    "id": "rlg8_KolL6xY",
    "outputId": "d79e3b4c-28a8-443c-e28d-e4d8b06898f0"
   },
   "outputs": [
    {
     "data": {
      "text/html": [
       "<div>\n",
       "<style scoped>\n",
       "    .dataframe tbody tr th:only-of-type {\n",
       "        vertical-align: middle;\n",
       "    }\n",
       "\n",
       "    .dataframe tbody tr th {\n",
       "        vertical-align: top;\n",
       "    }\n",
       "\n",
       "    .dataframe thead th {\n",
       "        text-align: right;\n",
       "    }\n",
       "</style>\n",
       "<table border=\"1\" class=\"dataframe\">\n",
       "  <thead>\n",
       "    <tr style=\"text-align: right;\">\n",
       "      <th></th>\n",
       "      <th>id</th>\n",
       "      <th>name</th>\n",
       "      <th>type</th>\n",
       "      <th>feature_importance</th>\n",
       "    </tr>\n",
       "  </thead>\n",
       "  <tbody>\n",
       "    <tr>\n",
       "      <th>4</th>\n",
       "      <td>155</td>\n",
       "      <td>customer_id_avg_amount_1day_window</td>\n",
       "      <td>Numeric</td>\n",
       "      <td>0.074043</td>\n",
       "    </tr>\n",
       "    <tr>\n",
       "      <th>10</th>\n",
       "      <td>161</td>\n",
       "      <td>terminal_id_risk_1day_window</td>\n",
       "      <td>Numeric</td>\n",
       "      <td>0.082608</td>\n",
       "    </tr>\n",
       "    <tr>\n",
       "      <th>14</th>\n",
       "      <td>165</td>\n",
       "      <td>terminal_id_risk_30day_window</td>\n",
       "      <td>Numeric</td>\n",
       "      <td>0.107914</td>\n",
       "    </tr>\n",
       "    <tr>\n",
       "      <th>12</th>\n",
       "      <td>163</td>\n",
       "      <td>terminal_id_risk_7day_window</td>\n",
       "      <td>Numeric</td>\n",
       "      <td>0.118199</td>\n",
       "    </tr>\n",
       "    <tr>\n",
       "      <th>0</th>\n",
       "      <td>151</td>\n",
       "      <td>tx_amount</td>\n",
       "      <td>Numeric</td>\n",
       "      <td>0.118245</td>\n",
       "    </tr>\n",
       "  </tbody>\n",
       "</table>\n",
       "</div>"
      ],
      "text/plain": [
       "     id                                name     type  feature_importance\n",
       "4   155  customer_id_avg_amount_1day_window  Numeric            0.074043\n",
       "10  161        terminal_id_risk_1day_window  Numeric            0.082608\n",
       "14  165       terminal_id_risk_30day_window  Numeric            0.107914\n",
       "12  163        terminal_id_risk_7day_window  Numeric            0.118199\n",
       "0   151                           tx_amount  Numeric            0.118245"
      ]
     },
     "execution_count": 14,
     "metadata": {},
     "output_type": "execute_result"
    }
   ],
   "source": [
    "request_url  = f'{URL_PREFIX}/model/v1/versions/{VERSION_ID}/data_entities'\n",
    "res = requests.get(request_url, headers=HEADERS)\n",
    "res.raise_for_status()\n",
    "\n",
    "features = pd.DataFrame(res.json())\n",
    "version_entities = pd.DataFrame(res.json(), columns=[\"data_entity\", \"feature_importance\"])\n",
    "flatten_version_entities = pd.json_normalize(version_entities[\"data_entity\"], max_level=0)\n",
    "flatten_version_entities[\"feature_importance\"] = version_entities[\"feature_importance\"]\n",
    "empty_flatten_version_entities = pd.DataFrame(\n",
    "    columns=[\"id\", \"name\", \"role\", \"type\", \"secondary_type\", \"summary\", \"dimension_start_ts\"]\n",
    ")\n",
    "features = empty_flatten_version_entities.append(flatten_version_entities)\n",
    "features = features.sort_values(['feature_importance']).tail(5)[[\"id\",\"name\",\"type\",\"feature_importance\"]]\n",
    "features.head()"
   ]
  },
  {
   "cell_type": "markdown",
   "metadata": {
    "id": "snmoYnDBL6xZ"
   },
   "source": [
    "**Set the selected Entites**"
   ]
  },
  {
   "cell_type": "code",
   "execution_count": 15,
   "metadata": {
    "id": "lVvBGGThL6xZ",
    "outputId": "a7964636-44d2-49d0-b2c1-b61c5de96e82"
   },
   "outputs": [
    {
     "data": {
      "text/plain": [
       "[155, 161, 165, 163, 151]"
      ]
     },
     "execution_count": 15,
     "metadata": {},
     "output_type": "execute_result"
    }
   ],
   "source": [
    "ENTITY_IDS= features.id.to_list()\n",
    "ENTITY_IDS"
   ]
  },
  {
   "cell_type": "markdown",
   "metadata": {
    "id": "i2tmVnNhL6xZ"
   },
   "source": [
    "#### 2.3 Get Metrics\n",
    "We want to get the Data drift metric on the top 5 most important features.   \n",
    "We will fetch all the metrics in order to get the id for data drift metric.  "
   ]
  },
  {
   "cell_type": "code",
   "execution_count": 16,
   "metadata": {
    "colab": {
     "base_uri": "https://localhost:8080/",
     "height": 236
    },
    "id": "EVHVjJOcL6xZ",
    "outputId": "3d7f177b-c2ec-4617-eba0-90713a53f558"
   },
   "outputs": [
    {
     "data": {
      "text/html": [
       "<div>\n",
       "<style scoped>\n",
       "    .dataframe tbody tr th:only-of-type {\n",
       "        vertical-align: middle;\n",
       "    }\n",
       "\n",
       "    .dataframe tbody tr th {\n",
       "        vertical-align: top;\n",
       "    }\n",
       "\n",
       "    .dataframe thead th {\n",
       "        text-align: right;\n",
       "    }\n",
       "</style>\n",
       "<table border=\"1\" class=\"dataframe\">\n",
       "  <thead>\n",
       "    <tr style=\"text-align: right;\">\n",
       "      <th></th>\n",
       "      <th>id</th>\n",
       "      <th>name</th>\n",
       "      <th>description</th>\n",
       "      <th>is_overall</th>\n",
       "      <th>type</th>\n",
       "      <th>is_percent</th>\n",
       "      <th>cap</th>\n",
       "      <th>floor</th>\n",
       "      <th>tooltip_text</th>\n",
       "      <th>tooltip_url</th>\n",
       "    </tr>\n",
       "  </thead>\n",
       "  <tbody>\n",
       "    <tr>\n",
       "      <th>0</th>\n",
       "      <td>1</td>\n",
       "      <td>distribution_shift</td>\n",
       "      <td>Distribution Shift</td>\n",
       "      <td>False</td>\n",
       "      <td>distribution</td>\n",
       "      <td>False</td>\n",
       "      <td>100.0</td>\n",
       "      <td>0.0</td>\n",
       "      <td>Measure the statistical distance between the d...</td>\n",
       "      <td>None</td>\n",
       "    </tr>\n",
       "    <tr>\n",
       "      <th>1</th>\n",
       "      <td>2</td>\n",
       "      <td>min_value</td>\n",
       "      <td>Min Value</td>\n",
       "      <td>False</td>\n",
       "      <td>distribution</td>\n",
       "      <td>False</td>\n",
       "      <td>NaN</td>\n",
       "      <td>NaN</td>\n",
       "      <td>For each time frame, the minimal value that wa...</td>\n",
       "      <td>None</td>\n",
       "    </tr>\n",
       "    <tr>\n",
       "      <th>2</th>\n",
       "      <td>3</td>\n",
       "      <td>max_value</td>\n",
       "      <td>Max Value</td>\n",
       "      <td>False</td>\n",
       "      <td>distribution</td>\n",
       "      <td>False</td>\n",
       "      <td>NaN</td>\n",
       "      <td>NaN</td>\n",
       "      <td>For each time frame, the maximal value that wa...</td>\n",
       "      <td>None</td>\n",
       "    </tr>\n",
       "    <tr>\n",
       "      <th>3</th>\n",
       "      <td>4</td>\n",
       "      <td>sum_value</td>\n",
       "      <td>Sum Value</td>\n",
       "      <td>False</td>\n",
       "      <td>distribution</td>\n",
       "      <td>False</td>\n",
       "      <td>NaN</td>\n",
       "      <td>NaN</td>\n",
       "      <td>For each time frame, the sum value that was de...</td>\n",
       "      <td>None</td>\n",
       "    </tr>\n",
       "    <tr>\n",
       "      <th>4</th>\n",
       "      <td>5</td>\n",
       "      <td>mean_value</td>\n",
       "      <td>Mean Value</td>\n",
       "      <td>False</td>\n",
       "      <td>distribution</td>\n",
       "      <td>False</td>\n",
       "      <td>NaN</td>\n",
       "      <td>NaN</td>\n",
       "      <td>For each time frame, the mean value that was d...</td>\n",
       "      <td>None</td>\n",
       "    </tr>\n",
       "  </tbody>\n",
       "</table>\n",
       "</div>"
      ],
      "text/plain": [
       "   id                name         description  is_overall          type  \\\n",
       "0   1  distribution_shift  Distribution Shift       False  distribution   \n",
       "1   2           min_value           Min Value       False  distribution   \n",
       "2   3           max_value           Max Value       False  distribution   \n",
       "3   4           sum_value           Sum Value       False  distribution   \n",
       "4   5          mean_value          Mean Value       False  distribution   \n",
       "\n",
       "   is_percent    cap  floor  \\\n",
       "0       False  100.0    0.0   \n",
       "1       False    NaN    NaN   \n",
       "2       False    NaN    NaN   \n",
       "3       False    NaN    NaN   \n",
       "4       False    NaN    NaN   \n",
       "\n",
       "                                        tooltip_text tooltip_url  \n",
       "0  Measure the statistical distance between the d...        None  \n",
       "1  For each time frame, the minimal value that wa...        None  \n",
       "2  For each time frame, the maximal value that wa...        None  \n",
       "3  For each time frame, the sum value that was de...        None  \n",
       "4  For each time frame, the mean value that was d...        None  "
      ]
     },
     "execution_count": 16,
     "metadata": {},
     "output_type": "execute_result"
    }
   ],
   "source": [
    "request_url  = f'{URL_PREFIX}/kpi/v1/metrics/'\n",
    "res = requests.get(request_url, headers=HEADERS)\n",
    "res.raise_for_status()\n",
    "metrics = pd.DataFrame(res.json()) \n",
    "metrics.head()"
   ]
  },
  {
   "cell_type": "code",
   "execution_count": 17,
   "metadata": {
    "id": "DD8xL-ZsL6xa",
    "outputId": "18f3b9a5-5d10-4764-89ea-71de04ae0049"
   },
   "outputs": [
    {
     "data": {
      "text/plain": [
       "id                                                             11\n",
       "description                                            Data Drift\n",
       "is_overall                                                   True\n",
       "type                                                 distribution\n",
       "is_percent                                                  False\n",
       "cap                                                           100\n",
       "floor                                                           0\n",
       "tooltip_text    The overall drift across all model features fo...\n",
       "tooltip_url                                                  None\n",
       "Name: data_drift, dtype: object"
      ]
     },
     "execution_count": 17,
     "metadata": {},
     "output_type": "execute_result"
    }
   ],
   "source": [
    "metrics.set_index('name').loc['data_drift']"
   ]
  },
  {
   "cell_type": "code",
   "execution_count": 18,
   "metadata": {
    "id": "irE3f-KjL6xa"
   },
   "outputs": [],
   "source": [
    "METRIC_ID=11"
   ]
  },
  {
   "cell_type": "markdown",
   "metadata": {
    "id": "sZh8TGtzL6xa"
   },
   "source": [
    "#### 2.4 Get KPI\n",
    "\n",
    "The reqeusts should include the following parameters:\n",
    "- task_id - The identifier of the model.\n",
    "- version_id - The identifier of the model's version.\n",
    "- segment_id - by default -1 - whole dataset.  \n",
    "- entity_id - list of all the features ids.\n",
    "- metric_id - list of all metrics id we want to get.\n",
    "\n",
    "The minimal reqruied params are task and vesrion, so superwise will recognize your model.  \n",
    "For more info about KPI API refer to the [documentation](https://docs.superwise.ai/reference#kpi).    "
   ]
  },
  {
   "cell_type": "code",
   "execution_count": 48,
   "metadata": {
    "id": "wI7fzUgPL6xa",
    "outputId": "5a88dd9c-b3eb-45c9-d3c8-26b8e71e181f"
   },
   "outputs": [
    {
     "data": {
      "text/html": [
       "<div>\n",
       "<style scoped>\n",
       "    .dataframe tbody tr th:only-of-type {\n",
       "        vertical-align: middle;\n",
       "    }\n",
       "\n",
       "    .dataframe tbody tr th {\n",
       "        vertical-align: top;\n",
       "    }\n",
       "\n",
       "    .dataframe thead th {\n",
       "        text-align: right;\n",
       "    }\n",
       "</style>\n",
       "<table border=\"1\" class=\"dataframe\">\n",
       "  <thead>\n",
       "    <tr style=\"text-align: right;\">\n",
       "      <th></th>\n",
       "      <th>id</th>\n",
       "      <th>task_id</th>\n",
       "      <th>version_id</th>\n",
       "      <th>segment_id</th>\n",
       "      <th>dimension_id</th>\n",
       "      <th>date_hour</th>\n",
       "      <th>time_unit</th>\n",
       "      <th>category</th>\n",
       "      <th>entity_id</th>\n",
       "      <th>metric_id</th>\n",
       "      <th>value</th>\n",
       "      <th>value_json</th>\n",
       "      <th>entity_name</th>\n",
       "    </tr>\n",
       "  </thead>\n",
       "  <tbody>\n",
       "    <tr>\n",
       "      <th>0</th>\n",
       "      <td>c77218a7b29b01da1ab58b987f54a107</td>\n",
       "      <td>8</td>\n",
       "      <td>7</td>\n",
       "      <td>-1</td>\n",
       "      <td>-1</td>\n",
       "      <td>2021-12-05 00:00:00+00:00</td>\n",
       "      <td>D</td>\n",
       "      <td>D</td>\n",
       "      <td>151</td>\n",
       "      <td>1</td>\n",
       "      <td>2.686583</td>\n",
       "      <td>{}</td>\n",
       "      <td>tx_amount</td>\n",
       "    </tr>\n",
       "    <tr>\n",
       "      <th>1</th>\n",
       "      <td>5939fb919a986a1ea86e6ea5208ea8d4</td>\n",
       "      <td>8</td>\n",
       "      <td>7</td>\n",
       "      <td>-1</td>\n",
       "      <td>-1</td>\n",
       "      <td>2021-12-05 00:00:00+00:00</td>\n",
       "      <td>D</td>\n",
       "      <td>D</td>\n",
       "      <td>165</td>\n",
       "      <td>1</td>\n",
       "      <td>0.355792</td>\n",
       "      <td>{}</td>\n",
       "      <td>terminal_id_risk_30day_window</td>\n",
       "    </tr>\n",
       "    <tr>\n",
       "      <th>2</th>\n",
       "      <td>4d33d1ce092652d5935e7acb572941ea</td>\n",
       "      <td>8</td>\n",
       "      <td>7</td>\n",
       "      <td>-1</td>\n",
       "      <td>-1</td>\n",
       "      <td>2021-12-05 00:00:00+00:00</td>\n",
       "      <td>D</td>\n",
       "      <td>D</td>\n",
       "      <td>163</td>\n",
       "      <td>1</td>\n",
       "      <td>0.198034</td>\n",
       "      <td>{}</td>\n",
       "      <td>terminal_id_risk_7day_window</td>\n",
       "    </tr>\n",
       "    <tr>\n",
       "      <th>3</th>\n",
       "      <td>a927be266766135b7a14c410572c5ff2</td>\n",
       "      <td>8</td>\n",
       "      <td>7</td>\n",
       "      <td>-1</td>\n",
       "      <td>-1</td>\n",
       "      <td>2021-12-05 00:00:00+00:00</td>\n",
       "      <td>D</td>\n",
       "      <td>D</td>\n",
       "      <td>161</td>\n",
       "      <td>1</td>\n",
       "      <td>0.105616</td>\n",
       "      <td>{}</td>\n",
       "      <td>terminal_id_risk_1day_window</td>\n",
       "    </tr>\n",
       "    <tr>\n",
       "      <th>4</th>\n",
       "      <td>61c19cd1ca53887caf094d111e8c834b</td>\n",
       "      <td>8</td>\n",
       "      <td>7</td>\n",
       "      <td>-1</td>\n",
       "      <td>-1</td>\n",
       "      <td>2021-12-05 00:00:00+00:00</td>\n",
       "      <td>D</td>\n",
       "      <td>D</td>\n",
       "      <td>155</td>\n",
       "      <td>1</td>\n",
       "      <td>2.977529</td>\n",
       "      <td>{}</td>\n",
       "      <td>customer_id_avg_amount_1day_window</td>\n",
       "    </tr>\n",
       "  </tbody>\n",
       "</table>\n",
       "</div>"
      ],
      "text/plain": [
       "                                 id  task_id  version_id  segment_id  \\\n",
       "0  c77218a7b29b01da1ab58b987f54a107        8           7          -1   \n",
       "1  5939fb919a986a1ea86e6ea5208ea8d4        8           7          -1   \n",
       "2  4d33d1ce092652d5935e7acb572941ea        8           7          -1   \n",
       "3  a927be266766135b7a14c410572c5ff2        8           7          -1   \n",
       "4  61c19cd1ca53887caf094d111e8c834b        8           7          -1   \n",
       "\n",
       "   dimension_id                 date_hour time_unit category  entity_id  \\\n",
       "0            -1 2021-12-05 00:00:00+00:00         D        D        151   \n",
       "1            -1 2021-12-05 00:00:00+00:00         D        D        165   \n",
       "2            -1 2021-12-05 00:00:00+00:00         D        D        163   \n",
       "3            -1 2021-12-05 00:00:00+00:00         D        D        161   \n",
       "4            -1 2021-12-05 00:00:00+00:00         D        D        155   \n",
       "\n",
       "   metric_id     value value_json                         entity_name  \n",
       "0          1  2.686583         {}                           tx_amount  \n",
       "1          1  0.355792         {}       terminal_id_risk_30day_window  \n",
       "2          1  0.198034         {}        terminal_id_risk_7day_window  \n",
       "3          1  0.105616         {}        terminal_id_risk_1day_window  \n",
       "4          1  2.977529         {}  customer_id_avg_amount_1day_window  "
      ]
     },
     "execution_count": 48,
     "metadata": {},
     "output_type": "execute_result"
    }
   ],
   "source": [
    "request_url  = f'{URL_PREFIX}/kpi/v1/kpis'\n",
    "requests_params = dict(task_id=TASK_ID, vesrion_id=VERSION_ID, entity_id=ENTITY_IDS, segment_id=-1, metric_id=[1], time_unit='D')\n",
    "\n",
    "res = requests.get(request_url,params=requests_params,headers=HEADERS)\n",
    "res.raise_for_status()\n",
    "\n",
    "results_df =  pd.DataFrame(res.json())\n",
    "results_df['entity_name'] = results_df['entity_id'].map(features.set_index('id')['name'].to_dict())\n",
    "results_df['date_hour'] = pd.to_datetime(results_df['date_hour'])\n",
    "results_df.head()"
   ]
  },
  {
   "cell_type": "markdown",
   "metadata": {
    "id": "p1nSmTMVL6xb"
   },
   "source": [
    "## 3. Analyze-results\n",
    "By plotting the KPI we got from superwise we can try and spot anomalies and gain some insight on how these KPIs change over time."
   ]
  },
  {
   "cell_type": "code",
   "execution_count": 61,
   "metadata": {
    "id": "AMW9cq7NL6xc",
    "outputId": "a5e680b8-4da7-4169-bcfc-b5e6e267a64a"
   },
   "outputs": [],
   "source": [
    "fig, ax = plt.subplots(figsize=(35,10))\n",
    "plot_df = results_df.pivot(index='date_hour', columns='entity_name', values='value')\n",
    "plot_df.plot(ax=ax, title='Data Drift Trend', legend=True, xlabel='Date', ylabel='Drift')"
   ]
  },
  {
   "cell_type": "markdown",
   "metadata": {
    "id": "b0c3E-vYL6xd"
   },
   "source": [
    "## Tutorial Conclusion\n",
    "In this tutorial we demonstrated how you can easily query superwise and get meaningfull KPIs and visualize them to get insight about your models. "
   ]
  }
 ],
 "metadata": {
  "colab": {
   "collapsed_sections": [],
   "name": "REST API Usage.ipynb",
   "provenance": []
  },
  "kernelspec": {
   "display_name": "Python 3 (ipykernel)",
   "language": "python",
   "name": "python3"
  },
  "language_info": {
   "codemirror_mode": {
    "name": "ipython",
    "version": 3
   },
   "file_extension": ".py",
   "mimetype": "text/x-python",
   "name": "python",
   "nbconvert_exporter": "python",
   "pygments_lexer": "ipython3",
   "version": "3.7.4"
  }
 },
 "nbformat": 4,
 "nbformat_minor": 4
}
