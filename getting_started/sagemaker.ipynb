{
  "cells": [
    {
      "cell_type": "markdown",
      "metadata": {
        "id": "view-in-github",
        "colab_type": "text"
      },
      "source": [
        "<a href=\"https://colab.research.google.com/github/superwise-ai/integration/blob/itay%40-2147955467-refine_notebooks/getting_started/sagemaker.ipynb\" target=\"_parent\"><img src=\"https://colab.research.google.com/assets/colab-badge.svg\" alt=\"Open In Colab\"/></a>"
      ]
    },
    {
      "cell_type": "markdown",
      "metadata": {
        "id": "kgoLGseQRvbX"
      },
      "source": [
        "# 🚀 Getting started with Superwise.ai on AWS Sagemaker 🚀\n",
        "\n",
        "In this notebook, we will demonstrate how to integrate a Sagemaker based development workflow with Superwise.ai\n",
        "\n",
        "Part I of this notebook walks you through building a classical Linear Regression model for predicting diamond prices, using Sci-kit learn on SageMaker. \n",
        "It is based on [AWS Sagemaker's example for building a Scikit-Learn model](https://github.com/aws/amazon-sagemaker-examples/blob/master/sagemaker-python-sdk/scikit_learn_randomforest/Sklearn_on_SageMaker_end2end.ipynb).\n",
        "\n",
        "Part II of this notebook will walk you through how to setup Superwise.ai to start tracking your model, by registering and providing a baseline for the model's behavior.\n",
        "\n",
        "Part III will demonstrate how to send new predictions from your model to Superwise.ai, simulating a post-deployment scenario.\n",
        "\n",
        "At this point, you should be able to start seeing insights from Superwise.ai in the web portal.\n"
      ]
    },
    {
      "cell_type": "markdown",
      "metadata": {
        "id": "akep65f6Rvbc"
      },
      "source": [
        "## Part I - building a Sagemaker Model to predict diamond prices\n",
        "\n",
        "This is a classical LinearRegression mode, that uses a publicly available dataset.\n",
        "\n",
        "This guide is based on the best practices from [AWS Sagemaker's example for building a Scikit-Learn model](https://github.com/aws/amazon-sagemaker-examples/blob/master/sagemaker-python-sdk/scikit_learn_randomforest/Sklearn_on_SageMaker_end2end.ipynb)\n"
      ]
    },
    {
      "cell_type": "markdown",
      "metadata": {
        "id": "AJ20nKPARvbc"
      },
      "source": [
        "### 📌 Prerequisites\n",
        "\n",
        "1. A Superwise.ai account that enables you to login and view insights\n",
        "2. A set of API keys for sending data to Superwise.ai \n",
        "3. Permissions to create models, training jobs and inference endpoints inside Sagemaker\n",
        "4. Grant Superwise.ai permissions to your SageMaker bucket #soon to be removed\n",
        "\n",
        "Note: this notebook works best when run from within a [Sagemaker's notebook](https://docs.aws.amazon.com/sagemaker/latest/dg/nbi.html) instance"
      ]
    },
    {
      "cell_type": "markdown",
      "metadata": {
        "id": "lNAw6lr7Rvbd"
      },
      "source": [
        "### 🥚 Setup"
      ]
    },
    {
      "cell_type": "code",
      "execution_count": null,
      "metadata": {
        "id": "ccmZo-RgRvbe"
      },
      "outputs": [],
      "source": [
        "import datetime\n",
        "import time\n",
        "import tarfile\n",
        "\n",
        "\n",
        "import pandas as pd\n",
        "import numpy as np\n",
        "from sklearn.model_selection import train_test_split\n",
        "\n",
        "\n",
        "import boto3\n",
        "from sagemaker import get_execution_role\n",
        "import sagemaker\n",
        "\n",
        "\n",
        "sm_boto3 = boto3.client(\"sagemaker\")\n",
        "\n",
        "sess = sagemaker.Session()\n",
        "\n",
        "region = sess.boto_session.region_name\n",
        "\n",
        "bucket = sess.default_bucket()  # this could also be a hard-coded bucket name\n",
        "\n",
        "print(\"Using bucket \" + bucket)"
      ]
    },
    {
      "cell_type": "markdown",
      "metadata": {
        "id": "RJuO7FtiRvbf"
      },
      "source": [
        "### Prepare data\n",
        "We load a dataset from sklearn, split it and send it to S3"
      ]
    },
    {
      "cell_type": "code",
      "execution_count": null,
      "metadata": {
        "id": "BzVPaCesRvbg"
      },
      "outputs": [],
      "source": [
        "# we use the Diamond prices dataset \n",
        "df = pd.read_csv('https://www.openml.org/data/get_csv/21792853/dataset')"
      ]
    },
    {
      "cell_type": "code",
      "execution_count": null,
      "metadata": {
        "id": "cXnFYCfiRvbg",
        "outputId": "c4a456b9-8418-4b62-ce33-100536567eae"
      },
      "outputs": [
        {
          "name": "stdout",
          "output_type": "stream",
          "text": [
            "(53940, 10)\n"
          ]
        },
        {
          "data": {
            "text/html": [
              "<div>\n",
              "<style scoped>\n",
              "    .dataframe tbody tr th:only-of-type {\n",
              "        vertical-align: middle;\n",
              "    }\n",
              "\n",
              "    .dataframe tbody tr th {\n",
              "        vertical-align: top;\n",
              "    }\n",
              "\n",
              "    .dataframe thead th {\n",
              "        text-align: right;\n",
              "    }\n",
              "</style>\n",
              "<table border=\"1\" class=\"dataframe\">\n",
              "  <thead>\n",
              "    <tr style=\"text-align: right;\">\n",
              "      <th></th>\n",
              "      <th>carat</th>\n",
              "      <th>cut</th>\n",
              "      <th>color</th>\n",
              "      <th>clarity</th>\n",
              "      <th>depth</th>\n",
              "      <th>table</th>\n",
              "      <th>price</th>\n",
              "      <th>x</th>\n",
              "      <th>y</th>\n",
              "      <th>z</th>\n",
              "    </tr>\n",
              "  </thead>\n",
              "  <tbody>\n",
              "    <tr>\n",
              "      <th>0</th>\n",
              "      <td>0.23</td>\n",
              "      <td>Ideal</td>\n",
              "      <td>E</td>\n",
              "      <td>SI2</td>\n",
              "      <td>61.5</td>\n",
              "      <td>55.0</td>\n",
              "      <td>326</td>\n",
              "      <td>3.95</td>\n",
              "      <td>3.98</td>\n",
              "      <td>2.43</td>\n",
              "    </tr>\n",
              "    <tr>\n",
              "      <th>1</th>\n",
              "      <td>0.21</td>\n",
              "      <td>Premium</td>\n",
              "      <td>E</td>\n",
              "      <td>SI1</td>\n",
              "      <td>59.8</td>\n",
              "      <td>61.0</td>\n",
              "      <td>326</td>\n",
              "      <td>3.89</td>\n",
              "      <td>3.84</td>\n",
              "      <td>2.31</td>\n",
              "    </tr>\n",
              "    <tr>\n",
              "      <th>2</th>\n",
              "      <td>0.23</td>\n",
              "      <td>Good</td>\n",
              "      <td>E</td>\n",
              "      <td>VS1</td>\n",
              "      <td>56.9</td>\n",
              "      <td>65.0</td>\n",
              "      <td>327</td>\n",
              "      <td>4.05</td>\n",
              "      <td>4.07</td>\n",
              "      <td>2.31</td>\n",
              "    </tr>\n",
              "  </tbody>\n",
              "</table>\n",
              "</div>"
            ],
            "text/plain": [
              "   carat      cut color clarity  depth  table  price     x     y     z\n",
              "0   0.23    Ideal     E     SI2   61.5   55.0    326  3.95  3.98  2.43\n",
              "1   0.21  Premium     E     SI1   59.8   61.0    326  3.89  3.84  2.31\n",
              "2   0.23     Good     E     VS1   56.9   65.0    327  4.05  4.07  2.31"
            ]
          },
          "execution_count": 6,
          "metadata": {},
          "output_type": "execute_result"
        }
      ],
      "source": [
        "print(df.shape)\n",
        "df.head(3)"
      ]
    },
    {
      "cell_type": "markdown",
      "metadata": {
        "id": "WencOSTZRvbh"
      },
      "source": [
        "#### Dataset Description     \n",
        "This dataset contains the prices and other attributes of almost 54,000 diamonds.  \n",
        "- price price in US dollars (\\$326--\\$18,823)  \n",
        "- carat weight of the diamond (0.2--5.01)  \n",
        "- cut quality of the cut (Fair, Good, Very Good, Premium, Ideal)  \n",
        "- color diamond colour, from J (worst) to D (best)  \n",
        "- clarity a measurement of how clear the diamond is (I1 (worst), SI2, SI1, VS2, VS1, VVS2, VVS1, IF (best))  \n",
        "- x length in mm (0--10.74)   \n",
        "- y width in mm (0--58.9)  \n",
        "- z depth in mm (0--31.8)  \n",
        "- depth total depth percentage = z / mean(x, y) = 2 * z / (x + y) (43--79)  \n"
      ]
    },
    {
      "cell_type": "markdown",
      "metadata": {
        "id": "6RwKZxFhRvbi"
      },
      "source": [
        "#### Split the data intro train and test sets"
      ]
    },
    {
      "cell_type": "code",
      "execution_count": null,
      "metadata": {
        "id": "9ck7AYDYRvbi"
      },
      "outputs": [],
      "source": [
        "X = df.drop(columns=\"price\")\n",
        "y = df[\"price\"]\n",
        "\n",
        "X_train, X_test, y_train, y_test = train_test_split(X, y, test_size=0.3, random_state=42)"
      ]
    },
    {
      "cell_type": "markdown",
      "metadata": {
        "id": "GiDUe-vDRvbj"
      },
      "source": [
        "#### Upload the data into S3 so that Sagemaker can access it"
      ]
    },
    {
      "cell_type": "code",
      "execution_count": null,
      "metadata": {
        "id": "6el0NuO_Rvbj"
      },
      "outputs": [],
      "source": [
        "train = X_train.copy()\n",
        "train[\"price\"] = y_train\n",
        "\n",
        "test = X_test.copy()\n",
        "test[\"price\"] = y_test\n",
        "\n",
        "train.to_csv(\"diamonds_train.csv\")\n",
        "test.to_csv(\"diamonds_test.csv\")\n",
        "\n",
        "# send data to S3. SageMaker will take training data from s3\n",
        "trainpath = sess.upload_data(\n",
        "    path=\"diamonds_train.csv\", bucket=bucket, key_prefix=\"sagemaker/sklearncontainer\"\n",
        ")\n",
        "\n",
        "testpath = sess.upload_data(\n",
        "    path=\"diamonds_test.csv\", bucket=bucket, key_prefix=\"sagemaker/sklearncontainer\"\n",
        ")\n"
      ]
    },
    {
      "cell_type": "markdown",
      "metadata": {
        "id": "FW0AvpLWRvbj"
      },
      "source": [
        "### ⚗️ Creating the Script for Training and Inference\n",
        "The following script contains both training and inference functionality. \n",
        "\n",
        "It is designed so that it can run both in SageMaker Training hardware or locally (desktop, SageMaker notebook, on prem, etc). \n",
        "\n",
        "Detailed guidance [here](https://sagemaker.readthedocs.io/en/stable/using_sklearn.html#preparing-the-scikit-learn-training-script)\n",
        "\n",
        "**Note**\n",
        "\n",
        "In order to support the integration with Superwise.ai, our Inference API expects **a unique ID** to be sent along with the features for prediction.\n",
        "\n",
        "Later on, this ID will be sent over to Superwise.ai, enabling analysis such as correlation between prediciton and late-arriving labels.\n"
      ]
    },
    {
      "cell_type": "code",
      "execution_count": null,
      "metadata": {
        "id": "kXclKVetRvbk",
        "outputId": "56427281-3b5d-4770-c1e4-ab30d936446c"
      },
      "outputs": [
        {
          "name": "stdout",
          "output_type": "stream",
          "text": [
            "Writing script.py\n"
          ]
        }
      ],
      "source": [
        "%%writefile script.py\n",
        "\n",
        "import argparse\n",
        "import joblib\n",
        "import os\n",
        "from io import BytesIO\n",
        "\n",
        "import numpy as np\n",
        "import pandas as pd\n",
        "from sklearn.compose import ColumnTransformer\n",
        "from sklearn.linear_model import LinearRegression\n",
        "from sklearn.model_selection import train_test_split\n",
        "from sklearn.pipeline import Pipeline\n",
        "from sklearn.preprocessing import OneHotEncoder\n",
        "\n",
        "\n",
        "feature_column_names = [\n",
        "    'carat',\n",
        "    'cut',\n",
        "    'color',\n",
        "    'clarity', \n",
        "    'depth',\n",
        "    'table',\n",
        "    'x',\n",
        "    'y',\n",
        "    'z'\n",
        "    ]\n",
        "\n",
        "label_column = 'price'\n",
        "\n",
        "id_column = 'id_col'\n",
        "\n",
        "\n",
        "# inference functions\n",
        "def model_fn(model_dir):\n",
        "    clf = joblib.load(os.path.join(model_dir, \"model.joblib\"))\n",
        "    return clf\n",
        "\n",
        "\n",
        "def input_fn(input_data, content_type):\n",
        "    \"\"\"Parse input data payload\n",
        "\n",
        "    We expect a serialized numpy array as input.\n",
        "    The numpy array should contain, as the first column, a unique ID, followed by the feature values.\n",
        "    \"\"\"\n",
        "    if content_type == \"application/x-npy\":\n",
        "        # Read the raw input\n",
        "        load_bytes = BytesIO(input_data)\n",
        "        input_np = np.load(load_bytes, allow_pickle=True)\n",
        "        num_columns = input_np.shape[1]\n",
        "        \n",
        "        # Expect the first column to be a unique ID \n",
        "        if num_columns != len(feature_column_names) + 1: \n",
        "            raise ValueError(f\"payload needs to contain {len(feature_column_names) + 1} columns, with first column being the ID of the record\")\n",
        "        df_columns = [id_column] + feature_column_names\n",
        "        df = pd.DataFrame(data=input_np, columns=df_columns) \n",
        "        return df\n",
        "    else:\n",
        "        raise ValueError(f\"content type {content_type} is not supported by this inference endpoint. Please send a legal application/x-npy payload\")\n",
        "\n",
        "        \n",
        "# TODO - check if need to roll it back to the client or will SM track it as part of the input-output correlation\n",
        "                         \n",
        "def predict_fn(input_data, model):\n",
        "    # predict using the features\n",
        "    prediction = model.predict(input_data[feature_column_names])\n",
        "    # Concatenate the ID column to the predictions to keep track \n",
        "    return np.stack((input_data[id_column], prediction), axis=1 )\n",
        "\n",
        "\n",
        "# Model training function\n",
        "if __name__ == \"__main__\":\n",
        "\n",
        "    print(\"extracting arguments\")\n",
        "    parser = argparse.ArgumentParser()\n",
        "    \n",
        "    \n",
        "    # hyperparameters sent by the client are passed as command-line arguments to the script.\n",
        "    parser.add_argument(\"--n-jobs\", type=int, default=1)\n",
        "    \n",
        "    # Data, model, and output directories\n",
        "    parser.add_argument(\"--model-dir\", type=str, default=os.environ.get(\"SM_MODEL_DIR\"))\n",
        "    parser.add_argument(\"--train\", type=str, default=os.environ.get(\"SM_CHANNEL_TRAIN\"))\n",
        "    parser.add_argument(\"--test\", type=str, default=os.environ.get(\"SM_CHANNEL_TEST\"))\n",
        "    parser.add_argument(\"--train-file\", type=str, default=\"diamonds_train.csv\")\n",
        "    parser.add_argument(\"--test-file\", type=str, default=\"diamonds_test.csv\")\n",
        "    \n",
        "\n",
        "    args, _ = parser.parse_known_args()\n",
        "\n",
        "    print(\"reading data\")\n",
        "    train_df = pd.read_csv(os.path.join(args.train, args.train_file))\n",
        "    test_df = pd.read_csv(os.path.join(args.test, args.test_file))\n",
        "\n",
        "    # preprocessing\n",
        "\n",
        "    \n",
        "    print(train_df.columns)\n",
        "    X_train = train_df[feature_column_names]\n",
        "    y_train = train_df[label_column]\n",
        "    \n",
        "    print(X_train.head(3))\n",
        "    X_test = test_df[feature_column_names]\n",
        "    y_test = test_df[label_column]\n",
        "    \n",
        "    \n",
        "    categorical_cols = ['cut','clarity','color']\n",
        "    preprocessor = ColumnTransformer( \n",
        "        transformers=[\n",
        "                    ('categorical',  OneHotEncoder(), categorical_cols)\n",
        "                    ], remainder='passthrough')\n",
        "    \n",
        "    # train\n",
        "    \n",
        "    diamond_price_model=LinearRegression(n_jobs=args.n_jobs)\n",
        "\n",
        "    my_pipeline = Pipeline(steps=[\n",
        "        ('preprocessor', preprocessor),\n",
        "        ('model', diamond_price_model)\n",
        "        ])\n",
        "\n",
        "    print(\"training model\")\n",
        "    \n",
        "    my_pipeline.fit(X_train, y_train)\n",
        "    \n",
        "    \n",
        "    train_predictions =  my_pipeline.predict(X_train)\n",
        "    print(train_predictions)\n",
        "    \n",
        "    # print abs error\n",
        "    print(\"validating model\")\n",
        "    abs_err = np.abs(my_pipeline.predict(X_test) - y_test)\n",
        "    print(f\"Test prediction error:{abs_err} \")\n",
        "\n",
        "    # persist model\n",
        "    path = os.path.join(args.model_dir, \"model.joblib\")\n",
        "    joblib.dump(my_pipeline, path)\n",
        "    print(\"model persisted at \" + path)\n",
        "    \n",
        "   \n",
        "    "
      ]
    },
    {
      "cell_type": "markdown",
      "metadata": {
        "id": "xZp9C6mxRvbl"
      },
      "source": [
        "### Local training\n",
        "Test the training locally using the script file\n"
      ]
    },
    {
      "cell_type": "code",
      "execution_count": null,
      "metadata": {
        "id": "7mUjDjcSRvbl",
        "outputId": "d29c1f28-4369-4993-fd1b-6197165fdb06"
      },
      "outputs": [
        {
          "name": "stdout",
          "output_type": "stream",
          "text": [
            "extracting arguments\n",
            "reading data\n",
            "Index(['Unnamed: 0', 'carat', 'cut', 'color', 'clarity', 'depth', 'table', 'x',\n",
            "       'y', 'z', 'price'],\n",
            "      dtype='object')\n",
            "   carat    cut color clarity  depth  table     x     y     z\n",
            "0   1.21  Ideal     H    VVS2   61.3   57.0  6.92  6.87  4.23\n",
            "1   0.31  Ideal     E     VS2   62.0   56.0  4.38  4.36  2.71\n",
            "2   1.21  Ideal     E     VS1   62.4   57.0  6.75  6.83  4.24\n",
            "training model\n",
            "[8060.   613.  8568.  ... 1733.5 2498.  6786. ]\n",
            "validating model\n",
            "Test prediction error:0         159.0\n",
            "1         991.0\n",
            "2         713.5\n",
            "3         779.0\n",
            "4        2975.0\n",
            "          ...  \n",
            "16177      67.0\n",
            "16178     205.0\n",
            "16179    2556.0\n",
            "16180    1147.0\n",
            "16181     677.5\n",
            "Name: price, Length: 16182, dtype: float64 \n",
            "model persisted at ./model.joblib\n"
          ]
        }
      ],
      "source": [
        "! python script.py --n-jobs 1 \\\n",
        "                   --model-dir ./ \\\n",
        "                   --train ./ \\\n",
        "                   --test ./ \\"
      ]
    },
    {
      "cell_type": "markdown",
      "metadata": {
        "id": "0KVhdBawRvbl"
      },
      "source": [
        "### Local inference\n",
        "\n",
        "Test the inference flow:\n",
        "1. load model\n",
        "2. process raw input (serialized numpy array)\n",
        "3. predict and return results \n",
        "\n",
        "**Note** \n",
        "\n",
        "We attach a unique ID per instance for the prediction.\n",
        "For the purpose of demonstration, we use the Dataframe index as the ID of the instances.\n",
        "\n",
        "In a production setting, you should use an ID that has semantic meaning in the context of your application, such as transaction_id etc.\n"
      ]
    },
    {
      "cell_type": "code",
      "execution_count": null,
      "metadata": {
        "id": "scLeMdMhRvbl"
      },
      "outputs": [],
      "source": [
        "import script"
      ]
    },
    {
      "cell_type": "code",
      "execution_count": null,
      "metadata": {
        "id": "yXBkxBtPRvbm"
      },
      "outputs": [],
      "source": [
        "local_model = script.model_fn(\".\")"
      ]
    },
    {
      "cell_type": "code",
      "execution_count": null,
      "metadata": {
        "id": "_uBe5Pb3Rvbm"
      },
      "outputs": [],
      "source": [
        "from io import BytesIO\n",
        "rows = X_train.head(10)\n",
        "#convert the Dataframe index to a string ID\n",
        "indexes = rows.index.map(str)\n",
        "inference_input = rows.to_numpy()\n",
        "\n",
        "#attach the ID to the payload\n",
        "inference_input = np.insert(inference_input, 0, indexes, axis=1)\n",
        "np_bytes = BytesIO()\n",
        "# Serialize the payload\n",
        "np.save(np_bytes, inference_input, allow_pickle=True)\n"
      ]
    },
    {
      "cell_type": "code",
      "execution_count": null,
      "metadata": {
        "id": "4Vnrz0XrRvbm",
        "outputId": "8d9d4b38-19a2-4c3e-d5b5-b2ac4486c6ba"
      },
      "outputs": [
        {
          "data": {
            "text/html": [
              "<div>\n",
              "<style scoped>\n",
              "    .dataframe tbody tr th:only-of-type {\n",
              "        vertical-align: middle;\n",
              "    }\n",
              "\n",
              "    .dataframe tbody tr th {\n",
              "        vertical-align: top;\n",
              "    }\n",
              "\n",
              "    .dataframe thead th {\n",
              "        text-align: right;\n",
              "    }\n",
              "</style>\n",
              "<table border=\"1\" class=\"dataframe\">\n",
              "  <thead>\n",
              "    <tr style=\"text-align: right;\">\n",
              "      <th></th>\n",
              "      <th>id_col</th>\n",
              "      <th>carat</th>\n",
              "      <th>cut</th>\n",
              "      <th>color</th>\n",
              "      <th>clarity</th>\n",
              "      <th>depth</th>\n",
              "      <th>table</th>\n",
              "      <th>x</th>\n",
              "      <th>y</th>\n",
              "      <th>z</th>\n",
              "    </tr>\n",
              "  </thead>\n",
              "  <tbody>\n",
              "    <tr>\n",
              "      <th>0</th>\n",
              "      <td>19497</td>\n",
              "      <td>1.21</td>\n",
              "      <td>Ideal</td>\n",
              "      <td>H</td>\n",
              "      <td>VVS2</td>\n",
              "      <td>61.3</td>\n",
              "      <td>57</td>\n",
              "      <td>6.92</td>\n",
              "      <td>6.87</td>\n",
              "      <td>4.23</td>\n",
              "    </tr>\n",
              "    <tr>\n",
              "      <th>1</th>\n",
              "      <td>31229</td>\n",
              "      <td>0.31</td>\n",
              "      <td>Ideal</td>\n",
              "      <td>E</td>\n",
              "      <td>VS2</td>\n",
              "      <td>62</td>\n",
              "      <td>56</td>\n",
              "      <td>4.38</td>\n",
              "      <td>4.36</td>\n",
              "      <td>2.71</td>\n",
              "    </tr>\n",
              "    <tr>\n",
              "      <th>2</th>\n",
              "      <td>22311</td>\n",
              "      <td>1.21</td>\n",
              "      <td>Ideal</td>\n",
              "      <td>E</td>\n",
              "      <td>VS1</td>\n",
              "      <td>62.4</td>\n",
              "      <td>57</td>\n",
              "      <td>6.75</td>\n",
              "      <td>6.83</td>\n",
              "      <td>4.24</td>\n",
              "    </tr>\n",
              "    <tr>\n",
              "      <th>3</th>\n",
              "      <td>278</td>\n",
              "      <td>0.81</td>\n",
              "      <td>Ideal</td>\n",
              "      <td>F</td>\n",
              "      <td>SI2</td>\n",
              "      <td>62.6</td>\n",
              "      <td>55</td>\n",
              "      <td>5.92</td>\n",
              "      <td>5.96</td>\n",
              "      <td>3.72</td>\n",
              "    </tr>\n",
              "    <tr>\n",
              "      <th>4</th>\n",
              "      <td>6646</td>\n",
              "      <td>0.79</td>\n",
              "      <td>Ideal</td>\n",
              "      <td>I</td>\n",
              "      <td>VVS2</td>\n",
              "      <td>61.7</td>\n",
              "      <td>56</td>\n",
              "      <td>5.94</td>\n",
              "      <td>5.95</td>\n",
              "      <td>3.67</td>\n",
              "    </tr>\n",
              "    <tr>\n",
              "      <th>5</th>\n",
              "      <td>30711</td>\n",
              "      <td>0.33</td>\n",
              "      <td>Ideal</td>\n",
              "      <td>E</td>\n",
              "      <td>VS2</td>\n",
              "      <td>61.1</td>\n",
              "      <td>55</td>\n",
              "      <td>4.47</td>\n",
              "      <td>4.51</td>\n",
              "      <td>2.74</td>\n",
              "    </tr>\n",
              "    <tr>\n",
              "      <th>6</th>\n",
              "      <td>17532</td>\n",
              "      <td>1</td>\n",
              "      <td>Premium</td>\n",
              "      <td>F</td>\n",
              "      <td>VS1</td>\n",
              "      <td>59.2</td>\n",
              "      <td>60</td>\n",
              "      <td>6.53</td>\n",
              "      <td>6.48</td>\n",
              "      <td>3.85</td>\n",
              "    </tr>\n",
              "    <tr>\n",
              "      <th>7</th>\n",
              "      <td>6352</td>\n",
              "      <td>0.9</td>\n",
              "      <td>'Very Good'</td>\n",
              "      <td>E</td>\n",
              "      <td>SI1</td>\n",
              "      <td>60.1</td>\n",
              "      <td>58</td>\n",
              "      <td>6.25</td>\n",
              "      <td>6.29</td>\n",
              "      <td>3.77</td>\n",
              "    </tr>\n",
              "    <tr>\n",
              "      <th>8</th>\n",
              "      <td>18684</td>\n",
              "      <td>1.06</td>\n",
              "      <td>Ideal</td>\n",
              "      <td>F</td>\n",
              "      <td>VS2</td>\n",
              "      <td>61.4</td>\n",
              "      <td>56</td>\n",
              "      <td>6.56</td>\n",
              "      <td>6.61</td>\n",
              "      <td>4.04</td>\n",
              "    </tr>\n",
              "    <tr>\n",
              "      <th>9</th>\n",
              "      <td>53429</td>\n",
              "      <td>0.7</td>\n",
              "      <td>Ideal</td>\n",
              "      <td>F</td>\n",
              "      <td>SI1</td>\n",
              "      <td>60.7</td>\n",
              "      <td>57</td>\n",
              "      <td>5.78</td>\n",
              "      <td>5.82</td>\n",
              "      <td>3.52</td>\n",
              "    </tr>\n",
              "  </tbody>\n",
              "</table>\n",
              "</div>"
            ],
            "text/plain": [
              "  id_col carat          cut color clarity depth table     x     y     z\n",
              "0  19497  1.21        Ideal     H    VVS2  61.3    57  6.92  6.87  4.23\n",
              "1  31229  0.31        Ideal     E     VS2    62    56  4.38  4.36  2.71\n",
              "2  22311  1.21        Ideal     E     VS1  62.4    57  6.75  6.83  4.24\n",
              "3    278  0.81        Ideal     F     SI2  62.6    55  5.92  5.96  3.72\n",
              "4   6646  0.79        Ideal     I    VVS2  61.7    56  5.94  5.95  3.67\n",
              "5  30711  0.33        Ideal     E     VS2  61.1    55  4.47  4.51  2.74\n",
              "6  17532     1      Premium     F     VS1  59.2    60  6.53  6.48  3.85\n",
              "7   6352   0.9  'Very Good'     E     SI1  60.1    58  6.25  6.29  3.77\n",
              "8  18684  1.06        Ideal     F     VS2  61.4    56  6.56  6.61  4.04\n",
              "9  53429   0.7        Ideal     F     SI1  60.7    57  5.78  5.82  3.52"
            ]
          },
          "execution_count": 14,
          "metadata": {},
          "output_type": "execute_result"
        }
      ],
      "source": [
        "input_data = script.input_fn(np_bytes.getvalue(), \"application/x-npy\")\n",
        "input_data"
      ]
    },
    {
      "cell_type": "code",
      "execution_count": null,
      "metadata": {
        "id": "7zESxyz4Rvbm",
        "outputId": "6fb4957f-6196-47c0-d1eb-93236f290c34"
      },
      "outputs": [
        {
          "data": {
            "text/plain": [
              "array([['19497', 8060.0],\n",
              "       ['31229', 613.0],\n",
              "       ['22311', 8568.0],\n",
              "       ['278', 3037.5],\n",
              "       ['6646', 3866.5],\n",
              "       ['30711', 833.0],\n",
              "       ['17532', 6436.0],\n",
              "       ['6352', 4703.5],\n",
              "       ['18684', 6797.0],\n",
              "       ['53429', 2981.5]], dtype=object)"
            ]
          },
          "execution_count": 15,
          "metadata": {},
          "output_type": "execute_result"
        }
      ],
      "source": [
        "predictions = script.predict_fn(input_data, local_model)\n",
        "predictions"
      ]
    },
    {
      "cell_type": "markdown",
      "metadata": {
        "id": "KaTPPh1JRvbn"
      },
      "source": [
        "### SageMaker Training"
      ]
    },
    {
      "cell_type": "markdown",
      "metadata": {
        "id": "nyyi6YQJRvbn"
      },
      "source": [
        "#### Launching a training job with the Python SDK"
      ]
    },
    {
      "cell_type": "code",
      "execution_count": null,
      "metadata": {
        "id": "hsLUdUATRvbn"
      },
      "outputs": [],
      "source": [
        "# We use the Estimator from the SageMaker Python SDK\n",
        "from sagemaker.sklearn.estimator import SKLearn\n",
        "\n",
        "FRAMEWORK_VERSION = \"0.23-1\"\n",
        "\n",
        "sklearn_estimator = SKLearn(\n",
        "    entry_point=\"script.py\",\n",
        "    role=get_execution_role(),\n",
        "    instance_count=1,\n",
        "    instance_type=\"ml.m5.large\",\n",
        "    framework_version=FRAMEWORK_VERSION,\n",
        "    base_job_name=\"Superwise-Sagemaker-job\",\n",
        "    hyperparameters={\n",
        "        \"n-jobs\": 1,\n",
        "        },\n",
        ")"
      ]
    },
    {
      "cell_type": "code",
      "execution_count": null,
      "metadata": {
        "id": "VbP7RQjeRvbn"
      },
      "outputs": [],
      "source": [
        "# launch training job, with asynchronous call\n",
        "sklearn_estimator.fit({\"train\": trainpath, \"test\": testpath}, wait=False)"
      ]
    },
    {
      "cell_type": "code",
      "execution_count": null,
      "metadata": {
        "id": "AOCasoW-Rvbn"
      },
      "outputs": [],
      "source": [
        "sklearn_estimator.latest_training_job.wait(logs=\"None\")\n",
        "artifact = sm_boto3.describe_training_job(\n",
        "    TrainingJobName=sklearn_estimator.latest_training_job.name\n",
        ")[\"ModelArtifacts\"][\"S3ModelArtifacts\"]\n",
        "\n",
        "print(\"Model artifact persisted at \" + artifact)"
      ]
    },
    {
      "cell_type": "markdown",
      "metadata": {
        "id": "e5oMkU9gRvbo"
      },
      "source": [
        "### Deploy to a real-time endpoint"
      ]
    },
    {
      "cell_type": "markdown",
      "metadata": {
        "id": "dij2JKJKRvbo"
      },
      "source": [
        "Create a Sagemaker *Model* from s3 artifacts, and deploy it to an Endpoint"
      ]
    },
    {
      "cell_type": "code",
      "execution_count": null,
      "metadata": {
        "id": "nM8rQ6vBRvbo"
      },
      "outputs": [],
      "source": [
        "from sagemaker.sklearn.model import SKLearnModel\n",
        "\n",
        "model = SKLearnModel(\n",
        "    name=\"Superwise-Sagemaker-demo-model-2\",\n",
        "    model_data=artifact,\n",
        "    role=get_execution_role(),\n",
        "    entry_point=\"script.py\",\n",
        "    framework_version=FRAMEWORK_VERSION,\n",
        ")"
      ]
    },
    {
      "cell_type": "code",
      "execution_count": null,
      "metadata": {
        "id": "mVE0Kl3IRvbo",
        "outputId": "b10267b2-0fa0-477e-c02a-13792f4cb476"
      },
      "outputs": [
        {
          "name": "stdout",
          "output_type": "stream",
          "text": [
            "-----------!"
          ]
        }
      ],
      "source": [
        "predictor = model.deploy(instance_type=\"ml.t2.medium\", initial_instance_count=1)"
      ]
    },
    {
      "cell_type": "markdown",
      "metadata": {
        "id": "5mjOGxgFRvbo"
      },
      "source": [
        "### Test the Endpoint by running an Inference request"
      ]
    },
    {
      "cell_type": "code",
      "execution_count": null,
      "metadata": {
        "id": "se0PmyomRvbo"
      },
      "outputs": [],
      "source": [
        "# Prepare the input as a numpy array with record_id, feature 1... feature n\n",
        "\n",
        "# Treat the Dataframe index as the record_id\n",
        "indexes = X_train.index.map(str)\n",
        "X_train_inference = X_train.to_numpy()\n",
        "X_train_inference = np.insert(X_train_inference, 0, indexes, axis=1)"
      ]
    },
    {
      "cell_type": "code",
      "execution_count": null,
      "metadata": {
        "id": "Dmzg_HSSRvbp",
        "outputId": "0792b2d1-e759-473b-84d7-723f001b889b"
      },
      "outputs": [
        {
          "data": {
            "text/plain": [
              "array([['19497', 8060.5],\n",
              "       ['31229', 613.5],\n",
              "       ['22311', 8568.5],\n",
              "       ...,\n",
              "       ['38158', 1734.0],\n",
              "       ['860', 2498.5],\n",
              "       ['15795', 6786.5]], dtype=object)"
            ]
          },
          "execution_count": 24,
          "metadata": {},
          "output_type": "execute_result"
        }
      ],
      "source": [
        "predictions = predictor.predict(X_train_inference)\n",
        "\n",
        "# Returns a column with ID and the prediction value\n",
        "predictions"
      ]
    },
    {
      "cell_type": "markdown",
      "metadata": {
        "id": "F0_e2YWgRvbp"
      },
      "source": [
        "## Part II - Tracking the model with Superwise.ai\n"
      ]
    },
    {
      "cell_type": "markdown",
      "metadata": {
        "id": "tHfwvmqCRvbp"
      },
      "source": [
        "### 🔧 Setup\n",
        "\n",
        "1. Install the Superwise Python package from pip\n",
        "2. Set environment variables with the API keys\n",
        "3. Create a Superwise client"
      ]
    },
    {
      "cell_type": "code",
      "execution_count": null,
      "metadata": {
        "id": "N1q45rkSRvbp"
      },
      "outputs": [],
      "source": [
        "%pip install superwise"
      ]
    },
    {
      "cell_type": "code",
      "execution_count": null,
      "metadata": {
        "id": "-9omMZtqRvbp"
      },
      "outputs": [],
      "source": [
        "%env SUPERWISE_SECRET=\n",
        "%env SUPERWISE_CLIENT_ID="
      ]
    },
    {
      "cell_type": "code",
      "execution_count": null,
      "metadata": {
        "id": "drlvB1P0Rvbq"
      },
      "outputs": [],
      "source": [
        "from superwise import Superwise\n",
        "from superwise.models.model import Model\n",
        "from superwise.models.version import Version\n",
        "from superwise.models.data_entity import DataEntity\n",
        "from superwise.resources.superwise_enums import FeatureType, DataEntityRole\n",
        "\n",
        "sw = Superwise()"
      ]
    },
    {
      "cell_type": "markdown",
      "metadata": {
        "id": "6JA5BqlbRvbq"
      },
      "source": [
        "### Create a Superwise *Model*\n",
        "\n",
        "A *Model* represents a domain problem.\n",
        "In our case, the model is to predict diamond prices.\n",
        "\n",
        "Over time, we may develop and deploy different ML models that attempt to address this model.\n",
        "\n",
        "In Superwise.ai terminology, each specific ML model we wish to track is called a *Version*. \n",
        "There may be multiple versions belonging to a *model* being tracked at any point in time (e.g. new models in shadow mode, or A/B tests)\n",
        "\n"
      ]
    },
    {
      "cell_type": "code",
      "execution_count": null,
      "metadata": {
        "id": "DEBxnWCARvbq",
        "outputId": "163ffc9a-e4fd-4099-fe6e-5c7370650741"
      },
      "outputs": [
        {
          "name": "stdout",
          "output_type": "stream",
          "text": [
            "{'description': '4.0', 'external_id': '50', 'id': 50, 'is_archive': None, 'monitor_delay': None, 'name': 'Superwise-Sagemaker-demo-model-4', 'time_units': ['D', 'W']}\n"
          ]
        }
      ],
      "source": [
        "# Create the Model entity\n",
        "diamond_model = Model(\n",
        "    name=\"Superwise-Sagemaker-demo-model-4\",\n",
        "    description=\"4.0\"\n",
        ")\n",
        "my_model = sw.model.create(diamond_model)\n",
        "print(my_model.get_properties())"
      ]
    },
    {
      "cell_type": "markdown",
      "metadata": {
        "id": "zjp4VCWzRvbq"
      },
      "source": [
        "### Create a Baseline for our deployed model\n",
        "\n",
        "We've just deployed a model to Sagemaker, and wish to start tracking it.\n",
        "In order to perform the analysis of the model's performance over time, we need to set up a Baseline for the model's behavior.\n",
        "\n",
        "It's a common practice to use the training or test data (both features and predictions) as the baseline, as they represent \n",
        "The state which we consider stable and validated.\n",
        "\n",
        "Later, when the model performs predictions in production, we can compare the data and prediction behavior to the baseline, and detect drift.\n",
        "\n",
        "The baseline data includes:\n",
        "\n",
        "1. Features\n",
        "2. Labels\n",
        "3. Model predictions\n",
        "4. Timestamp of inference\n",
        "5. Id for each record (later used to correlate predictions with labels)"
      ]
    },
    {
      "cell_type": "code",
      "execution_count": null,
      "metadata": {
        "id": "WtwJkSzhRvbq"
      },
      "outputs": [],
      "source": [
        "# add the prediction value, a timestamp and the label to the training features\n",
        "baseline_data = X_train.assign(\n",
        "    prediction=predictions[:,1].astype(float),\n",
        "    ts=pd.Timestamp.now(),\n",
        "    price=y_train\n",
        ")\n",
        "\n",
        "# treat the Dataframe index as a record ID - for demonstration purpose only. \n",
        "baseline_df = baseline_data.reset_index().rename(columns={\"index\": \"record_id\"})"
      ]
    },
    {
      "cell_type": "code",
      "execution_count": null,
      "metadata": {
        "id": "bxWw4sIWRvbq",
        "outputId": "619a24a3-8953-47af-b55c-76a5e280e7f2"
      },
      "outputs": [
        {
          "data": {
            "text/html": [
              "<div>\n",
              "<style scoped>\n",
              "    .dataframe tbody tr th:only-of-type {\n",
              "        vertical-align: middle;\n",
              "    }\n",
              "\n",
              "    .dataframe tbody tr th {\n",
              "        vertical-align: top;\n",
              "    }\n",
              "\n",
              "    .dataframe thead th {\n",
              "        text-align: right;\n",
              "    }\n",
              "</style>\n",
              "<table border=\"1\" class=\"dataframe\">\n",
              "  <thead>\n",
              "    <tr style=\"text-align: right;\">\n",
              "      <th></th>\n",
              "      <th>record_id</th>\n",
              "      <th>carat</th>\n",
              "      <th>cut</th>\n",
              "      <th>color</th>\n",
              "      <th>clarity</th>\n",
              "      <th>depth</th>\n",
              "      <th>table</th>\n",
              "      <th>x</th>\n",
              "      <th>y</th>\n",
              "      <th>z</th>\n",
              "      <th>prediction</th>\n",
              "      <th>ts</th>\n",
              "      <th>price</th>\n",
              "    </tr>\n",
              "  </thead>\n",
              "  <tbody>\n",
              "    <tr>\n",
              "      <th>0</th>\n",
              "      <td>19497</td>\n",
              "      <td>1.21</td>\n",
              "      <td>Ideal</td>\n",
              "      <td>H</td>\n",
              "      <td>VVS2</td>\n",
              "      <td>61.3</td>\n",
              "      <td>57.0</td>\n",
              "      <td>6.92</td>\n",
              "      <td>6.87</td>\n",
              "      <td>4.23</td>\n",
              "      <td>8060.5</td>\n",
              "      <td>2021-12-22 18:56:42.726307</td>\n",
              "      <td>8131</td>\n",
              "    </tr>\n",
              "    <tr>\n",
              "      <th>1</th>\n",
              "      <td>31229</td>\n",
              "      <td>0.31</td>\n",
              "      <td>Ideal</td>\n",
              "      <td>E</td>\n",
              "      <td>VS2</td>\n",
              "      <td>62.0</td>\n",
              "      <td>56.0</td>\n",
              "      <td>4.38</td>\n",
              "      <td>4.36</td>\n",
              "      <td>2.71</td>\n",
              "      <td>613.5</td>\n",
              "      <td>2021-12-22 18:56:42.726307</td>\n",
              "      <td>756</td>\n",
              "    </tr>\n",
              "    <tr>\n",
              "      <th>2</th>\n",
              "      <td>22311</td>\n",
              "      <td>1.21</td>\n",
              "      <td>Ideal</td>\n",
              "      <td>E</td>\n",
              "      <td>VS1</td>\n",
              "      <td>62.4</td>\n",
              "      <td>57.0</td>\n",
              "      <td>6.75</td>\n",
              "      <td>6.83</td>\n",
              "      <td>4.24</td>\n",
              "      <td>8568.5</td>\n",
              "      <td>2021-12-22 18:56:42.726307</td>\n",
              "      <td>10351</td>\n",
              "    </tr>\n",
              "    <tr>\n",
              "      <th>3</th>\n",
              "      <td>278</td>\n",
              "      <td>0.81</td>\n",
              "      <td>Ideal</td>\n",
              "      <td>F</td>\n",
              "      <td>SI2</td>\n",
              "      <td>62.6</td>\n",
              "      <td>55.0</td>\n",
              "      <td>5.92</td>\n",
              "      <td>5.96</td>\n",
              "      <td>3.72</td>\n",
              "      <td>3038.0</td>\n",
              "      <td>2021-12-22 18:56:42.726307</td>\n",
              "      <td>2795</td>\n",
              "    </tr>\n",
              "    <tr>\n",
              "      <th>4</th>\n",
              "      <td>6646</td>\n",
              "      <td>0.79</td>\n",
              "      <td>Ideal</td>\n",
              "      <td>I</td>\n",
              "      <td>VVS2</td>\n",
              "      <td>61.7</td>\n",
              "      <td>56.0</td>\n",
              "      <td>5.94</td>\n",
              "      <td>5.95</td>\n",
              "      <td>3.67</td>\n",
              "      <td>3867.0</td>\n",
              "      <td>2021-12-22 18:56:42.726307</td>\n",
              "      <td>4092</td>\n",
              "    </tr>\n",
              "    <tr>\n",
              "      <th>...</th>\n",
              "      <td>...</td>\n",
              "      <td>...</td>\n",
              "      <td>...</td>\n",
              "      <td>...</td>\n",
              "      <td>...</td>\n",
              "      <td>...</td>\n",
              "      <td>...</td>\n",
              "      <td>...</td>\n",
              "      <td>...</td>\n",
              "      <td>...</td>\n",
              "      <td>...</td>\n",
              "      <td>...</td>\n",
              "      <td>...</td>\n",
              "    </tr>\n",
              "    <tr>\n",
              "      <th>37753</th>\n",
              "      <td>11284</td>\n",
              "      <td>1.05</td>\n",
              "      <td>'Very Good'</td>\n",
              "      <td>I</td>\n",
              "      <td>VS2</td>\n",
              "      <td>62.4</td>\n",
              "      <td>59.0</td>\n",
              "      <td>6.48</td>\n",
              "      <td>6.51</td>\n",
              "      <td>4.05</td>\n",
              "      <td>5297.0</td>\n",
              "      <td>2021-12-22 18:56:42.726307</td>\n",
              "      <td>4975</td>\n",
              "    </tr>\n",
              "    <tr>\n",
              "      <th>37754</th>\n",
              "      <td>44732</td>\n",
              "      <td>0.47</td>\n",
              "      <td>Ideal</td>\n",
              "      <td>D</td>\n",
              "      <td>VS1</td>\n",
              "      <td>61.0</td>\n",
              "      <td>55.0</td>\n",
              "      <td>5.03</td>\n",
              "      <td>5.01</td>\n",
              "      <td>3.06</td>\n",
              "      <td>2381.5</td>\n",
              "      <td>2021-12-22 18:56:42.726307</td>\n",
              "      <td>1617</td>\n",
              "    </tr>\n",
              "    <tr>\n",
              "      <th>37755</th>\n",
              "      <td>38158</td>\n",
              "      <td>0.33</td>\n",
              "      <td>'Very Good'</td>\n",
              "      <td>F</td>\n",
              "      <td>IF</td>\n",
              "      <td>60.3</td>\n",
              "      <td>58.0</td>\n",
              "      <td>4.49</td>\n",
              "      <td>4.46</td>\n",
              "      <td>2.70</td>\n",
              "      <td>1734.0</td>\n",
              "      <td>2021-12-22 18:56:42.726307</td>\n",
              "      <td>1014</td>\n",
              "    </tr>\n",
              "    <tr>\n",
              "      <th>37756</th>\n",
              "      <td>860</td>\n",
              "      <td>0.90</td>\n",
              "      <td>Premium</td>\n",
              "      <td>J</td>\n",
              "      <td>SI1</td>\n",
              "      <td>62.8</td>\n",
              "      <td>59.0</td>\n",
              "      <td>6.13</td>\n",
              "      <td>6.03</td>\n",
              "      <td>3.82</td>\n",
              "      <td>2498.5</td>\n",
              "      <td>2021-12-22 18:56:42.726307</td>\n",
              "      <td>2871</td>\n",
              "    </tr>\n",
              "    <tr>\n",
              "      <th>37757</th>\n",
              "      <td>15795</td>\n",
              "      <td>1.14</td>\n",
              "      <td>Premium</td>\n",
              "      <td>F</td>\n",
              "      <td>SI1</td>\n",
              "      <td>60.4</td>\n",
              "      <td>58.0</td>\n",
              "      <td>6.82</td>\n",
              "      <td>6.79</td>\n",
              "      <td>4.11</td>\n",
              "      <td>6786.5</td>\n",
              "      <td>2021-12-22 18:56:42.726307</td>\n",
              "      <td>6320</td>\n",
              "    </tr>\n",
              "  </tbody>\n",
              "</table>\n",
              "<p>37758 rows × 13 columns</p>\n",
              "</div>"
            ],
            "text/plain": [
              "       record_id  carat          cut color clarity  depth  table     x     y  \\\n",
              "0          19497   1.21        Ideal     H    VVS2   61.3   57.0  6.92  6.87   \n",
              "1          31229   0.31        Ideal     E     VS2   62.0   56.0  4.38  4.36   \n",
              "2          22311   1.21        Ideal     E     VS1   62.4   57.0  6.75  6.83   \n",
              "3            278   0.81        Ideal     F     SI2   62.6   55.0  5.92  5.96   \n",
              "4           6646   0.79        Ideal     I    VVS2   61.7   56.0  5.94  5.95   \n",
              "...          ...    ...          ...   ...     ...    ...    ...   ...   ...   \n",
              "37753      11284   1.05  'Very Good'     I     VS2   62.4   59.0  6.48  6.51   \n",
              "37754      44732   0.47        Ideal     D     VS1   61.0   55.0  5.03  5.01   \n",
              "37755      38158   0.33  'Very Good'     F      IF   60.3   58.0  4.49  4.46   \n",
              "37756        860   0.90      Premium     J     SI1   62.8   59.0  6.13  6.03   \n",
              "37757      15795   1.14      Premium     F     SI1   60.4   58.0  6.82  6.79   \n",
              "\n",
              "          z  prediction                         ts  price  \n",
              "0      4.23      8060.5 2021-12-22 18:56:42.726307   8131  \n",
              "1      2.71       613.5 2021-12-22 18:56:42.726307    756  \n",
              "2      4.24      8568.5 2021-12-22 18:56:42.726307  10351  \n",
              "3      3.72      3038.0 2021-12-22 18:56:42.726307   2795  \n",
              "4      3.67      3867.0 2021-12-22 18:56:42.726307   4092  \n",
              "...     ...         ...                        ...    ...  \n",
              "37753  4.05      5297.0 2021-12-22 18:56:42.726307   4975  \n",
              "37754  3.06      2381.5 2021-12-22 18:56:42.726307   1617  \n",
              "37755  2.70      1734.0 2021-12-22 18:56:42.726307   1014  \n",
              "37756  3.82      2498.5 2021-12-22 18:56:42.726307   2871  \n",
              "37757  4.11      6786.5 2021-12-22 18:56:42.726307   6320  \n",
              "\n",
              "[37758 rows x 13 columns]"
            ]
          },
          "execution_count": 32,
          "metadata": {},
          "output_type": "execute_result"
        }
      ],
      "source": [
        "baseline_df"
      ]
    },
    {
      "cell_type": "markdown",
      "metadata": {
        "id": "jp7I8GtcRvbq"
      },
      "source": [
        "### Create a *Schema* object that describes the format and sematics of our Baseline data\n",
        "\n",
        "The Schema object helps Superwise.ai interpret our data, for example - undertand which column prepresents predictions and which represents the labels."
      ]
    },
    {
      "cell_type": "code",
      "execution_count": null,
      "metadata": {
        "id": "g0aj-p3BRvbr"
      },
      "outputs": [],
      "source": [
        "entities_collection = sw.data_entity.summarise(\n",
        "    data=baseline_df,\n",
        "    specific_roles = {\n",
        "      'record_id': DataEntityRole.ID,\n",
        "      'ts': DataEntityRole.TIMESTAMP,\n",
        "      'prediction': DataEntityRole.PREDICTION_VALUE,\n",
        "      'price': DataEntityRole.LABEL\n",
        "    }\n",
        ")"
      ]
    },
    {
      "cell_type": "markdown",
      "metadata": {
        "id": "cJBgz6HqRvbr"
      },
      "source": [
        "Here is the schema main properties (roles, types, feature importance and descriptive statistics):"
      ]
    },
    {
      "cell_type": "code",
      "execution_count": null,
      "metadata": {
        "id": "LUsRuvqJRvbr",
        "outputId": "0e361cc6-3fe9-40fa-b8a6-ed60075f29bc"
      },
      "outputs": [
        {
          "data": {
            "text/html": [
              "<div>\n",
              "<style scoped>\n",
              "    .dataframe tbody tr th:only-of-type {\n",
              "        vertical-align: middle;\n",
              "    }\n",
              "\n",
              "    .dataframe tbody tr th {\n",
              "        vertical-align: top;\n",
              "    }\n",
              "\n",
              "    .dataframe thead th {\n",
              "        text-align: right;\n",
              "    }\n",
              "</style>\n",
              "<table border=\"1\" class=\"dataframe\">\n",
              "  <thead>\n",
              "    <tr style=\"text-align: right;\">\n",
              "      <th></th>\n",
              "      <th>data_type</th>\n",
              "      <th>dimension_start_ts</th>\n",
              "      <th>feature_importance</th>\n",
              "      <th>id</th>\n",
              "      <th>name</th>\n",
              "      <th>role</th>\n",
              "      <th>secondary_type</th>\n",
              "      <th>summary</th>\n",
              "      <th>type</th>\n",
              "    </tr>\n",
              "  </thead>\n",
              "  <tbody>\n",
              "    <tr>\n",
              "      <th>0</th>\n",
              "      <td>number</td>\n",
              "      <td>None</td>\n",
              "      <td>0.00</td>\n",
              "      <td>None</td>\n",
              "      <td>record_id</td>\n",
              "      <td>id</td>\n",
              "      <td>Num_centered</td>\n",
              "      <td>{'statistics': {'missing_values': 0.0, 'outlie...</td>\n",
              "      <td>Numeric</td>\n",
              "    </tr>\n",
              "    <tr>\n",
              "      <th>1</th>\n",
              "      <td>number</td>\n",
              "      <td>None</td>\n",
              "      <td>61.76</td>\n",
              "      <td>None</td>\n",
              "      <td>carat</td>\n",
              "      <td>feature</td>\n",
              "      <td>Num_centered</td>\n",
              "      <td>{'statistics': {'missing_values': 0.0, 'outlie...</td>\n",
              "      <td>Numeric</td>\n",
              "    </tr>\n",
              "    <tr>\n",
              "      <th>2</th>\n",
              "      <td>text</td>\n",
              "      <td>None</td>\n",
              "      <td>0.01</td>\n",
              "      <td>None</td>\n",
              "      <td>cut</td>\n",
              "      <td>feature</td>\n",
              "      <td>Cat_dense</td>\n",
              "      <td>{'statistics': {'missing_values': 0.0, 'new_va...</td>\n",
              "      <td>Categorical</td>\n",
              "    </tr>\n",
              "    <tr>\n",
              "      <th>3</th>\n",
              "      <td>text</td>\n",
              "      <td>None</td>\n",
              "      <td>6.07</td>\n",
              "      <td>None</td>\n",
              "      <td>color</td>\n",
              "      <td>feature</td>\n",
              "      <td>Cat_dense</td>\n",
              "      <td>{'statistics': {'missing_values': 0.0, 'new_va...</td>\n",
              "      <td>Categorical</td>\n",
              "    </tr>\n",
              "    <tr>\n",
              "      <th>4</th>\n",
              "      <td>text</td>\n",
              "      <td>None</td>\n",
              "      <td>11.21</td>\n",
              "      <td>None</td>\n",
              "      <td>clarity</td>\n",
              "      <td>feature</td>\n",
              "      <td>Cat_dense</td>\n",
              "      <td>{'statistics': {'missing_values': 0.0, 'new_va...</td>\n",
              "      <td>Categorical</td>\n",
              "    </tr>\n",
              "  </tbody>\n",
              "</table>\n",
              "</div>"
            ],
            "text/plain": [
              "  data_type dimension_start_ts  feature_importance    id       name     role  \\\n",
              "0    number               None                0.00  None  record_id       id   \n",
              "1    number               None               61.76  None      carat  feature   \n",
              "2      text               None                0.01  None        cut  feature   \n",
              "3      text               None                6.07  None      color  feature   \n",
              "4      text               None               11.21  None    clarity  feature   \n",
              "\n",
              "  secondary_type                                            summary  \\\n",
              "0   Num_centered  {'statistics': {'missing_values': 0.0, 'outlie...   \n",
              "1   Num_centered  {'statistics': {'missing_values': 0.0, 'outlie...   \n",
              "2      Cat_dense  {'statistics': {'missing_values': 0.0, 'new_va...   \n",
              "3      Cat_dense  {'statistics': {'missing_values': 0.0, 'new_va...   \n",
              "4      Cat_dense  {'statistics': {'missing_values': 0.0, 'new_va...   \n",
              "\n",
              "          type  \n",
              "0      Numeric  \n",
              "1      Numeric  \n",
              "2  Categorical  \n",
              "3  Categorical  \n",
              "4  Categorical  "
            ]
          },
          "execution_count": 35,
          "metadata": {},
          "output_type": "execute_result"
        }
      ],
      "source": [
        "ls = list()\n",
        "for entity in entities_collection:\n",
        "    ls.append(entity.get_properties())\n",
        "    \n",
        "pd.DataFrame(ls).head()"
      ]
    },
    {
      "cell_type": "markdown",
      "metadata": {
        "id": "T73TAUm5Rvbr"
      },
      "source": [
        "### Create a *Version* object\n",
        "\n",
        "As explained above, a *Version* represents a concrete ML model we are tracking.\n",
        "\n",
        "A *Version* solves a *Model*\n",
        "\n",
        "A *Version* has a *Baseline*\n",
        "\n",
        "\n"
      ]
    },
    {
      "cell_type": "code",
      "execution_count": null,
      "metadata": {
        "id": "0MKv0-Y1Rvbr"
      },
      "outputs": [],
      "source": [
        "diamond_version = Version(\n",
        "    model_id=my_model.id,\n",
        "    name=\"5.0\",\n",
        "    data_entities=entities_collection,\n",
        ")\n",
        "\n",
        "my_version = sw.version.create(diamond_version)"
      ]
    },
    {
      "cell_type": "code",
      "execution_count": null,
      "metadata": {
        "id": "rDkss9x4Rvbr",
        "outputId": "69eabb66-09c9-422c-80bf-56d8c0ba0789"
      },
      "outputs": [
        {
          "data": {
            "text/plain": [
              "<Response [204]>"
            ]
          },
          "execution_count": 44,
          "metadata": {},
          "output_type": "execute_result"
        }
      ],
      "source": [
        "sw.version.activate(my_version.id)"
      ]
    },
    {
      "cell_type": "markdown",
      "metadata": {
        "id": "VWY6LSqvRvbr"
      },
      "source": [
        "### Verifying the setup\n",
        "\n",
        "![image.png](attachment:8f255a47-0449-43b8-ab80-252a08a13b87.png)"
      ]
    },
    {
      "cell_type": "markdown",
      "metadata": {
        "id": "OE5MCO1eRvbr"
      },
      "source": [
        "## 🩺 Part III - monitoring ongoing predictions\n",
        "\n",
        "Now that we have a *Version* of the model setup with a *Baseline*, we can start sending ongoing model predictions to Superwise to monitor the model's performance in a production settings.\n",
        "\n",
        "For this demo, we will treat the Test split of the data as our \"ongoing predictions\".\n"
      ]
    },
    {
      "cell_type": "code",
      "execution_count": null,
      "metadata": {
        "id": "7asDe-1XRvbs",
        "outputId": "e88b5a92-743e-4174-eb2d-b57a52f47536"
      },
      "outputs": [
        {
          "data": {
            "text/plain": [
              "array([['1388', 0.24, 'Ideal', ..., 3.97, 4.0, 2.47],\n",
              "       ['50052', 0.58, \"'Very Good'\", ..., 5.44, 5.42, 3.26],\n",
              "       ['41645', 0.4, 'Ideal', ..., 4.76, 4.74, 2.95],\n",
              "       ...,\n",
              "       ['24786', 1.51, 'Premium', ..., 7.42, 7.38, 4.5],\n",
              "       ['1332', 0.71, 'Good', ..., 5.8, 5.9, 3.44],\n",
              "       ['42527', 0.4, 'Ideal', ..., 4.79, 4.77, 2.9]], dtype=object)"
            ]
          },
          "execution_count": 48,
          "metadata": {},
          "output_type": "execute_result"
        }
      ],
      "source": [
        "# insert the record ID as part of the input payload to the model\n",
        "indexes = X_test.index.map(str)\n",
        "X_test_inference = X_test.to_numpy()\n",
        "X_test_inference = np.insert(X_test_inference, 0, indexes, axis=1)\n",
        "X_test_inference"
      ]
    },
    {
      "cell_type": "code",
      "execution_count": null,
      "metadata": {
        "id": "KcohhlO1Rvbs",
        "outputId": "d81a014b-1536-4f9c-cc23-1bcd100d98c0"
      },
      "outputs": [
        {
          "data": {
            "text/plain": [
              "array([['1388', 718.5],\n",
              "       ['50052', 3192.5],\n",
              "       ['41645', 1952.0],\n",
              "       ...,\n",
              "       ['24786', 10601.5],\n",
              "       ['1332', 4107.5],\n",
              "       ['42527', 2001.0]], dtype=object)"
            ]
          },
          "execution_count": 52,
          "metadata": {},
          "output_type": "execute_result"
        }
      ],
      "source": [
        "predictions = predictor.predict(X_test_inference)\n",
        "predictions"
      ]
    },
    {
      "cell_type": "code",
      "execution_count": null,
      "metadata": {
        "id": "Sz3lmoylRvbs",
        "outputId": "95122355-812c-412a-b744-7fe0d0459dbf"
      },
      "outputs": [
        {
          "data": {
            "text/html": [
              "<div>\n",
              "<style scoped>\n",
              "    .dataframe tbody tr th:only-of-type {\n",
              "        vertical-align: middle;\n",
              "    }\n",
              "\n",
              "    .dataframe tbody tr th {\n",
              "        vertical-align: top;\n",
              "    }\n",
              "\n",
              "    .dataframe thead th {\n",
              "        text-align: right;\n",
              "    }\n",
              "</style>\n",
              "<table border=\"1\" class=\"dataframe\">\n",
              "  <thead>\n",
              "    <tr style=\"text-align: right;\">\n",
              "      <th></th>\n",
              "      <th>carat</th>\n",
              "      <th>cut</th>\n",
              "      <th>color</th>\n",
              "      <th>clarity</th>\n",
              "      <th>depth</th>\n",
              "      <th>table</th>\n",
              "      <th>x</th>\n",
              "      <th>y</th>\n",
              "      <th>z</th>\n",
              "      <th>record_id</th>\n",
              "      <th>prediction</th>\n",
              "      <th>ts</th>\n",
              "    </tr>\n",
              "  </thead>\n",
              "  <tbody>\n",
              "    <tr>\n",
              "      <th>0</th>\n",
              "      <td>0.24</td>\n",
              "      <td>Ideal</td>\n",
              "      <td>G</td>\n",
              "      <td>VVS1</td>\n",
              "      <td>62.1</td>\n",
              "      <td>56.0</td>\n",
              "      <td>3.97</td>\n",
              "      <td>4.00</td>\n",
              "      <td>2.47</td>\n",
              "      <td>1388</td>\n",
              "      <td>718.5</td>\n",
              "      <td>2021-12-22 19:18:09.175260</td>\n",
              "    </tr>\n",
              "    <tr>\n",
              "      <th>1</th>\n",
              "      <td>0.58</td>\n",
              "      <td>'Very Good'</td>\n",
              "      <td>F</td>\n",
              "      <td>VVS2</td>\n",
              "      <td>60.0</td>\n",
              "      <td>57.0</td>\n",
              "      <td>5.44</td>\n",
              "      <td>5.42</td>\n",
              "      <td>3.26</td>\n",
              "      <td>50052</td>\n",
              "      <td>3192.5</td>\n",
              "      <td>2021-12-22 19:18:09.175260</td>\n",
              "    </tr>\n",
              "    <tr>\n",
              "      <th>2</th>\n",
              "      <td>0.40</td>\n",
              "      <td>Ideal</td>\n",
              "      <td>E</td>\n",
              "      <td>VVS2</td>\n",
              "      <td>62.1</td>\n",
              "      <td>55.0</td>\n",
              "      <td>4.76</td>\n",
              "      <td>4.74</td>\n",
              "      <td>2.95</td>\n",
              "      <td>41645</td>\n",
              "      <td>1952</td>\n",
              "      <td>2021-12-22 19:18:09.175260</td>\n",
              "    </tr>\n",
              "    <tr>\n",
              "      <th>3</th>\n",
              "      <td>0.43</td>\n",
              "      <td>Premium</td>\n",
              "      <td>E</td>\n",
              "      <td>VVS2</td>\n",
              "      <td>60.8</td>\n",
              "      <td>57.0</td>\n",
              "      <td>4.92</td>\n",
              "      <td>4.89</td>\n",
              "      <td>2.98</td>\n",
              "      <td>42377</td>\n",
              "      <td>2083.5</td>\n",
              "      <td>2021-12-22 19:18:09.175260</td>\n",
              "    </tr>\n",
              "    <tr>\n",
              "      <th>4</th>\n",
              "      <td>1.55</td>\n",
              "      <td>Ideal</td>\n",
              "      <td>E</td>\n",
              "      <td>SI2</td>\n",
              "      <td>62.3</td>\n",
              "      <td>55.0</td>\n",
              "      <td>7.44</td>\n",
              "      <td>7.37</td>\n",
              "      <td>4.61</td>\n",
              "      <td>17244</td>\n",
              "      <td>9876.5</td>\n",
              "      <td>2021-12-22 19:18:09.175260</td>\n",
              "    </tr>\n",
              "  </tbody>\n",
              "</table>\n",
              "</div>"
            ],
            "text/plain": [
              "   carat          cut color clarity  depth  table     x     y     z  \\\n",
              "0   0.24        Ideal     G    VVS1   62.1   56.0  3.97  4.00  2.47   \n",
              "1   0.58  'Very Good'     F    VVS2   60.0   57.0  5.44  5.42  3.26   \n",
              "2   0.40        Ideal     E    VVS2   62.1   55.0  4.76  4.74  2.95   \n",
              "3   0.43      Premium     E    VVS2   60.8   57.0  4.92  4.89  2.98   \n",
              "4   1.55        Ideal     E     SI2   62.3   55.0  7.44  7.37  4.61   \n",
              "\n",
              "   record_id prediction                         ts  \n",
              "0       1388      718.5 2021-12-22 19:18:09.175260  \n",
              "1      50052     3192.5 2021-12-22 19:18:09.175260  \n",
              "2      41645       1952 2021-12-22 19:18:09.175260  \n",
              "3      42377     2083.5 2021-12-22 19:18:09.175260  \n",
              "4      17244     9876.5 2021-12-22 19:18:09.175260  "
            ]
          },
          "execution_count": 68,
          "metadata": {},
          "output_type": "execute_result"
        }
      ],
      "source": [
        "# Note: we provide the column names we declared in the Schema object, \n",
        "# so that Superwise.ai will be able to interpret the data\n",
        "\n",
        "ongoing_predictions = pd.DataFrame(data=predictions, columns=[\"record_id\", \"prediction\"])\n",
        "ongoing_predictions[\"record_id\"] = ongoing_predictions[\"record_id\"].astype(int)\n",
        "\n",
        "ongoing_features = X_test.copy()\n",
        "ongoing_features['record_id'] = X_test.index\n",
        "ongoing_data = ongoing_features.merge(ongoing_predictions, how='left', on='record_id')\n",
        "ongoing_data['ts'] = pd.Timestamp.now()\n",
        "ongoing_data.head()"
      ]
    },
    {
      "cell_type": "code",
      "execution_count": null,
      "metadata": {
        "id": "ZlTK2JO9Rvbs"
      },
      "outputs": [],
      "source": [
        "def chunks(lst, n):\n",
        "    \"\"\"Yield successive n-sized chunks from lst.\"\"\"\n",
        "    for i in range(0, len(lst), n):\n",
        "        yield lst[i:i + n]"
      ]
    },
    {
      "cell_type": "code",
      "execution_count": null,
      "metadata": {
        "id": "JDcaYcHGRvbs"
      },
      "outputs": [],
      "source": [
        "# Log the production data in Superwise (Max chunck size = 1000 predictions)\n",
        "\n",
        "ongoing_data_chuncks = chunks(ongoing_data.to_dict(orient='records'), 1000)\n",
        "\n",
        "transaction_ids = list()\n",
        "for ongoing_data_chunck in ongoing_data_chuncks:  \n",
        "    transaction_id = sw.transaction.log_records(\n",
        "        model_id=my_model.id,\n",
        "        version_id=my_version.name,\n",
        "        records=ongoing_data_chunck\n",
        "    )\n",
        "    transaction_ids.append(transaction_id)"
      ]
    },
    {
      "cell_type": "markdown",
      "metadata": {
        "id": "DjQO7MsHRvbs"
      },
      "source": [
        "Check the status of the logged data"
      ]
    },
    {
      "cell_type": "code",
      "execution_count": null,
      "metadata": {
        "id": "PnY2psleRvbs",
        "outputId": "ca372259-cc9d-419a-9c0e-bc6bb3c2939b"
      },
      "outputs": [
        {
          "data": {
            "text/plain": [
              "'Passed'"
            ]
          },
          "execution_count": 76,
          "metadata": {},
          "output_type": "execute_result"
        }
      ],
      "source": [
        "transaction_id = sw.transaction.get(transaction_id=transaction_ids[0]['transaction_id'])\n",
        "transaction_id.get_properties()['status']"
      ]
    },
    {
      "cell_type": "markdown",
      "metadata": {
        "id": "3QYVuw18Rvbt"
      },
      "source": [
        "### Optional - report ongoing lables to Superwise.ai\n",
        "\n",
        "In some cases, our system is able to gather \"ground truth\" labels for it's predictions.\n",
        "Often, this happens later on, after the prediciton was already given.\n",
        "\n",
        "By sending these labels to Superwise.ai, we add another important layer of data to our monitoring solution.\n",
        "\n",
        "For the purpose of this demo, we can use the test set's labels as the ground truth, simulating a label we collected in production.\n"
      ]
    },
    {
      "cell_type": "code",
      "execution_count": null,
      "metadata": {
        "id": "T_WZFhqwRvbt",
        "outputId": "7762d5c6-948a-44bd-c09f-f7239d85cbd2"
      },
      "outputs": [
        {
          "data": {
            "text/html": [
              "<div>\n",
              "<style scoped>\n",
              "    .dataframe tbody tr th:only-of-type {\n",
              "        vertical-align: middle;\n",
              "    }\n",
              "\n",
              "    .dataframe tbody tr th {\n",
              "        vertical-align: top;\n",
              "    }\n",
              "\n",
              "    .dataframe thead th {\n",
              "        text-align: right;\n",
              "    }\n",
              "</style>\n",
              "<table border=\"1\" class=\"dataframe\">\n",
              "  <thead>\n",
              "    <tr style=\"text-align: right;\">\n",
              "      <th></th>\n",
              "      <th>price</th>\n",
              "      <th>record_id</th>\n",
              "    </tr>\n",
              "  </thead>\n",
              "  <tbody>\n",
              "    <tr>\n",
              "      <th>1388</th>\n",
              "      <td>559</td>\n",
              "      <td>1388</td>\n",
              "    </tr>\n",
              "    <tr>\n",
              "      <th>50052</th>\n",
              "      <td>2201</td>\n",
              "      <td>50052</td>\n",
              "    </tr>\n",
              "    <tr>\n",
              "      <th>41645</th>\n",
              "      <td>1238</td>\n",
              "      <td>41645</td>\n",
              "    </tr>\n",
              "    <tr>\n",
              "      <th>42377</th>\n",
              "      <td>1304</td>\n",
              "      <td>42377</td>\n",
              "    </tr>\n",
              "    <tr>\n",
              "      <th>17244</th>\n",
              "      <td>6901</td>\n",
              "      <td>17244</td>\n",
              "    </tr>\n",
              "    <tr>\n",
              "      <th>...</th>\n",
              "      <td>...</td>\n",
              "      <td>...</td>\n",
              "    </tr>\n",
              "    <tr>\n",
              "      <th>29577</th>\n",
              "      <td>705</td>\n",
              "      <td>29577</td>\n",
              "    </tr>\n",
              "    <tr>\n",
              "      <th>12564</th>\n",
              "      <td>5278</td>\n",
              "      <td>12564</td>\n",
              "    </tr>\n",
              "    <tr>\n",
              "      <th>24786</th>\n",
              "      <td>13157</td>\n",
              "      <td>24786</td>\n",
              "    </tr>\n",
              "    <tr>\n",
              "      <th>1332</th>\n",
              "      <td>2960</td>\n",
              "      <td>1332</td>\n",
              "    </tr>\n",
              "    <tr>\n",
              "      <th>42527</th>\n",
              "      <td>1323</td>\n",
              "      <td>42527</td>\n",
              "    </tr>\n",
              "  </tbody>\n",
              "</table>\n",
              "<p>16182 rows × 2 columns</p>\n",
              "</div>"
            ],
            "text/plain": [
              "       price record_id\n",
              "1388     559      1388\n",
              "50052   2201     50052\n",
              "41645   1238     41645\n",
              "42377   1304     42377\n",
              "17244   6901     17244\n",
              "...      ...       ...\n",
              "29577    705     29577\n",
              "12564   5278     12564\n",
              "24786  13157     24786\n",
              "1332    2960      1332\n",
              "42527   1323     42527\n",
              "\n",
              "[16182 rows x 2 columns]"
            ]
          },
          "execution_count": 77,
          "metadata": {},
          "output_type": "execute_result"
        }
      ],
      "source": [
        "# Note: we provide the column names we declared in the Schema object, so that Superwise.ai will be able to interpret the data\n",
        "indexes = y_test.index.map(str)\n",
        "ground_truth = pd.DataFrame(data=y_test, columns=['price'])\n",
        "ground_truth['record_id'] = indexes\n",
        "ground_truth"
      ]
    },
    {
      "cell_type": "code",
      "execution_count": null,
      "metadata": {
        "id": "1xWJb3ukRvbt"
      },
      "outputs": [],
      "source": [
        "# Report the labels to Superwise.ai (Max chunck size = 1000 labels)\n",
        "\n",
        "ground_truth_chuncks = chunks(ground_truth.to_dict(orient='records'), 1000)\n",
        "\n",
        "transaction_ids = list()\n",
        "for ground_truth_chunck in ground_truth_chuncks:  \n",
        "    transaction_id = sw.transaction.log_records(\n",
        "        model_id=my_model.id,\n",
        "        records=ground_truth_chunck\n",
        "    )\n",
        "    transaction_ids.append(transaction_id)"
      ]
    },
    {
      "cell_type": "markdown",
      "metadata": {
        "id": "s6PkJrwQRvbt"
      },
      "source": [
        "Check the status of the logged data"
      ]
    },
    {
      "cell_type": "code",
      "execution_count": null,
      "metadata": {
        "id": "XwHUQP2hRvbt",
        "outputId": "cc952355-f672-490c-93cf-55fa7f0c1a14"
      },
      "outputs": [
        {
          "data": {
            "text/plain": [
              "'Passed'"
            ]
          },
          "execution_count": 79,
          "metadata": {},
          "output_type": "execute_result"
        }
      ],
      "source": [
        "transaction_id = sw.transaction.get(transaction_id=transaction_ids[0]['transaction_id'])\n",
        "transaction_id.get_properties()['status']"
      ]
    },
    {
      "cell_type": "markdown",
      "metadata": {
        "id": "OiGZcaYbRvbt"
      },
      "source": [
        "### Verifying the setup\n",
        "![image.png](data:image/png;base64,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)\n"
      ]
    },
    {
      "cell_type": "markdown",
      "metadata": {
        "id": "1nbilCIeRvbt"
      },
      "source": [
        "## Don't forget to delete the endpoint !"
      ]
    },
    {
      "cell_type": "code",
      "execution_count": null,
      "metadata": {
        "id": "WELPn5HGRvbu",
        "outputId": "f4b53d70-5ccc-4936-d186-9fa38cd221e7"
      },
      "outputs": [
        {
          "name": "stderr",
          "output_type": "stream",
          "text": [
            "The endpoint attribute has been renamed in sagemaker>=2.\n",
            "See: https://sagemaker.readthedocs.io/en/stable/v2.html for details.\n"
          ]
        },
        {
          "data": {
            "text/plain": [
              "{'ResponseMetadata': {'RequestId': 'a35aafb4-766e-4b24-86f6-823fdfffb34f',\n",
              "  'HTTPStatusCode': 200,\n",
              "  'HTTPHeaders': {'x-amzn-requestid': 'a35aafb4-766e-4b24-86f6-823fdfffb34f',\n",
              "   'content-type': 'application/x-amz-json-1.1',\n",
              "   'content-length': '0',\n",
              "   'date': 'Wed, 22 Dec 2021 17:27:45 GMT'},\n",
              "  'RetryAttempts': 0}}"
            ]
          },
          "execution_count": 81,
          "metadata": {},
          "output_type": "execute_result"
        }
      ],
      "source": [
        "sm_boto3.delete_endpoint(EndpointName=predictor.endpoint)"
      ]
    }
  ],
  "metadata": {
    "kernelspec": {
      "display_name": "Python 3 (ipykernel)",
      "language": "python",
      "name": "python3"
    },
    "language_info": {
      "codemirror_mode": {
        "name": "ipython",
        "version": 3
      },
      "file_extension": ".py",
      "mimetype": "text/x-python",
      "name": "python",
      "nbconvert_exporter": "python",
      "pygments_lexer": "ipython3",
      "version": "3.9.10"
    },
    "colab": {
      "name": "sagemaker.ipynb",
      "provenance": [],
      "toc_visible": true,
      "include_colab_link": true
    }
  },
  "nbformat": 4,
  "nbformat_minor": 0
}