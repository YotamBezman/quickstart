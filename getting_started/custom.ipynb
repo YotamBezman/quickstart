{
 "cells": [
  {
   "cell_type": "markdown",
   "id": "exact-clearing",
   "metadata": {
    "id": "exact-clearing",
    "tags": []
   },
   "source": [
    "# **Getting started**\n",
    "\n",
    "This guide will walk you through the creation and configuration of a new model on the platform - giving you model observability in 5 minutes!\n",
    "\n",
    "[1. Import Superwise package](#Import-Superwise-package)\n",
    "\n",
    "[2. Simulate model training flow](#Simulate-model-training-flow)\n",
    "\n",
    "[3. Let's integrate with Superwise](#Let's-integrate-with-Superwise)\n",
    "- [3.1 Create a Model](#Create-a-Model)\n",
    "- [3.2 Create a Version](#Create-a-Version)\n",
    "- [3.3 Log production data](#Log-production-data)\n"
   ]
  },
  {
   "cell_type": "markdown",
   "id": "RsZRzgQg_pWw",
   "metadata": {
    "id": "RsZRzgQg_pWw"
   },
   "source": [
    "\n",
    "#### ***Prerequisite packages ( optional )***\n",
    "\n"
   ]
  },
  {
   "cell_type": "code",
   "execution_count": null,
   "id": "5bdwE_zJ8nv9",
   "metadata": {
    "id": "5bdwE_zJ8nv9"
   },
   "outputs": [],
   "source": [
    "!pip install pandas numpy sklearn superwise"
   ]
  },
  {
   "cell_type": "markdown",
   "id": "8f8ca186-7ab5-459c-942d-a45526625b87",
   "metadata": {
    "id": "8f8ca186-7ab5-459c-942d-a45526625b87"
   },
   "source": [
    "## **Import Superwise package**"
   ]
  },
  {
   "cell_type": "markdown",
   "id": "de37d208-3977-4c3b-b0a0-ad3f76f8179d",
   "metadata": {
    "id": "de37d208-3977-4c3b-b0a0-ad3f76f8179d",
    "tags": []
   },
   "source": [
    "The Superwise SDK is a standard Python package that simplifies the integration with Superwise and streams data to the Superwise platform.\n",
    "\n",
    "For demostration purpose we will use:\n",
    "* pandas for loading our diamonds data, working with dataframes\n",
    "* numpy for dataframe operations\n",
    "* sklearn for default ML operations such as train-test split, encoders, model trainning etc\n",
    "\n",
    "Clarifications:\n",
    "* Superwise.models.model.Model - represents a ML model in production\n",
    "* Superwise.models.version.Version - represents a particular model form, with baseline data and features\n",
    "* DataEntityRole - describes the dtype and role of the feature"
   ]
  },
  {
   "cell_type": "code",
   "execution_count": 1,
   "id": "finnish-douglas",
   "metadata": {
    "id": "finnish-douglas"
   },
   "outputs": [],
   "source": [
    "import os\n",
    "\n",
    "import pandas as pd\n",
    "import numpy as np\n",
    "from sklearn.model_selection import train_test_split\n",
    "from sklearn.compose import ColumnTransformer\n",
    "from sklearn.preprocessing import OneHotEncoder\n",
    "from sklearn.pipeline import Pipeline\n",
    "from sklearn.linear_model import LinearRegression\n",
    "\n",
    "from superwise import Superwise\n",
    "from superwise.models.model import Model\n",
    "from superwise.models.version import Version\n",
    "from superwise.resources.superwise_enums import DataEntityRole"
   ]
  },
  {
   "cell_type": "markdown",
   "id": "immune-plant",
   "metadata": {
    "id": "immune-plant"
   },
   "source": [
    "## Initiate Superwise client\n",
    "\n",
    "There are 2 environment variables used to identify and authenticate your connection:\n",
    "* SUPERWISE_CLIENT_ID\n",
    "* SUPERWISE_SECRET\n",
    "\n",
    "Read [here](https://docs.superwise.ai/docs/authentication) to understand how to\n",
    " generate them.\n"
   ]
  },
  {
   "cell_type": "code",
   "execution_count": 2,
   "id": "60c1a0c7-04a5-40c6-9548-011e57fdda1b",
   "metadata": {
    "id": "60c1a0c7-04a5-40c6-9548-011e57fdda1b"
   },
   "outputs": [],
   "source": [
    "os.environ['SUPERWISE_CLIENT_ID'] = 'REPLACE_WITH_YOUR_CLIENT'\n",
    "os.environ['SUPERWISE_SECRET'] = 'REPLACE_WITH_YOUR_SECRET'"
   ]
  },
  {
   "cell_type": "markdown",
   "id": "c02f4tJUAnRK",
   "metadata": {
    "id": "c02f4tJUAnRK"
   },
   "source": [
    "To interact with the Superwise APIs, create an instance of the Superwise object. All APIs will now be accessible under the sw instance.\n"
   ]
  },
  {
   "cell_type": "code",
   "execution_count": 5,
   "id": "operational-greek",
   "metadata": {
    "id": "operational-greek"
   },
   "outputs": [],
   "source": [
    "sw = Superwise()"
   ]
  },
  {
   "cell_type": "markdown",
   "id": "20fd4820-2dd0-4ad7-9194-93cc2ffa9865",
   "metadata": {
    "id": "20fd4820-2dd0-4ad7-9194-93cc2ffa9865"
   },
   "source": [
    "## Simulate model training flow"
   ]
  },
  {
   "cell_type": "markdown",
   "id": "2c32293d-0cbf-45cc-90a1-9f402aee3732",
   "metadata": {
    "id": "2c32293d-0cbf-45cc-90a1-9f402aee3732",
    "jp-MarkdownHeadingCollapsed": true,
    "tags": []
   },
   "source": [
    "For this tutorial, we use the Diamonds public dataset. This classic dataset contains the prices and other attributes of almost 54,000 diamonds.\n"
   ]
  },
  {
   "cell_type": "markdown",
   "id": "brave-input",
   "metadata": {
    "id": "brave-input",
    "tags": []
   },
   "source": [
    "#### Load data"
   ]
  },
  {
   "cell_type": "code",
   "execution_count": 6,
   "id": "diagnostic-cameroon",
   "metadata": {
    "id": "diagnostic-cameroon",
    "outputId": "68d261b2-c35d-484c-d674-de302adf1dce"
   },
   "outputs": [
    {
     "data": {
      "text/html": [
       "<div>\n",
       "<style scoped>\n",
       "    .dataframe tbody tr th:only-of-type {\n",
       "        vertical-align: middle;\n",
       "    }\n",
       "\n",
       "    .dataframe tbody tr th {\n",
       "        vertical-align: top;\n",
       "    }\n",
       "\n",
       "    .dataframe thead th {\n",
       "        text-align: right;\n",
       "    }\n",
       "</style>\n",
       "<table border=\"1\" class=\"dataframe\">\n",
       "  <thead>\n",
       "    <tr style=\"text-align: right;\">\n",
       "      <th></th>\n",
       "      <th>carat</th>\n",
       "      <th>cut</th>\n",
       "      <th>color</th>\n",
       "      <th>clarity</th>\n",
       "      <th>depth</th>\n",
       "      <th>table</th>\n",
       "      <th>price</th>\n",
       "      <th>x</th>\n",
       "      <th>y</th>\n",
       "      <th>z</th>\n",
       "    </tr>\n",
       "  </thead>\n",
       "  <tbody>\n",
       "    <tr>\n",
       "      <th>0</th>\n",
       "      <td>0.23</td>\n",
       "      <td>Ideal</td>\n",
       "      <td>E</td>\n",
       "      <td>SI2</td>\n",
       "      <td>61.5</td>\n",
       "      <td>55.0</td>\n",
       "      <td>326</td>\n",
       "      <td>3.95</td>\n",
       "      <td>3.98</td>\n",
       "      <td>2.43</td>\n",
       "    </tr>\n",
       "    <tr>\n",
       "      <th>1</th>\n",
       "      <td>0.21</td>\n",
       "      <td>Premium</td>\n",
       "      <td>E</td>\n",
       "      <td>SI1</td>\n",
       "      <td>59.8</td>\n",
       "      <td>61.0</td>\n",
       "      <td>326</td>\n",
       "      <td>3.89</td>\n",
       "      <td>3.84</td>\n",
       "      <td>2.31</td>\n",
       "    </tr>\n",
       "    <tr>\n",
       "      <th>2</th>\n",
       "      <td>0.23</td>\n",
       "      <td>Good</td>\n",
       "      <td>E</td>\n",
       "      <td>VS1</td>\n",
       "      <td>56.9</td>\n",
       "      <td>65.0</td>\n",
       "      <td>327</td>\n",
       "      <td>4.05</td>\n",
       "      <td>4.07</td>\n",
       "      <td>2.31</td>\n",
       "    </tr>\n",
       "    <tr>\n",
       "      <th>3</th>\n",
       "      <td>0.29</td>\n",
       "      <td>Premium</td>\n",
       "      <td>I</td>\n",
       "      <td>VS2</td>\n",
       "      <td>62.4</td>\n",
       "      <td>58.0</td>\n",
       "      <td>334</td>\n",
       "      <td>4.20</td>\n",
       "      <td>4.23</td>\n",
       "      <td>2.63</td>\n",
       "    </tr>\n",
       "    <tr>\n",
       "      <th>4</th>\n",
       "      <td>0.31</td>\n",
       "      <td>Good</td>\n",
       "      <td>J</td>\n",
       "      <td>SI2</td>\n",
       "      <td>63.3</td>\n",
       "      <td>58.0</td>\n",
       "      <td>335</td>\n",
       "      <td>4.34</td>\n",
       "      <td>4.35</td>\n",
       "      <td>2.75</td>\n",
       "    </tr>\n",
       "  </tbody>\n",
       "</table>\n",
       "</div>"
      ],
      "text/plain": [
       "   carat      cut color clarity  depth  table  price     x     y     z\n",
       "0   0.23    Ideal     E     SI2   61.5   55.0    326  3.95  3.98  2.43\n",
       "1   0.21  Premium     E     SI1   59.8   61.0    326  3.89  3.84  2.31\n",
       "2   0.23     Good     E     VS1   56.9   65.0    327  4.05  4.07  2.31\n",
       "3   0.29  Premium     I     VS2   62.4   58.0    334  4.20  4.23  2.63\n",
       "4   0.31     Good     J     SI2   63.3   58.0    335  4.34  4.35  2.75"
      ]
     },
     "execution_count": 6,
     "metadata": {},
     "output_type": "execute_result"
    }
   ],
   "source": [
    "diamonds = pd.read_csv('https://www.openml.org/data/get_csv/21792853/dataset')\n",
    "diamonds.head()"
   ]
  },
  {
   "cell_type": "markdown",
   "id": "8c77d3eb-d0f0-4254-a933-1987fb5d2441",
   "metadata": {
    "id": "8c77d3eb-d0f0-4254-a933-1987fb5d2441"
   },
   "source": [
    "Dataset properties:\n",
    "- carat weight of the diamond (0.2--5.01)\n",
    "- cut quality of the cut (Fair, Good, Very Good, Premium, Ideal)\n",
    "- color diamond color, from J (worst) to D (best)\n",
    "- clarity a measurement of how clear the diamond is (I1 (worst), SI2, SI1, VS2, VS1, VVS2, VVS1, IF (best))\n",
    "- depth total depth percentage = z / mean(x, y) = 2 * z / (x + y) (43--79)\n",
    "- table width of top of diamond relative to widest point (43--95)\n",
    "- price price in US dollars ($326--$18,823) - Label\n",
    "- x length in mm (0--10.74)\n",
    "- y width in mm (0--58.9)\n",
    "- z depth in mm (0--31.8)\n"
   ]
  },
  {
   "cell_type": "markdown",
   "id": "unexpected-amazon",
   "metadata": {
    "id": "unexpected-amazon"
   },
   "source": [
    "#### Split Train-Test\n",
    "\n",
    "We’ll split the dataset into training and test sets. The training dataset will be used later as a reference dataset for the baseline. The test dataset will simulate production data that feeds into the model. You can read more about the baseline dataset concept [here](https://docs.superwise.ai/docs/baseline)\n"
   ]
  },
  {
   "cell_type": "code",
   "execution_count": 7,
   "id": "received-strength",
   "metadata": {
    "id": "received-strength",
    "outputId": "dba0f02a-2fc3-485b-f812-4daae6656900"
   },
   "outputs": [
    {
     "data": {
      "text/html": [
       "<div>\n",
       "<style scoped>\n",
       "    .dataframe tbody tr th:only-of-type {\n",
       "        vertical-align: middle;\n",
       "    }\n",
       "\n",
       "    .dataframe tbody tr th {\n",
       "        vertical-align: top;\n",
       "    }\n",
       "\n",
       "    .dataframe thead th {\n",
       "        text-align: right;\n",
       "    }\n",
       "</style>\n",
       "<table border=\"1\" class=\"dataframe\">\n",
       "  <thead>\n",
       "    <tr style=\"text-align: right;\">\n",
       "      <th></th>\n",
       "      <th>carat</th>\n",
       "      <th>cut</th>\n",
       "      <th>color</th>\n",
       "      <th>clarity</th>\n",
       "      <th>depth</th>\n",
       "      <th>table</th>\n",
       "      <th>x</th>\n",
       "      <th>y</th>\n",
       "      <th>z</th>\n",
       "    </tr>\n",
       "  </thead>\n",
       "  <tbody>\n",
       "    <tr>\n",
       "      <th>19497</th>\n",
       "      <td>1.21</td>\n",
       "      <td>Ideal</td>\n",
       "      <td>H</td>\n",
       "      <td>VVS2</td>\n",
       "      <td>61.3</td>\n",
       "      <td>57.0</td>\n",
       "      <td>6.92</td>\n",
       "      <td>6.87</td>\n",
       "      <td>4.23</td>\n",
       "    </tr>\n",
       "    <tr>\n",
       "      <th>31229</th>\n",
       "      <td>0.31</td>\n",
       "      <td>Ideal</td>\n",
       "      <td>E</td>\n",
       "      <td>VS2</td>\n",
       "      <td>62.0</td>\n",
       "      <td>56.0</td>\n",
       "      <td>4.38</td>\n",
       "      <td>4.36</td>\n",
       "      <td>2.71</td>\n",
       "    </tr>\n",
       "    <tr>\n",
       "      <th>22311</th>\n",
       "      <td>1.21</td>\n",
       "      <td>Ideal</td>\n",
       "      <td>E</td>\n",
       "      <td>VS1</td>\n",
       "      <td>62.4</td>\n",
       "      <td>57.0</td>\n",
       "      <td>6.75</td>\n",
       "      <td>6.83</td>\n",
       "      <td>4.24</td>\n",
       "    </tr>\n",
       "    <tr>\n",
       "      <th>278</th>\n",
       "      <td>0.81</td>\n",
       "      <td>Ideal</td>\n",
       "      <td>F</td>\n",
       "      <td>SI2</td>\n",
       "      <td>62.6</td>\n",
       "      <td>55.0</td>\n",
       "      <td>5.92</td>\n",
       "      <td>5.96</td>\n",
       "      <td>3.72</td>\n",
       "    </tr>\n",
       "    <tr>\n",
       "      <th>6646</th>\n",
       "      <td>0.79</td>\n",
       "      <td>Ideal</td>\n",
       "      <td>I</td>\n",
       "      <td>VVS2</td>\n",
       "      <td>61.7</td>\n",
       "      <td>56.0</td>\n",
       "      <td>5.94</td>\n",
       "      <td>5.95</td>\n",
       "      <td>3.67</td>\n",
       "    </tr>\n",
       "  </tbody>\n",
       "</table>\n",
       "</div>"
      ],
      "text/plain": [
       "       carat    cut color clarity  depth  table     x     y     z\n",
       "19497   1.21  Ideal     H    VVS2   61.3   57.0  6.92  6.87  4.23\n",
       "31229   0.31  Ideal     E     VS2   62.0   56.0  4.38  4.36  2.71\n",
       "22311   1.21  Ideal     E     VS1   62.4   57.0  6.75  6.83  4.24\n",
       "278     0.81  Ideal     F     SI2   62.6   55.0  5.92  5.96  3.72\n",
       "6646    0.79  Ideal     I    VVS2   61.7   56.0  5.94  5.95  3.67"
      ]
     },
     "execution_count": 7,
     "metadata": {},
     "output_type": "execute_result"
    }
   ],
   "source": [
    "X = diamonds.drop(columns=\"price\")\n",
    "y = diamonds[\"price\"]\n",
    "\n",
    "X_train, X_test, y_train, y_test = train_test_split(X, y, test_size=0.3, random_state=42)\n",
    "X_train.head()"
   ]
  },
  {
   "cell_type": "markdown",
   "id": "varying-holocaust",
   "metadata": {
    "id": "varying-holocaust"
   },
   "source": [
    "#### Pre-processing\n",
    "\n",
    "To use categorical features in our model, we will first transform them into numerical values using one-hot encoding"
   ]
  },
  {
   "cell_type": "code",
   "execution_count": 8,
   "id": "broke-foster",
   "metadata": {
    "id": "broke-foster"
   },
   "outputs": [],
   "source": [
    "categorical_cols = ['cut', 'clarity', 'color']\n",
    "\n",
    "preprocessor = ColumnTransformer(\n",
    "    transformers=[\n",
    "        ('categorical',  OneHotEncoder(), categorical_cols)\n",
    "    ], remainder='passthrough')"
   ]
  },
  {
   "cell_type": "markdown",
   "id": "hearing-delhi",
   "metadata": {
    "id": "hearing-delhi"
   },
   "source": [
    "#### Train your model\n",
    "\n",
    "In this example, we train a simple Liner Regression"
   ]
  },
  {
   "cell_type": "code",
   "execution_count": 9,
   "id": "emotional-bangladesh",
   "metadata": {
    "id": "emotional-bangladesh",
    "outputId": "18b9d458-8eba-474c-bdc4-78ae89c6f8b7"
   },
   "outputs": [
    {
     "data": {
      "text/plain": [
       "Pipeline(steps=[('preprocessor',\n",
       "                 ColumnTransformer(remainder='passthrough',\n",
       "                                   transformers=[('categorical',\n",
       "                                                  OneHotEncoder(),\n",
       "                                                  ['cut', 'clarity',\n",
       "                                                   'color'])])),\n",
       "                ('model', LinearRegression())])"
      ]
     },
     "execution_count": 9,
     "metadata": {},
     "output_type": "execute_result"
    }
   ],
   "source": [
    "diamond_price_model=LinearRegression()\n",
    "\n",
    "my_pipeline = Pipeline(steps=[\n",
    "    ('preprocessor', preprocessor),\n",
    "    ('model', diamond_price_model)\n",
    "])\n",
    "\n",
    "my_pipeline.fit(X_train, y_train)"
   ]
  },
  {
   "cell_type": "markdown",
   "id": "pharmaceutical-graph",
   "metadata": {
    "id": "pharmaceutical-graph"
   },
   "source": [
    "#### Predict\n",
    "\n",
    "We can now use the model we trained to predict the price\n"
   ]
  },
  {
   "cell_type": "code",
   "execution_count": 10,
   "id": "waiting-undergraduate",
   "metadata": {
    "id": "waiting-undergraduate"
   },
   "outputs": [],
   "source": [
    "y_pred_train =  my_pipeline.predict(X_train)"
   ]
  },
  {
   "cell_type": "markdown",
   "id": "lesser-bosnia",
   "metadata": {
    "id": "lesser-bosnia"
   },
   "source": [
    "## **Let's integrate with Superwise**\n",
    "\n",
    "Now that we have a trained model, we can begin by logging it into the Superwise platform and starting to monitor its behavior.\n"
   ]
  },
  {
   "cell_type": "markdown",
   "id": "novel-sewing",
   "metadata": {
    "id": "novel-sewing"
   },
   "source": [
    "#### Create a Model\n",
    "\n",
    "Models, or machine learning-based decision processes are the basic atomic component that Superwise observes"
   ]
  },
  {
   "cell_type": "code",
   "execution_count": 11,
   "id": "corresponding-nursery",
   "metadata": {
    "id": "corresponding-nursery",
    "outputId": "7c846774-4de2-4641-ac0e-160ad03cca8b",
    "tags": []
   },
   "outputs": [
    {
     "name": "stdout",
     "output_type": "stream",
     "text": [
      "New model Created - 45\n"
     ]
    }
   ],
   "source": [
    "diamond_model = Model(\n",
    "    name=\"Diamond Model\",\n",
    "    description=\"Regression model that predicts the diamond price\"\n",
    ")\n",
    "\n",
    "diamond_model = sw.model.create(diamond_model)\n",
    "print(f\"New model Created - {diamond_model.id}\")"
   ]
  },
  {
   "cell_type": "code",
   "execution_count": 29,
   "id": "20e3c03c-6752-4456-8c17-4ff8e25caebf",
   "metadata": {},
   "outputs": [
    {
     "data": {
      "text/html": [
       "<img src=\"../images/new_model.png\"/>\n"
      ],
      "text/plain": [
       "<IPython.core.display.HTML object>"
      ]
     },
     "metadata": {},
     "output_type": "display_data"
    }
   ],
   "source": [
    "%%html\n",
    "<img src=\"../images/new_model.png\"/>"
   ]
  },
  {
   "cell_type": "markdown",
   "id": "peripheral-basic",
   "metadata": {
    "id": "peripheral-basic"
   },
   "source": [
    "#### Create a Version\n",
    "\n",
    "Deploying a model to production is only the first step, since models require continuous improvement and ongoing updates. The differences between versions may be ad hoc schema changes or retraining on a new data set to refit the model hyperparameters under the same given schema.\n",
    "\n",
    "The process contains 3 main steps \n",
    "    - Prepare the baseline dataset based on the training data\n",
    "    - Define the version schema\n",
    "    - Log the version into the Superwise app"
   ]
  },
  {
   "cell_type": "markdown",
   "id": "portable-biology",
   "metadata": {
    "id": "portable-biology"
   },
   "source": [
    "#### Prepare Baseline Dataset\n",
    "\n",
    "We’re now going to add 4 columns to our dataset\n",
    "* ID - Unique identifier per row or prediction (Required)\n",
    "* Timestamp - Indicates when the prediction took place (Required)\n",
    "* Model prediction\n",
    "* Label - The real diamond price"
   ]
  },
  {
   "cell_type": "code",
   "execution_count": 12,
   "id": "gothic-forth",
   "metadata": {
    "id": "gothic-forth",
    "outputId": "90cebc96-f655-4e7d-bb90-896cf43b86a5"
   },
   "outputs": [
    {
     "data": {
      "text/html": [
       "<div>\n",
       "<style scoped>\n",
       "    .dataframe tbody tr th:only-of-type {\n",
       "        vertical-align: middle;\n",
       "    }\n",
       "\n",
       "    .dataframe tbody tr th {\n",
       "        vertical-align: top;\n",
       "    }\n",
       "\n",
       "    .dataframe thead th {\n",
       "        text-align: right;\n",
       "    }\n",
       "</style>\n",
       "<table border=\"1\" class=\"dataframe\">\n",
       "  <thead>\n",
       "    <tr style=\"text-align: right;\">\n",
       "      <th></th>\n",
       "      <th>carat</th>\n",
       "      <th>cut</th>\n",
       "      <th>color</th>\n",
       "      <th>clarity</th>\n",
       "      <th>depth</th>\n",
       "      <th>table</th>\n",
       "      <th>x</th>\n",
       "      <th>y</th>\n",
       "      <th>z</th>\n",
       "      <th>id</th>\n",
       "      <th>ts</th>\n",
       "      <th>prediction</th>\n",
       "      <th>price</th>\n",
       "    </tr>\n",
       "  </thead>\n",
       "  <tbody>\n",
       "    <tr>\n",
       "      <th>19497</th>\n",
       "      <td>1.21</td>\n",
       "      <td>Ideal</td>\n",
       "      <td>H</td>\n",
       "      <td>VVS2</td>\n",
       "      <td>61.3</td>\n",
       "      <td>57.0</td>\n",
       "      <td>6.92</td>\n",
       "      <td>6.87</td>\n",
       "      <td>4.23</td>\n",
       "      <td>19497</td>\n",
       "      <td>2022-02-17 13:38:29.069049</td>\n",
       "      <td>8060.5</td>\n",
       "      <td>8131</td>\n",
       "    </tr>\n",
       "    <tr>\n",
       "      <th>31229</th>\n",
       "      <td>0.31</td>\n",
       "      <td>Ideal</td>\n",
       "      <td>E</td>\n",
       "      <td>VS2</td>\n",
       "      <td>62.0</td>\n",
       "      <td>56.0</td>\n",
       "      <td>4.38</td>\n",
       "      <td>4.36</td>\n",
       "      <td>2.71</td>\n",
       "      <td>31229</td>\n",
       "      <td>2022-02-17 13:38:29.069049</td>\n",
       "      <td>607.0</td>\n",
       "      <td>756</td>\n",
       "    </tr>\n",
       "    <tr>\n",
       "      <th>22311</th>\n",
       "      <td>1.21</td>\n",
       "      <td>Ideal</td>\n",
       "      <td>E</td>\n",
       "      <td>VS1</td>\n",
       "      <td>62.4</td>\n",
       "      <td>57.0</td>\n",
       "      <td>6.75</td>\n",
       "      <td>6.83</td>\n",
       "      <td>4.24</td>\n",
       "      <td>22311</td>\n",
       "      <td>2022-02-17 13:38:29.069049</td>\n",
       "      <td>8569.0</td>\n",
       "      <td>10351</td>\n",
       "    </tr>\n",
       "    <tr>\n",
       "      <th>278</th>\n",
       "      <td>0.81</td>\n",
       "      <td>Ideal</td>\n",
       "      <td>F</td>\n",
       "      <td>SI2</td>\n",
       "      <td>62.6</td>\n",
       "      <td>55.0</td>\n",
       "      <td>5.92</td>\n",
       "      <td>5.96</td>\n",
       "      <td>3.72</td>\n",
       "      <td>278</td>\n",
       "      <td>2022-02-17 13:38:29.069049</td>\n",
       "      <td>3031.0</td>\n",
       "      <td>2795</td>\n",
       "    </tr>\n",
       "    <tr>\n",
       "      <th>6646</th>\n",
       "      <td>0.79</td>\n",
       "      <td>Ideal</td>\n",
       "      <td>I</td>\n",
       "      <td>VVS2</td>\n",
       "      <td>61.7</td>\n",
       "      <td>56.0</td>\n",
       "      <td>5.94</td>\n",
       "      <td>5.95</td>\n",
       "      <td>3.67</td>\n",
       "      <td>6646</td>\n",
       "      <td>2022-02-17 13:38:29.069049</td>\n",
       "      <td>3862.0</td>\n",
       "      <td>4092</td>\n",
       "    </tr>\n",
       "  </tbody>\n",
       "</table>\n",
       "</div>"
      ],
      "text/plain": [
       "       carat    cut color clarity  depth  table     x     y     z     id  \\\n",
       "19497   1.21  Ideal     H    VVS2   61.3   57.0  6.92  6.87  4.23  19497   \n",
       "31229   0.31  Ideal     E     VS2   62.0   56.0  4.38  4.36  2.71  31229   \n",
       "22311   1.21  Ideal     E     VS1   62.4   57.0  6.75  6.83  4.24  22311   \n",
       "278     0.81  Ideal     F     SI2   62.6   55.0  5.92  5.96  3.72    278   \n",
       "6646    0.79  Ideal     I    VVS2   61.7   56.0  5.94  5.95  3.67   6646   \n",
       "\n",
       "                              ts  prediction  price  \n",
       "19497 2022-02-17 13:38:29.069049      8060.5   8131  \n",
       "31229 2022-02-17 13:38:29.069049       607.0    756  \n",
       "22311 2022-02-17 13:38:29.069049      8569.0  10351  \n",
       "278   2022-02-17 13:38:29.069049      3031.0   2795  \n",
       "6646  2022-02-17 13:38:29.069049      3862.0   4092  "
      ]
     },
     "execution_count": 12,
     "metadata": {},
     "output_type": "execute_result"
    }
   ],
   "source": [
    "baseline_data = X_train.assign(\n",
    "    id=X_train.index,\n",
    "    ts=pd.Timestamp.now(),\n",
    "    prediction=y_pred_train,\n",
    "    price=y_train\n",
    ")\n",
    "baseline_data[\"prediction\"] = baseline_data[\"prediction\"].astype(float)\n",
    "\n",
    "data_dir = 'data'\n",
    "baseline_data_filename = 'baseline.csv'\n",
    "if not os.path.exists(data_dir):\n",
    "    os.mkdir(data_dir)\n",
    "baseline_data_filepath = os.path.join(data_dir, baseline_data_filename)  \n",
    "\n",
    "baseline_data.to_csv(baseline_data_filepath, index=False)\n",
    "baseline_data.head()"
   ]
  },
  {
   "cell_type": "markdown",
   "id": "foster-values",
   "metadata": {
    "id": "foster-values"
   },
   "source": [
    "#### Infer schema\n",
    "\n",
    "Because each model version can introduce new input formats, we must have an explicit schema definition for each version. The schema is a collection of different data entities (aka columns) that are part of the specific version of the machine learning decision process. Each data entity has its own data type and plays a specific role in the ML process.\n",
    "\n",
    "You can read more about the roles of data entities and supported data types [here](https://docs.superwise.ai/docs/version)"
   ]
  },
  {
   "cell_type": "code",
   "execution_count": 13,
   "id": "great-profession",
   "metadata": {
    "id": "great-profession",
    "tags": []
   },
   "outputs": [],
   "source": [
    "entities_collection = sw.data_entity.summarise(\n",
    "    data=baseline_data,\n",
    "    specific_roles = {\n",
    "      'id': DataEntityRole.ID,\n",
    "      'ts': DataEntityRole.TIMESTAMP,\n",
    "      'prediction': DataEntityRole.PREDICTION_VALUE,\n",
    "      'price': DataEntityRole.LABEL\n",
    "    }\n",
    ")"
   ]
  },
  {
   "cell_type": "markdown",
   "id": "5d7572e0-8851-45ea-be51-0b081c90fee3",
   "metadata": {
    "id": "5d7572e0-8851-45ea-be51-0b081c90fee3"
   },
   "source": [
    "Here are the schema’s main properties, which include roles, types, feature importance, and descriptive statistics:\n"
   ]
  },
  {
   "cell_type": "code",
   "execution_count": 14,
   "id": "b476e936-313d-480c-bc03-5a6c5fe7cb9d",
   "metadata": {
    "id": "b476e936-313d-480c-bc03-5a6c5fe7cb9d",
    "outputId": "413cad35-697b-48fc-fa41-d9eb99f1cbde"
   },
   "outputs": [
    {
     "data": {
      "text/html": [
       "<div>\n",
       "<style scoped>\n",
       "    .dataframe tbody tr th:only-of-type {\n",
       "        vertical-align: middle;\n",
       "    }\n",
       "\n",
       "    .dataframe tbody tr th {\n",
       "        vertical-align: top;\n",
       "    }\n",
       "\n",
       "    .dataframe thead th {\n",
       "        text-align: right;\n",
       "    }\n",
       "</style>\n",
       "<table border=\"1\" class=\"dataframe\">\n",
       "  <thead>\n",
       "    <tr style=\"text-align: right;\">\n",
       "      <th></th>\n",
       "      <th>data_type</th>\n",
       "      <th>dimension_start_ts</th>\n",
       "      <th>feature_importance</th>\n",
       "      <th>id</th>\n",
       "      <th>name</th>\n",
       "      <th>role</th>\n",
       "      <th>secondary_type</th>\n",
       "      <th>summary</th>\n",
       "      <th>type</th>\n",
       "    </tr>\n",
       "  </thead>\n",
       "  <tbody>\n",
       "    <tr>\n",
       "      <th>0</th>\n",
       "      <td>number</td>\n",
       "      <td>None</td>\n",
       "      <td>61.53</td>\n",
       "      <td>None</td>\n",
       "      <td>carat</td>\n",
       "      <td>feature</td>\n",
       "      <td>Num_centered</td>\n",
       "      <td>{'statistics': {'missing_values': 0.0, 'outlie...</td>\n",
       "      <td>Numeric</td>\n",
       "    </tr>\n",
       "    <tr>\n",
       "      <th>1</th>\n",
       "      <td>text</td>\n",
       "      <td>None</td>\n",
       "      <td>0.01</td>\n",
       "      <td>None</td>\n",
       "      <td>cut</td>\n",
       "      <td>feature</td>\n",
       "      <td>Cat_dense</td>\n",
       "      <td>{'statistics': {'missing_values': 0.0, 'new_va...</td>\n",
       "      <td>Categorical</td>\n",
       "    </tr>\n",
       "    <tr>\n",
       "      <th>2</th>\n",
       "      <td>text</td>\n",
       "      <td>None</td>\n",
       "      <td>6.10</td>\n",
       "      <td>None</td>\n",
       "      <td>color</td>\n",
       "      <td>feature</td>\n",
       "      <td>Cat_dense</td>\n",
       "      <td>{'statistics': {'missing_values': 0.0, 'new_va...</td>\n",
       "      <td>Categorical</td>\n",
       "    </tr>\n",
       "    <tr>\n",
       "      <th>3</th>\n",
       "      <td>text</td>\n",
       "      <td>None</td>\n",
       "      <td>11.15</td>\n",
       "      <td>None</td>\n",
       "      <td>clarity</td>\n",
       "      <td>feature</td>\n",
       "      <td>Cat_dense</td>\n",
       "      <td>{'statistics': {'missing_values': 0.0, 'new_va...</td>\n",
       "      <td>Categorical</td>\n",
       "    </tr>\n",
       "    <tr>\n",
       "      <th>4</th>\n",
       "      <td>number</td>\n",
       "      <td>None</td>\n",
       "      <td>0.01</td>\n",
       "      <td>None</td>\n",
       "      <td>depth</td>\n",
       "      <td>feature</td>\n",
       "      <td>Num_centered</td>\n",
       "      <td>{'statistics': {'missing_values': 0.0, 'outlie...</td>\n",
       "      <td>Numeric</td>\n",
       "    </tr>\n",
       "  </tbody>\n",
       "</table>\n",
       "</div>"
      ],
      "text/plain": [
       "  data_type dimension_start_ts  feature_importance    id     name     role  \\\n",
       "0    number               None               61.53  None    carat  feature   \n",
       "1      text               None                0.01  None      cut  feature   \n",
       "2      text               None                6.10  None    color  feature   \n",
       "3      text               None               11.15  None  clarity  feature   \n",
       "4    number               None                0.01  None    depth  feature   \n",
       "\n",
       "  secondary_type                                            summary  \\\n",
       "0   Num_centered  {'statistics': {'missing_values': 0.0, 'outlie...   \n",
       "1      Cat_dense  {'statistics': {'missing_values': 0.0, 'new_va...   \n",
       "2      Cat_dense  {'statistics': {'missing_values': 0.0, 'new_va...   \n",
       "3      Cat_dense  {'statistics': {'missing_values': 0.0, 'new_va...   \n",
       "4   Num_centered  {'statistics': {'missing_values': 0.0, 'outlie...   \n",
       "\n",
       "          type  \n",
       "0      Numeric  \n",
       "1  Categorical  \n",
       "2  Categorical  \n",
       "3  Categorical  \n",
       "4      Numeric  "
      ]
     },
     "execution_count": 14,
     "metadata": {},
     "output_type": "execute_result"
    }
   ],
   "source": [
    "ls = list()\n",
    "for entity in entities_collection:\n",
    "    ls.append(entity.get_properties())\n",
    "    \n",
    "pd.DataFrame(ls).head()"
   ]
  },
  {
   "cell_type": "markdown",
   "id": "fuzzy-burden",
   "metadata": {
    "id": "fuzzy-burden"
   },
   "source": [
    "#### Activate a version\n",
    "\n",
    "Now that we have a model and schema, let’s combine them together into a version.\n"
   ]
  },
  {
   "cell_type": "code",
   "execution_count": 15,
   "id": "british-nutrition",
   "metadata": {
    "id": "british-nutrition"
   },
   "outputs": [],
   "source": [
    "new_version = Version(\n",
    "    model_id=diamond_model.id,\n",
    "    name=\"1.0.0\",\n",
    "    data_entities=entities_collection,\n",
    ")\n",
    "\n",
    "new_version = sw.version.create(new_version)"
   ]
  },
  {
   "cell_type": "code",
   "execution_count": 16,
   "id": "c7a3df89-7ca6-4c35-a55f-e99a6c377959",
   "metadata": {
    "id": "c7a3df89-7ca6-4c35-a55f-e99a6c377959",
    "outputId": "e61d7240-b775-46d6-acfb-c327af594d11"
   },
   "outputs": [
    {
     "data": {
      "text/plain": [
       "<Response [204]>"
      ]
     },
     "execution_count": 16,
     "metadata": {},
     "output_type": "execute_result"
    }
   ],
   "source": [
    "sw.version.activate(new_version.id)"
   ]
  },
  {
   "cell_type": "code",
   "execution_count": 30,
   "id": "8b70d203-a2b0-4453-8451-69fee67726d7",
   "metadata": {},
   "outputs": [
    {
     "data": {
      "text/html": [
       "<img src=\"../images/new_version.png\"/>\n"
      ],
      "text/plain": [
       "<IPython.core.display.HTML object>"
      ]
     },
     "metadata": {},
     "output_type": "display_data"
    }
   ],
   "source": [
    "%%html\n",
    "<img src=\"../images/new_version.png\"/>"
   ]
  },
  {
   "cell_type": "markdown",
   "id": "bd940c08-c8bd-4839-980a-c59cfb24e71b",
   "metadata": {
    "id": "bd940c08-c8bd-4839-980a-c59cfb24e71b"
   },
   "source": [
    "## Log production data"
   ]
  },
  {
   "cell_type": "markdown",
   "id": "direct-cylinder",
   "metadata": {
    "id": "direct-cylinder"
   },
   "source": [
    "We’ll now use the test data to simulate production data.\n"
   ]
  },
  {
   "cell_type": "markdown",
   "id": "automated-transfer",
   "metadata": {
    "id": "automated-transfer"
   },
   "source": [
    "#### Predictions\n",
    "\n",
    "The prediction data should include all the data entities with the following roles - Id, Timestamp, Metadata, Feature, Prediction probability, Prediction value, Label weight -- as defined in the version schema above. In our diamonds example, we’ll add the following columns: Id, Timestamp, and Model prediction.\n",
    "If some data entities are missing, you’ll get a schema skew error, which means that the data will not be streaming into Superwise."
   ]
  },
  {
   "cell_type": "code",
   "execution_count": 17,
   "id": "engaging-gauge",
   "metadata": {
    "id": "engaging-gauge"
   },
   "outputs": [],
   "source": [
    "y_test_pred= my_pipeline.predict(X_test)"
   ]
  },
  {
   "cell_type": "code",
   "execution_count": 18,
   "id": "decent-measurement",
   "metadata": {
    "id": "decent-measurement",
    "outputId": "28172afe-4390-4a09-eba9-63e9d0b26a63"
   },
   "outputs": [
    {
     "data": {
      "text/html": [
       "<div>\n",
       "<style scoped>\n",
       "    .dataframe tbody tr th:only-of-type {\n",
       "        vertical-align: middle;\n",
       "    }\n",
       "\n",
       "    .dataframe tbody tr th {\n",
       "        vertical-align: top;\n",
       "    }\n",
       "\n",
       "    .dataframe thead th {\n",
       "        text-align: right;\n",
       "    }\n",
       "</style>\n",
       "<table border=\"1\" class=\"dataframe\">\n",
       "  <thead>\n",
       "    <tr style=\"text-align: right;\">\n",
       "      <th></th>\n",
       "      <th>carat</th>\n",
       "      <th>cut</th>\n",
       "      <th>color</th>\n",
       "      <th>clarity</th>\n",
       "      <th>depth</th>\n",
       "      <th>table</th>\n",
       "      <th>x</th>\n",
       "      <th>y</th>\n",
       "      <th>z</th>\n",
       "      <th>id</th>\n",
       "      <th>ts</th>\n",
       "      <th>prediction</th>\n",
       "    </tr>\n",
       "  </thead>\n",
       "  <tbody>\n",
       "    <tr>\n",
       "      <th>1388</th>\n",
       "      <td>0.24</td>\n",
       "      <td>Ideal</td>\n",
       "      <td>G</td>\n",
       "      <td>VVS1</td>\n",
       "      <td>62.1</td>\n",
       "      <td>56.0</td>\n",
       "      <td>3.97</td>\n",
       "      <td>4.00</td>\n",
       "      <td>2.47</td>\n",
       "      <td>1388</td>\n",
       "      <td>2022-02-17 13:00:00</td>\n",
       "      <td>712.0</td>\n",
       "    </tr>\n",
       "    <tr>\n",
       "      <th>50052</th>\n",
       "      <td>0.58</td>\n",
       "      <td>'Very Good'</td>\n",
       "      <td>F</td>\n",
       "      <td>VVS2</td>\n",
       "      <td>60.0</td>\n",
       "      <td>57.0</td>\n",
       "      <td>5.44</td>\n",
       "      <td>5.42</td>\n",
       "      <td>3.26</td>\n",
       "      <td>50052</td>\n",
       "      <td>2022-02-17 13:00:00</td>\n",
       "      <td>3186.0</td>\n",
       "    </tr>\n",
       "    <tr>\n",
       "      <th>41645</th>\n",
       "      <td>0.40</td>\n",
       "      <td>Ideal</td>\n",
       "      <td>E</td>\n",
       "      <td>VVS2</td>\n",
       "      <td>62.1</td>\n",
       "      <td>55.0</td>\n",
       "      <td>4.76</td>\n",
       "      <td>4.74</td>\n",
       "      <td>2.95</td>\n",
       "      <td>41645</td>\n",
       "      <td>2022-02-17 13:00:00</td>\n",
       "      <td>1944.5</td>\n",
       "    </tr>\n",
       "    <tr>\n",
       "      <th>42377</th>\n",
       "      <td>0.43</td>\n",
       "      <td>Premium</td>\n",
       "      <td>E</td>\n",
       "      <td>VVS2</td>\n",
       "      <td>60.8</td>\n",
       "      <td>57.0</td>\n",
       "      <td>4.92</td>\n",
       "      <td>4.89</td>\n",
       "      <td>2.98</td>\n",
       "      <td>42377</td>\n",
       "      <td>2022-02-17 13:00:00</td>\n",
       "      <td>2081.0</td>\n",
       "    </tr>\n",
       "    <tr>\n",
       "      <th>17244</th>\n",
       "      <td>1.55</td>\n",
       "      <td>Ideal</td>\n",
       "      <td>E</td>\n",
       "      <td>SI2</td>\n",
       "      <td>62.3</td>\n",
       "      <td>55.0</td>\n",
       "      <td>7.44</td>\n",
       "      <td>7.37</td>\n",
       "      <td>4.61</td>\n",
       "      <td>17244</td>\n",
       "      <td>2022-02-17 13:00:00</td>\n",
       "      <td>9873.5</td>\n",
       "    </tr>\n",
       "  </tbody>\n",
       "</table>\n",
       "</div>"
      ],
      "text/plain": [
       "       carat          cut color clarity  depth  table     x     y     z  \\\n",
       "1388    0.24        Ideal     G    VVS1   62.1   56.0  3.97  4.00  2.47   \n",
       "50052   0.58  'Very Good'     F    VVS2   60.0   57.0  5.44  5.42  3.26   \n",
       "41645   0.40        Ideal     E    VVS2   62.1   55.0  4.76  4.74  2.95   \n",
       "42377   0.43      Premium     E    VVS2   60.8   57.0  4.92  4.89  2.98   \n",
       "17244   1.55        Ideal     E     SI2   62.3   55.0  7.44  7.37  4.61   \n",
       "\n",
       "          id                  ts  prediction  \n",
       "1388    1388 2022-02-17 13:00:00       712.0  \n",
       "50052  50052 2022-02-17 13:00:00      3186.0  \n",
       "41645  41645 2022-02-17 13:00:00      1944.5  \n",
       "42377  42377 2022-02-17 13:00:00      2081.0  \n",
       "17244  17244 2022-02-17 13:00:00      9873.5  "
      ]
     },
     "execution_count": 18,
     "metadata": {},
     "output_type": "execute_result"
    }
   ],
   "source": [
    "prediction_time_vector = pd.Timestamp.now().floor('h') - \\\n",
    "    pd.TimedeltaIndex(X_test.reset_index(drop=True).index // int(X_test.shape[0] // 30), unit='D')\n",
    "\n",
    "ongoing_predictions = X_test.assign(\n",
    "    id=X_test.index,\n",
    "    ts=prediction_time_vector,\n",
    "    prediction=y_test_pred\n",
    ")\n",
    "ongoing_predictions[\"prediction\"] = ongoing_predictions[\"prediction\"].astype(float)\n",
    "ongoing_predictions.to_csv('data/ongoing_predictions.csv', index=False)\n",
    "ongoing_predictions.head()"
   ]
  },
  {
   "cell_type": "markdown",
   "id": "f869ae2c-7dde-4c58-bde9-d9106649b91b",
   "metadata": {
    "id": "f869ae2c-7dde-4c58-bde9-d9106649b91b"
   },
   "source": [
    "After we fit the data according to the schema, it’s ready to be sent to the Superwise platform. You’ll need to provide the model and the version of the model being used for the prediction.\n",
    "\n",
    "Notice that each chunk of data should not be more than 1000 records.\n"
   ]
  },
  {
   "cell_type": "code",
   "execution_count": 19,
   "id": "fc637625-3eda-4bbe-864a-121aacad67d6",
   "metadata": {
    "id": "fc637625-3eda-4bbe-864a-121aacad67d6"
   },
   "outputs": [],
   "source": [
    "def chunks(lst, n):\n",
    "    \"\"\"Yield successive n-sized chunks from lst.\"\"\"\n",
    "    for i in range(0, len(lst), n):\n",
    "        yield lst[i:i + n]"
   ]
  },
  {
   "cell_type": "markdown",
   "id": "b6249049-b6c1-41c9-adce-dd5e0daa13d6",
   "metadata": {},
   "source": [
    "While the next snippet is running, open [transactions](https://portal.superwise.ai) page within Superwise portal to see the data being loaded"
   ]
  },
  {
   "cell_type": "code",
   "execution_count": 32,
   "id": "4442b1e9-482e-4f76-a4b8-99064a89f5c9",
   "metadata": {
    "id": "4442b1e9-482e-4f76-a4b8-99064a89f5c9",
    "outputId": "83fe84e1-6350-43a0-9e94-5ce98accb0f6"
   },
   "outputs": [
    {
     "name": "stdout",
     "output_type": "stream",
     "text": [
      "{'transaction_id': 'f45eaacc-8fe9-11ec-9adf-eea5408e5dc0'}\n",
      "{'transaction_id': 'f552f0c8-8fe9-11ec-9adf-eea5408e5dc0'}\n",
      "{'transaction_id': 'f629e4c0-8fe9-11ec-b186-eea5408e5dc0'}\n",
      "{'transaction_id': 'f70d13ee-8fe9-11ec-b186-eea5408e5dc0'}\n",
      "{'transaction_id': 'f7f19492-8fe9-11ec-b186-eea5408e5dc0'}\n",
      "{'transaction_id': 'f8c5e940-8fe9-11ec-b186-eea5408e5dc0'}\n",
      "{'transaction_id': 'f99df3c6-8fe9-11ec-b186-eea5408e5dc0'}\n",
      "{'transaction_id': 'fa80101c-8fe9-11ec-b186-eea5408e5dc0'}\n",
      "{'transaction_id': 'fb64daee-8fe9-11ec-b186-eea5408e5dc0'}\n",
      "{'transaction_id': 'fc4badc0-8fe9-11ec-983e-eea5408e5dc0'}\n",
      "{'transaction_id': 'fd2e45cc-8fe9-11ec-983e-eea5408e5dc0'}\n",
      "{'transaction_id': 'fe13e6fe-8fe9-11ec-983e-eea5408e5dc0'}\n",
      "{'transaction_id': 'ff078606-8fe9-11ec-983e-eea5408e5dc0'}\n",
      "{'transaction_id': 'ffe096bc-8fe9-11ec-983e-eea5408e5dc0'}\n",
      "{'transaction_id': '00c40910-8fea-11ec-983e-eea5408e5dc0'}\n",
      "{'transaction_id': '01a9662c-8fea-11ec-b186-eea5408e5dc0'}\n",
      "{'transaction_id': '02464a96-8fea-11ec-b186-eea5408e5dc0'}\n"
     ]
    }
   ],
   "source": [
    "ongoing_predictions_chunks = chunks(ongoing_predictions.to_dict(orient='records'), 1000)\n",
    "\n",
    "transaction_ids = list()\n",
    "for ongoing_predictions_chunk in ongoing_predictions_chunks:\n",
    "    transaction_id = sw.transaction.log_records(\n",
    "        model_id=diamond_model.id, \n",
    "        version_id=new_version.name, \n",
    "        records=ongoing_predictions_chunk\n",
    "    )\n",
    "    transaction_ids.append(transaction_id)\n",
    "    print(transaction_id)"
   ]
  },
  {
   "cell_type": "code",
   "execution_count": 36,
   "id": "543b3c4a-2599-4dad-89e4-f1bd6097abe6",
   "metadata": {},
   "outputs": [
    {
     "data": {
      "text/html": [
       "   <img src=\"images/transactions.png\"/>\n"
      ],
      "text/plain": [
       "<IPython.core.display.HTML object>"
      ]
     },
     "metadata": {},
     "output_type": "display_data"
    }
   ],
   "source": [
    " %%html\n",
    "    <img src=\"images/transactions.png\"/>"
   ]
  },
  {
   "cell_type": "code",
   "execution_count": 25,
   "id": "4a01937c-c7a6-4e67-8128-7e11d496fb74",
   "metadata": {
    "id": "4a01937c-c7a6-4e67-8128-7e11d496fb74",
    "outputId": "51e1602d-a4b9-42c2-ff04-978b377e1322"
   },
   "outputs": [
    {
     "data": {
      "text/plain": [
       "'Passed'"
      ]
     },
     "execution_count": 25,
     "metadata": {},
     "output_type": "execute_result"
    }
   ],
   "source": [
    "transaction_id = sw.transaction.get(transaction_id=transaction_ids[0]['transaction_id'])\n",
    "transaction_id.get_properties()['status']"
   ]
  },
  {
   "cell_type": "markdown",
   "id": "honey-basketball",
   "metadata": {
    "id": "honey-basketball"
   },
   "source": [
    "## Ground truth"
   ]
  },
  {
   "cell_type": "markdown",
   "id": "822efc67-6d3f-4dd6-9233-2c9539835a75",
   "metadata": {
    "id": "822efc67-6d3f-4dd6-9233-2c9539835a75"
   },
   "source": [
    "In most ML scenarios, the ground truth comes back with a delay. To log it correctly, the data should include all the data entities with the following roles: Id, Label (as we defined in the schema). Superwise will automatically add them to the predictions that were sent earlier and use them to calculate the model performance metrics."
   ]
  },
  {
   "cell_type": "code",
   "execution_count": 26,
   "id": "specific-technician",
   "metadata": {
    "id": "specific-technician",
    "outputId": "3b3d766c-5905-4ec8-a62a-7cd65b7762d0"
   },
   "outputs": [
    {
     "data": {
      "text/html": [
       "<div>\n",
       "<style scoped>\n",
       "    .dataframe tbody tr th:only-of-type {\n",
       "        vertical-align: middle;\n",
       "    }\n",
       "\n",
       "    .dataframe tbody tr th {\n",
       "        vertical-align: top;\n",
       "    }\n",
       "\n",
       "    .dataframe thead th {\n",
       "        text-align: right;\n",
       "    }\n",
       "</style>\n",
       "<table border=\"1\" class=\"dataframe\">\n",
       "  <thead>\n",
       "    <tr style=\"text-align: right;\">\n",
       "      <th></th>\n",
       "      <th>id</th>\n",
       "      <th>price</th>\n",
       "    </tr>\n",
       "  </thead>\n",
       "  <tbody>\n",
       "    <tr>\n",
       "      <th>0</th>\n",
       "      <td>1388</td>\n",
       "      <td>559</td>\n",
       "    </tr>\n",
       "    <tr>\n",
       "      <th>1</th>\n",
       "      <td>50052</td>\n",
       "      <td>2201</td>\n",
       "    </tr>\n",
       "    <tr>\n",
       "      <th>2</th>\n",
       "      <td>41645</td>\n",
       "      <td>1238</td>\n",
       "    </tr>\n",
       "    <tr>\n",
       "      <th>3</th>\n",
       "      <td>42377</td>\n",
       "      <td>1304</td>\n",
       "    </tr>\n",
       "    <tr>\n",
       "      <th>4</th>\n",
       "      <td>17244</td>\n",
       "      <td>6901</td>\n",
       "    </tr>\n",
       "  </tbody>\n",
       "</table>\n",
       "</div>"
      ],
      "text/plain": [
       "      id  price\n",
       "0   1388    559\n",
       "1  50052   2201\n",
       "2  41645   1238\n",
       "3  42377   1304\n",
       "4  17244   6901"
      ]
     },
     "execution_count": 26,
     "metadata": {},
     "output_type": "execute_result"
    }
   ],
   "source": [
    "ongoing_labels = y_test.reset_index().copy().rename(columns={\"index\": \"id\"})\n",
    "ongoing_labels.to_csv('data/ongoing_labels.csv', index=False)\n",
    "ongoing_labels.head()"
   ]
  },
  {
   "cell_type": "markdown",
   "id": "7d54ebdc-c451-440a-befe-78794afb8dee",
   "metadata": {
    "id": "7d54ebdc-c451-440a-befe-78794afb8dee"
   },
   "source": [
    "You’ll notice that when you log the ground truth, the version_id is optional. For example, if you use 2 different versions to predict the same data record, the ground truth is relevant for both of them."
   ]
  },
  {
   "cell_type": "code",
   "execution_count": 27,
   "id": "european-lebanon",
   "metadata": {
    "id": "european-lebanon",
    "outputId": "91d1ec5a-a239-4190-f56c-7c2e3a0e61d9"
   },
   "outputs": [
    {
     "name": "stdout",
     "output_type": "stream",
     "text": [
      "{'transaction_id': 'c5206b5e-8fe6-11ec-8af3-eea5408e5dc0'}\n",
      "{'transaction_id': 'c585303e-8fe6-11ec-8af3-eea5408e5dc0'}\n",
      "{'transaction_id': 'c5e90ed8-8fe6-11ec-8af3-eea5408e5dc0'}\n",
      "{'transaction_id': 'c64d3c3c-8fe6-11ec-8af3-eea5408e5dc0'}\n",
      "{'transaction_id': 'c6b2679c-8fe6-11ec-8af3-eea5408e5dc0'}\n",
      "{'transaction_id': 'c724bd9c-8fe6-11ec-8af3-eea5408e5dc0'}\n",
      "{'transaction_id': 'c78935e2-8fe6-11ec-8af3-eea5408e5dc0'}\n",
      "{'transaction_id': 'c7ed02ac-8fe6-11ec-8af3-eea5408e5dc0'}\n",
      "{'transaction_id': 'c85177fa-8fe6-11ec-8af3-eea5408e5dc0'}\n",
      "{'transaction_id': 'c8b55edc-8fe6-11ec-8af3-eea5408e5dc0'}\n",
      "{'transaction_id': 'c91884c6-8fe6-11ec-8af3-eea5408e5dc0'}\n",
      "{'transaction_id': 'c9840c8c-8fe6-11ec-8af3-eea5408e5dc0'}\n",
      "{'transaction_id': 'c9e8de32-8fe6-11ec-8af3-eea5408e5dc0'}\n",
      "{'transaction_id': 'ca4d47e6-8fe6-11ec-8af3-eea5408e5dc0'}\n",
      "{'transaction_id': 'cab17fa4-8fe6-11ec-8af3-eea5408e5dc0'}\n",
      "{'transaction_id': 'cb1568fc-8fe6-11ec-961c-eea5408e5dc0'}\n",
      "{'transaction_id': 'cb628a74-8fe6-11ec-961c-eea5408e5dc0'}\n"
     ]
    }
   ],
   "source": [
    "ongoing_labels_chunks = chunks(ongoing_labels.to_dict(orient='records'), 1000)\n",
    "\n",
    "transaction_ids = list()\n",
    "for ongoing_labels_chunk in ongoing_labels_chunks:\n",
    "    transaction_id = sw.transaction.log_records(\n",
    "        model_id=diamond_model.id, \n",
    "        records=ongoing_labels_chunk\n",
    "    )\n",
    "    \n",
    "    transaction_ids.append(transaction_id)\n",
    "    print(transaction_id)"
   ]
  },
  {
   "cell_type": "code",
   "execution_count": 28,
   "id": "f54c3990-d379-4db6-b113-5a0c97f83955",
   "metadata": {
    "id": "f54c3990-d379-4db6-b113-5a0c97f83955",
    "outputId": "21cc67dc-67f9-48ae-f745-6dc660f8382f"
   },
   "outputs": [
    {
     "data": {
      "text/plain": [
       "'Passed'"
      ]
     },
     "execution_count": 28,
     "metadata": {},
     "output_type": "execute_result"
    }
   ],
   "source": [
    "transaction_id = sw.transaction.get(transaction_id=transaction_ids[0]['transaction_id'])\n",
    "transaction_id.get_properties()['status']"
   ]
  }
 ],
 "metadata": {
  "colab": {
   "collapsed_sections": [
    "RsZRzgQg_pWw"
   ],
   "name": "Copy of custom.ipynb",
   "provenance": []
  },
  "kernelspec": {
   "display_name": "custom_demo",
   "language": "python",
   "name": "custom_demo"
  },
  "language_info": {
   "codemirror_mode": {
    "name": "ipython",
    "version": 3
   },
   "file_extension": ".py",
   "mimetype": "text/x-python",
   "name": "python",
   "nbconvert_exporter": "python",
   "pygments_lexer": "ipython3",
   "version": "3.7.9"
  }
 },
 "nbformat": 4,
 "nbformat_minor": 5
}
